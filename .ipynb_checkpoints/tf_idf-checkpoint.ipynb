{
 "cells": [
  {
   "cell_type": "markdown",
   "id": "e3a6e9b9",
   "metadata": {},
   "source": [
    "## Introduction\n",
    "\n",
    "This notebook illustrates some basic document handling using [Spacy] (https://spacy.io/). Spacy is fast, and powerful, but not completely trivial to understand. There are though lots of useful resources, and the documentation is excellent.\n",
    "\n",
    "**The first block of our code simply sets things up - most important here is the language model that we use.**"
   ]
  },
  {
   "cell_type": "code",
   "execution_count": 1,
   "id": "d5a2314b",
   "metadata": {},
   "outputs": [],
   "source": [
    "import spacy #Our NLP tools\n",
    "from collections import Counter #We will use this to do simple counts of terms\n",
    "\n",
    "#Load a German language model to do German NLP - the models we use will influence our results a lot\n",
    "#nlp = spacy.load('de_core_news_md')\n",
    "#And an English language model for English\n",
    "nlp = spacy.load('en_core_web_sm')"
   ]
  },
  {
   "cell_type": "markdown",
   "id": "f7881385",
   "metadata": {},
   "source": [
    "Now we load a default list of stop words and print them out.\n",
    "\n",
    "Look through the list of stop words, and consider what issues they might cause if we are interested in spatial relationships?"
   ]
  },
  {
   "cell_type": "code",
   "execution_count": 2,
   "id": "0eac0b98",
   "metadata": {},
   "outputs": [
    {
     "name": "stdout",
     "output_type": "stream",
     "text": [
      "326\n",
      "{'indeed', 'been', 'go', 'seeming', 'around', 'from', 'hereupon', 'although', 'call', 'give', 'anyway', 'n’t', 'anywhere', 'they', 'myself', 'seems', 'via', 'but', 'please', 'together', 'though', \"'ve\", 'us', 'quite', 'whereafter', 'however', 'than', 'so', 'now', 'get', 'part', 'could', 'latterly', 'meanwhile', 'everywhere', 'by', 'regarding', 'whatever', 'elsewhere', 'per', '’m', 'as', 'show', 'a', 'these', 'say', 'anyone', 'which', 'forty', 'latter', 'where', 'towards', 'why', 'you', 'after', 'therein', 'other', 'two', 'does', 'hundred', 'empty', 'only', 'if', 'few', 'somehow', 'fifty', 'others', 'whence', 'fifteen', 'noone', '‘d', '‘ve', 'moreover', 'for', 'just', 'both', 'very', 'those', 'nobody', 'side', 'that', 'upon', 'rather', 'being', 'ten', 'me', 'various', 'otherwise', 'some', '’re', 'whether', 'himself', 'wherein', 'before', 'seemed', 'this', '’ll', 'ever', 'thus', 'between', 'serious', 'also', 'everything', 'over', 'was', 'in', 'amongst', 'former', 'sometime', 'sometimes', 'too', 'yourself', 'ourselves', 'alone', 'someone', 'do', 'move', 'would', 'take', 'neither', 'hereafter', 'eleven', 'most', '‘re', 'themselves', 'well', 're', 'once', 'out', 'used', 'often', 'always', 'your', 'hers', 'whoever', 'again', 'our', 'first', 'thereby', \"'m\", 'keep', 'he', 'never', 'another', 'behind', 'with', 'thence', 'yourselves', 'anything', 'and', 'her', 'made', 'six', 'namely', 'under', 'becomes', 'onto', 'throughout', 'up', 'herself', \"'ll\", 'whole', '‘ll', 'who', 'besides', 'the', 'its', 'herein', 'above', 'less', 'none', 'until', 'might', 'four', 'their', 'when', 'mine', 'can', 'unless', 'be', 'not', 'no', 'down', 'really', \"n't\", 'since', '’ve', 'back', 'beforehand', 'make', 'three', 'either', 'ca', 'twenty', 'see', 'have', 'same', 'him', 'hence', 'are', 'am', 'twelve', 'about', 'off', 'bottom', 'third', 'along', 'nine', 'whereas', 'may', 'cannot', 'much', 'mostly', 'to', 'because', \"'re\", 'we', 'full', 'should', 'amount', 'many', 'done', 'whereby', 'seem', 'here', 'eight', 'such', 'nothing', 'hereby', 'whereupon', 'else', 'my', 'how', 'did', 'all', 'front', '’s', 'beyond', 'put', 'becoming', 'five', 'nevertheless', 'at', 'while', 'using', 'across', '’d', 'almost', 'were', 'whither', 'next', 'one', 'without', 'among', 'through', 'within', 'nowhere', 'already', \"'s\", 'what', 'n‘t', 'i', 'she', 'due', 'perhaps', 'nor', 'last', 'ours', 'formerly', 'against', 'every', 'whose', 'doing', \"'d\", 'something', 'somewhere', 'wherever', 'became', 'must', 'it', 'whom', 'an', 'them', 'least', 'toward', 'any', 'has', 'will', 'become', 'thereafter', '‘m', 'below', 'top', 'is', 'afterwards', 'sixty', 'thereupon', '‘s', 'therefore', 'name', 'each', 'yours', 'thru', 'or', 'several', 'more', 'on', 'further', 'itself', 'everyone', 'beside', 'enough', 'his', 'into', 'during', 'still', 'even', 'whenever', 'had', 'there', 'except', 'then', 'yet', 'of', 'anyhow', 'own'}\n"
     ]
    }
   ],
   "source": [
    "# This block loads our stop words \n",
    "stopwords = nlp.Defaults.stop_words\n",
    "\n",
    "print(len(stopwords))\n",
    "print(stopwords)"
   ]
  },
  {
   "cell_type": "markdown",
   "id": "8e9226dc",
   "metadata": {},
   "source": [
    "This function calculates the term frequency for a given document. At the moment it removes stop words and punctuation and stores lemmas in the index. Experiment with changing this - what happens to the end results?"
   ]
  },
  {
   "cell_type": "code",
   "execution_count": 17,
   "id": "7aeb185c",
   "metadata": {},
   "outputs": [],
   "source": [
    "def tf(text):\n",
    "    doc = nlp(text)\n",
    "    n = len(doc)\n",
    "    \n",
    "    terms = [token.lemma_ for token in doc if not token.is_stop and not token.is_punct ]\n",
    "    tf = dict(Counter(terms))\n",
    "    \n",
    "    for term, count in tf.items():\n",
    "        tf[term] = count/n\n",
    "        \n",
    "    return tf"
   ]
  },
  {
   "cell_type": "markdown",
   "id": "46eff64c",
   "metadata": {},
   "source": [
    "This function calculates the document frequency - that means we run it once over our whole collection, and it only changes if we add new documents. It is important that it is consistent with our term frequency. If you change the way we calculate tf, you need to change, and recalculate df."
   ]
  },
  {
   "cell_type": "code",
   "execution_count": 18,
   "id": "5e7f1223",
   "metadata": {},
   "outputs": [],
   "source": [
    "import math\n",
    "def df(texts):\n",
    "    df = dict()\n",
    "    ndocs = len(texts)\n",
    "    for text in texts:\n",
    "        doc = nlp(text)\n",
    "        terms = [token.lemma_ for token in doc if not token.is_stop and not token.is_punct ]\n",
    "        tf = set(terms)\n",
    "        for t in tf:\n",
    "            if t in df:\n",
    "                count = df[t]\n",
    "                count = count + 1\n",
    "            else:\n",
    "                count = 1\n",
    "            df[t] = count/ndocs\n",
    "    for term, count in df.items():\n",
    "        df[term] = math.log10(ndocs/(count + 1))\n",
    "\n",
    "    return df"
   ]
  },
  {
   "cell_type": "markdown",
   "id": "1d17c91b",
   "metadata": {},
   "source": [
    "Now we can calculate tf idf values for our corpus - that means we have a score for every word in every document, that can then be used in ranking. "
   ]
  },
  {
   "cell_type": "code",
   "execution_count": 19,
   "id": "9eec5dc2",
   "metadata": {},
   "outputs": [],
   "source": [
    "def tfidf(corpus):\n",
    "    idf = df(list(corpus.values()))\n",
    "    results = {}\n",
    "    for id, text in corpus.items():                \n",
    "        t = tf(text)\n",
    "        scores = {}\n",
    "        for term in t:\n",
    "            scores[term] = t[term]*idf[term]\n",
    "        results[id] = scores\n",
    "    return results"
   ]
  },
  {
   "cell_type": "markdown",
   "id": "acd055d0",
   "metadata": {},
   "source": [
    "This our search algorithm. We take a query, and the tfidf scores, and rank each document according to its score."
   ]
  },
  {
   "cell_type": "code",
   "execution_count": 20,
   "id": "2108bbad",
   "metadata": {},
   "outputs": [],
   "source": [
    "def simpleSearch(query, weights):\n",
    "    q = nlp(query)\n",
    "    \n",
    "    #Iterate through each document and add its tf-idf score\n",
    "    results = {}\n",
    "    for id, scores in weights.items():\n",
    "        score = 0\n",
    "        for token in q:\n",
    "            if token.lemma_ in scores:\n",
    "                score = score + scores[token.lemma_]\n",
    "        results[id] = score\n",
    "    return results"
   ]
  },
  {
   "cell_type": "code",
   "execution_count": 21,
   "id": "2204d468",
   "metadata": {},
   "outputs": [
    {
     "name": "stdout",
     "output_type": "stream",
     "text": [
      "{1: 0.10045923649826893, 2: 0.20091847299653787, 3: 0.24110216759584546, 4: 0.12055108379792273, 5: 0}\n"
     ]
    }
   ],
   "source": [
    "corpus = {1:\"the cat sat on the mat\",\n",
    "          2:\"the dog played with the cat\",\n",
    "          3:\"the cat bit the dog\",\n",
    "          4:\"the boy was playing with the dog\",\n",
    "          5:\"the girl saw the cat biting the dog far away\"}\n",
    "\n",
    "weights = tfidf(corpus)\n",
    "\n",
    "results = simpleSearch('cat dog', weights)\n",
    "\n",
    "print(results)"
   ]
  },
  {
   "cell_type": "code",
   "execution_count": null,
   "id": "2f90f615",
   "metadata": {},
   "outputs": [],
   "source": []
  }
 ],
 "metadata": {
  "kernelspec": {
   "display_name": "Python 3 (ipykernel)",
   "language": "python",
   "name": "python3"
  },
  "language_info": {
   "codemirror_mode": {
    "name": "ipython",
    "version": 3
   },
   "file_extension": ".py",
   "mimetype": "text/x-python",
   "name": "python",
   "nbconvert_exporter": "python",
   "pygments_lexer": "ipython3",
   "version": "3.9.7"
  }
 },
 "nbformat": 4,
 "nbformat_minor": 5
}
