{
 "cells": [
  {
   "cell_type": "markdown",
   "id": "e3a6e9b9",
   "metadata": {},
   "source": [
    "## Introduction\n",
    "\n",
    "This notebook illustrates how we can compare documents using cosine similarity. It does so in two ways. \n",
    "\n",
    "The first example builds simple binary vectors for every document, with 1 if a word is present and 0 otherwise. We then calcuate cosine similarty using these vectors. We don't do this for all parts of speech, at the moment the code looks for nouns, verbs and adjectives.\n",
    "\n",
    "The second example calculates cosine similarity using Spacy's inbuilt function, which uses Word2Vec to compare similarity. This means that words with similar **context** (trained empirically) are more similar.\n",
    "\n",
    "**The program reads in data either from our geograph test data or a directory containing files to build a dataset. We can then extract a sample for comparisons**\n",
    "1) [Geograph](https://geograph.org.uk) \n",
    "This site invites users to take pictures in the UK and add descriptions. It has almost 7 million pictures, and the data are licenced using a CC By-SA licence, making them available for research as long as we keep the names of the users, and allow others to have access to any data we might create.\n",
    "\n",
    "**The first block of our code initialises libraries and reads in data. We only need to do this once.**"
   ]
  },
  {
   "cell_type": "code",
   "execution_count": 1,
   "id": "d5a2314b",
   "metadata": {},
   "outputs": [],
   "source": [
    "import OSGridConverter #To convert from =SGB36 to WGS84\n",
    "import pandas as pd #To use pandas for elegant data handling\n",
    "import spacy #Our NLP tools\n",
    "import matplotlib.pyplot as plt #To plot results\n",
    "from matplotlib.figure import Figure #To plot results\n",
    "from matplotlib.ticker import MaxNLocator #To plot results\n",
    "import numpy as np #To do some numerical things\n",
    "import scipy\n",
    "import sklearn\n",
    "from sklearn.metrics.pairwise import cosine_similarity\n",
    "import math # To calculate square root\n",
    "\n",
    "#import os #We import os to stop a weird kernel crash...\n",
    "#os.environ['KMP_DUPLICATE_LIB_OK']='TRUE'\n",
    "\n",
    "#Load a language model to do NLP\n",
    "nlp = spacy.load(\"en_core_web_md\") # We can't use the sm model here because it doesn't calculate token2vec"
   ]
  },
  {
   "cell_type": "code",
   "execution_count": 2,
   "id": "c78ff881",
   "metadata": {},
   "outputs": [
    {
     "name": "stdout",
     "output_type": "stream",
     "text": [
      "138639\n",
      "138362\n"
     ]
    },
    {
     "data": {
      "text/html": [
       "<div>\n",
       "<style scoped>\n",
       "    .dataframe tbody tr th:only-of-type {\n",
       "        vertical-align: middle;\n",
       "    }\n",
       "\n",
       "    .dataframe tbody tr th {\n",
       "        vertical-align: top;\n",
       "    }\n",
       "\n",
       "    .dataframe thead th {\n",
       "        text-align: right;\n",
       "    }\n",
       "</style>\n",
       "<table border=\"1\" class=\"dataframe\">\n",
       "  <thead>\n",
       "    <tr style=\"text-align: right;\">\n",
       "      <th></th>\n",
       "      <th>id</th>\n",
       "      <th>author</th>\n",
       "      <th>title</th>\n",
       "      <th>text</th>\n",
       "      <th>lon</th>\n",
       "      <th>lat</th>\n",
       "    </tr>\n",
       "  </thead>\n",
       "  <tbody>\n",
       "    <tr>\n",
       "      <th>0</th>\n",
       "      <td>2749148</td>\n",
       "      <td>M J Richardson</td>\n",
       "      <td>Great Blasket Island - 1960</td>\n",
       "      <td>Looking northeast along the northwestern side ...</td>\n",
       "      <td>-10.534101</td>\n",
       "      <td>52.097794</td>\n",
       "    </tr>\n",
       "    <tr>\n",
       "      <th>1</th>\n",
       "      <td>635105</td>\n",
       "      <td>Bob Shires</td>\n",
       "      <td>White Beach Great Blasket</td>\n",
       "      <td>The only beach on Great Blasket as seen from t...</td>\n",
       "      <td>-10.514872</td>\n",
       "      <td>52.107609</td>\n",
       "    </tr>\n",
       "    <tr>\n",
       "      <th>2</th>\n",
       "      <td>635109</td>\n",
       "      <td>Bob Shires</td>\n",
       "      <td>Remaining homes on Great Blasket</td>\n",
       "      <td>The remaining few habited homes of the abandon...</td>\n",
       "      <td>-10.511764</td>\n",
       "      <td>52.104260</td>\n",
       "    </tr>\n",
       "    <tr>\n",
       "      <th>3</th>\n",
       "      <td>259349</td>\n",
       "      <td>Nigel Cox</td>\n",
       "      <td>Coumeenoole Bay</td>\n",
       "      <td>Viewed looking back from the Dunmore Head head...</td>\n",
       "      <td>-10.463579</td>\n",
       "      <td>52.109322</td>\n",
       "    </tr>\n",
       "    <tr>\n",
       "      <th>4</th>\n",
       "      <td>16917</td>\n",
       "      <td>Pam Brophy</td>\n",
       "      <td>Clogher Beach</td>\n",
       "      <td>The exact gpr for this beach is Q3153003375. T...</td>\n",
       "      <td>-10.463338</td>\n",
       "      <td>52.157867</td>\n",
       "    </tr>\n",
       "  </tbody>\n",
       "</table>\n",
       "</div>"
      ],
      "text/plain": [
       "        id          author                             title  \\\n",
       "0  2749148  M J Richardson       Great Blasket Island - 1960   \n",
       "1   635105      Bob Shires         White Beach Great Blasket   \n",
       "2   635109      Bob Shires  Remaining homes on Great Blasket   \n",
       "3   259349       Nigel Cox                   Coumeenoole Bay   \n",
       "4    16917      Pam Brophy                     Clogher Beach   \n",
       "\n",
       "                                                text        lon        lat  \n",
       "0  Looking northeast along the northwestern side ... -10.534101  52.097794  \n",
       "1  The only beach on Great Blasket as seen from t... -10.514872  52.107609  \n",
       "2  The remaining few habited homes of the abandon... -10.511764  52.104260  \n",
       "3  Viewed looking back from the Dunmore Head head... -10.463579  52.109322  \n",
       "4  The exact gpr for this beach is Q3153003375. T... -10.463338  52.157867  "
      ]
     },
     "execution_count": 2,
     "metadata": {},
     "output_type": "execute_result"
    }
   ],
   "source": [
    "#Read in the geograph data\n",
    "geograph = pd.read_csv('./data/geograph_mini_corpus.csv')\n",
    "print(len(geograph))\n",
    "#Filter for odd values\n",
    "#geograph = geograph.drop(geograph[geograph.text.eq('')].index)\n",
    "geograph = geograph.drop(geograph[np.isnan(geograph.lon)].index)\n",
    "geograph = geograph.drop(geograph[np.isnan(geograph.lat)].index)\n",
    "print(len(geograph))\n",
    "geograph.head()\n",
    "\n"
   ]
  },
  {
   "cell_type": "markdown",
   "id": "04dc846e",
   "metadata": {},
   "source": [
    "This block shows how Word2Vec works in Spacy. Words similarities are calculated using context trained on empirical data. You can read more about Word2Vec here: https://code.google.com/archive/p/word2vec/"
   ]
  },
  {
   "cell_type": "code",
   "execution_count": 3,
   "id": "3acc01eb",
   "metadata": {
    "scrolled": true
   },
   "outputs": [
    {
     "name": "stdout",
     "output_type": "stream",
     "text": [
      "\tRoss\tlike\thill\tand\tmoun\tHe\thate\tpizz\tpast\tand\tfish\t\n",
      "Ross\t1.0\t\t\t\t\t\t\t\t\t\t\t\n",
      "like\t\t1.0\t\t\t\t0.37\t0.46\t\t\t\t\t\n",
      "hill\t\t\t1.0\t\t0.79\t\t\t\t\t\t\t\n",
      "and\t\t\t\t1.0\t0.3\t0.5\t\t\t\t1.0\t0.3\t\n",
      "moun\t\t\t0.79\t0.3\t1.0\t\t\t\t\t0.3\t\t\n",
      "He\t\t0.37\t\t0.5\t\t1.0\t0.48\t\t\t0.5\t\t\n",
      "hate\t\t0.46\t\t\t\t0.48\t1.0\t\t\t\t\t\n",
      "pizz\t\t\t\t\t\t\t\t1.0\t0.74\t\t0.38\t\n",
      "past\t\t\t\t\t\t\t\t0.74\t1.0\t\t0.43\t\n",
      "and\t\t\t\t1.0\t0.3\t0.5\t\t\t\t1.0\t0.3\t\n",
      "fish\t\t\t\t0.3\t\t\t\t0.38\t0.43\t0.3\t1.0\t\n"
     ]
    }
   ],
   "source": [
    "#First we demonstrate how similarity  works for individual tokens\n",
    "#Notice how words that mean the opposite are similar (hates/ likes) and how context matters (ands)\n",
    "doc = nlp(\"Ross likes hills and mountains. He hates pizza, pasta and fish.\")\n",
    "\n",
    "print('',end='\\t')\n",
    "for t in doc:\n",
    "    if not t.is_punct:\n",
    "        print(t.text[0:4], end='\\t')\n",
    "print()\n",
    "\n",
    "for t1 in doc:\n",
    "    if t1.is_punct:\n",
    "        continue\n",
    "    print(t1.text[0:4], end='\\t')\n",
    "    for t2 in doc:\n",
    "        if t2.is_punct:\n",
    "            continue\n",
    "        sim = round(t1.similarity(t2),2)\n",
    "        if sim > 0.3: #We use this line to out using a threshold\n",
    "            print(sim, end='\\t')\n",
    "        else:\n",
    "            print('', end='\\t')\n",
    "    print()\n",
    "\n",
    "\n"
   ]
  },
  {
   "cell_type": "markdown",
   "id": "f300b16f",
   "metadata": {},
   "source": [
    "Here we **draw a random sample of documents** from our corpus and analyse those data. We can rerun this block to build a new sample. The size of this sample can also be changed."
   ]
  },
  {
   "cell_type": "code",
   "execution_count": 4,
   "id": "e796bdd4",
   "metadata": {},
   "outputs": [],
   "source": [
    "#Now I am going to load a random sample of m documents and run the NER pipeline\n",
    "m = 10\n",
    "sample = geograph.sample(n = m)\n",
    "docs = list(nlp.pipe(sample.text, batch_size=100))"
   ]
  },
  {
   "cell_type": "markdown",
   "id": "f0479fc2",
   "metadata": {},
   "source": [
    "This code block only makes sense if documents have locations. It calculates all the pairwise distances, to allow us to test the hypothesis that document similarity is related to distance."
   ]
  },
  {
   "cell_type": "code",
   "execution_count": 5,
   "id": "42872640",
   "metadata": {},
   "outputs": [],
   "source": [
    "# We use this block to calculate the distances between all the documents\n",
    "# We are interested in finding out later if there is a relationship between distance and cosine similarity\n",
    "dists = [] \n",
    "a = sample.columns.get_loc('lon')\n",
    "b = sample.columns.get_loc('lat')\n",
    "\n",
    "for i in range(m):\n",
    "    lon1 = sample.iloc[i, a]\n",
    "    lat1 = sample.iloc[i, b]\n",
    "    for j in range(m):\n",
    "        lon2 = sample.iloc[j, a]\n",
    "        lat2 = sample.iloc[j, b]\n",
    "    #print(lon1, lat1, lon2, lat2)\n",
    "        try:\n",
    "            g1 = OSGridConverter.latlong2grid (lat1, lon1, tag = 'WGS84')\n",
    "            g2 = OSGridConverter.latlong2grid (lat2, lon2, tag = 'WGS84')\n",
    "            dist = math.sqrt((g1.N - g2.N)*(g1.N - g2.N) + (g1.E - g2.E)*(g1.E - g2.E))/1000\n",
    "        except ValueError:\n",
    "            dist = 1000 #This is an ugly fix - if the coordinates are dodgy, we assume the documents are far apart\n",
    "        dists.append(dist)"
   ]
  },
  {
   "cell_type": "markdown",
   "id": "16ce4c0b",
   "metadata": {},
   "source": [
    "Build a dictionary of terms in all our documents which we then use for building vectors for similarity comparisons."
   ]
  },
  {
   "cell_type": "code",
   "execution_count": 6,
   "id": "fcd50e29",
   "metadata": {},
   "outputs": [
    {
     "name": "stdout",
     "output_type": "stream",
     "text": [
      "['-', 'acorns', 'bears', 'cast', 'centre', 'city', 'clusters', 'cottage', 'cover', 'different', 'distance', 'electric', 'erected', 'fallen', 'felled', 'fence', 'few', 'field', 'fields', 'finest', 'forest', 'found', 'fungi', 'goes', 'growing', 'heading', 'hillside', 'http://www.geograph.org.uk/photo/575846', 'keep', 'lane', 'logged', 'logs', 'long', 'look', 'looking', 'many', 'mining', 'oak', 'part', 'path', 'paths', 'photographer', 'prettiest', 'process', 'reminiscent', 'right', 'road', 'see', 'seen', 'sessile', 'shadow', 'sheep', 'stacked', 'stalked', 'steep', 'time', 'town', 'tree', 'trees', 'tumulus', 'types', 'un', 'village', 'villages', 'ways', 'wheat', 'while']\n"
     ]
    }
   ],
   "source": [
    "#Create a list of all tokens we want to keep in our collection\n",
    "pos = set()\n",
    "for doc in docs:\n",
    "    for chunk in doc:        \n",
    "        for token in doc:\n",
    "            if token.pos_ == 'NOUN' or token.pos_ == 'ADJ' or token.pos_ == 'VERB': #Here we choose which parts of speech we keep\n",
    "                pos.add(token.text.lower())\n",
    "\n",
    "pos = (sorted(list(pos)))\n",
    "print(pos)"
   ]
  },
  {
   "cell_type": "code",
   "execution_count": 7,
   "id": "0d6bb7ad",
   "metadata": {
    "scrolled": false
   },
   "outputs": [],
   "source": [
    "#Create an empty data frame to store the term vectors we are going to build\n",
    "vectors = pd.DataFrame(0, sample.id, pos)\n",
    "\n",
    "#Build the binary vectors, iterating through each document\n",
    "i=0\n",
    "for doc in docs:\n",
    "    doc = list(map(str, doc))\n",
    "    for n in pos:\n",
    "        a = vectors.columns.get_loc(n)\n",
    "        if n in [x.lower() for x in list(doc)]:\n",
    "            vectors.iloc[i, a] = 1\n",
    "    i=i+1\n",
    "\n",
    "#print(vectors) #This is a term document indcidence matrix as we say earlier in the course"
   ]
  },
  {
   "cell_type": "markdown",
   "id": "7804b76f",
   "metadata": {},
   "source": [
    "Compare pairwise all documents using their binary term incidence matrices. Similar documents have cosine ~1, documents with no overlap have cosine = 0."
   ]
  },
  {
   "cell_type": "code",
   "execution_count": 8,
   "id": "2b09b985",
   "metadata": {
    "scrolled": false
   },
   "outputs": [
    {
     "name": "stdout",
     "output_type": "stream",
     "text": [
      "[[1.         0.         0.         0.         0.         0.\n",
      "  0.         0.         0.         0.16666667]\n",
      " [0.         1.         0.         0.         0.         0.\n",
      "  0.         0.         0.         0.        ]\n",
      " [0.         0.         1.         0.         0.         0.\n",
      "  0.         0.16012815 0.         0.        ]\n",
      " [0.         0.         0.         1.         0.         0.\n",
      "  0.         0.         0.         0.        ]\n",
      " [0.         0.         0.         0.         1.         0.\n",
      "  0.         0.         0.         0.        ]\n",
      " [0.         0.         0.         0.         0.         1.\n",
      "  0.         0.         0.         0.        ]\n",
      " [0.         0.         0.         0.         0.         0.\n",
      "  1.         0.0836242  0.         0.        ]\n",
      " [0.         0.         0.16012815 0.         0.         0.\n",
      "  0.0836242  1.         0.         0.        ]\n",
      " [0.         0.         0.         0.         0.         0.\n",
      "  0.         0.         1.         0.        ]\n",
      " [0.16666667 0.         0.         0.         0.         0.\n",
      "  0.         0.         0.         1.        ]]\n"
     ]
    },
    {
     "data": {
      "image/png": "[encoded data removed]",
      "text/plain": [
       "<Figure size 1440x1440 with 1 Axes>"
      ]
     },
     "metadata": {
      "needs_background": "light"
     },
     "output_type": "display_data"
    }
   ],
   "source": [
    "cosine = cosine_similarity(vectors) # We can calculate cosine using these binary vectors\n",
    "\n",
    "print(cosine)\n",
    "\n",
    "fig2 = plt.figure(figsize = (20,20)) # create a 5 x 5 figure \n",
    "ax = fig2.add_subplot(111)\n",
    "ax.imshow(cosine, interpolation='none')\n",
    "ax.set_title('Cosine similarity for documents')\n",
    "ax.yaxis.set_major_locator(MaxNLocator(integer=True))\n",
    "ax.xaxis.set_major_locator(MaxNLocator(integer=True))\n",
    "\n",
    "plt.show() #Plot the cosine similarity. Remember, the diagonal is 1 and the matrix is symmetric"
   ]
  },
  {
   "cell_type": "code",
   "execution_count": 9,
   "id": "47178105",
   "metadata": {},
   "outputs": [
    {
     "name": "stdout",
     "output_type": "stream",
     "text": [
      "This road is also part of the North Downs Way and Elham Valley Way (long distance paths) heading towards St.Martins Hill and onto Canterbury Cathedral in the city centre.\n",
      "\n",
      "Looking northwards along the village lane. The Daffodil Way goes down the path to the right.\n"
     ]
    }
   ],
   "source": [
    "#Look at content of potentially interesting documents\n",
    "a = sample.columns.get_loc('text')\n",
    "\n",
    "print(sample.iloc[8, a])\n",
    "print()\n",
    "print(sample.iloc[4, a])\n"
   ]
  },
  {
   "cell_type": "code",
   "execution_count": 10,
   "id": "56fbff61",
   "metadata": {},
   "outputs": [
    {
     "data": {
      "image/png": "[encoded data removed]",
      "text/plain": [
       "<Figure size 432x288 with 1 Axes>"
      ]
     },
     "metadata": {
      "needs_background": "light"
     },
     "output_type": "display_data"
    }
   ],
   "source": [
    "#This block plots violin plots of the cosine similarity as a function of distance\n",
    "classes = 5 #Change this value to modify the number of classes we plot\n",
    "m1 = min(dists)\n",
    "m2 = max(dists)\n",
    "step = (m2 - m1)/classes+1\n",
    "boxes = {}\n",
    "\n",
    "rows = len(cosine)\n",
    "cols = len(cosine[0])\n",
    "for i in range(rows):\n",
    "    for j in range(cols):\n",
    "        k = (cols * i) + j\n",
    "        if i is not j:\n",
    "            dist = dists[k]\n",
    "            cos = cosine[i][j]\n",
    "            box = int(dist/step)            \n",
    "            if box in boxes.keys():\n",
    "                boxes[box].append(cos)\n",
    "            else:\n",
    "                boxes[box] = [cos]\n",
    "   \n",
    "labels, data = sorted(boxes.keys()), boxes.values()\n",
    "\n",
    "plt.violinplot(data)\n",
    "plt.xticks(range(1, len(labels) + 1), labels)\n",
    "plt.show()"
   ]
  },
  {
   "cell_type": "markdown",
   "id": "3fef2800",
   "metadata": {},
   "source": [
    "Compare documents using word2vec. We can filter the documents so only some terms are used. Important to remember that this is still a bag of words approach."
   ]
  },
  {
   "cell_type": "code",
   "execution_count": 11,
   "id": "11cb825e",
   "metadata": {
    "scrolled": false
   },
   "outputs": [
    {
     "data": {
      "image/png": "[encoded data removed]",
      "text/plain": [
       "<Figure size 1440x1440 with 1 Axes>"
      ]
     },
     "metadata": {
      "needs_background": "light"
     },
     "output_type": "display_data"
    }
   ],
   "source": [
    "#Calculate similarity between documents using cosine similarity in Spacy (based on Word2Vec)\n",
    "cosine = [] \n",
    "#In this code we don't use all the words; we filter out entities, stop words and punctuation\n",
    "for doc1 in docs:\n",
    "    s1 = \" \".join([ent.text for ent in doc1 if not ent.ent_type_ if not ent.is_stop if not ent.is_punct]) \n",
    "    d1 = nlp(s1)    \n",
    "    sim = []\n",
    "    for doc2 in docs:\n",
    "        s2 = \" \".join([ent.text for ent in doc2 if not ent.ent_type_ if not ent.is_stop if not ent.is_punct])\n",
    "        d2 = nlp(s2)\n",
    "        value = d1.similarity(d2)\n",
    "        #value = doc1.similarity(doc2)\n",
    "        sim.append(value)\n",
    "    cosine.append(sim)\n",
    "    \n",
    "#Plot the similarity matrix again\n",
    "fig2 = plt.figure(figsize = (20,20)) # create a 5 x 5 figure \n",
    "ax = fig2.add_subplot(111)\n",
    "ax.imshow(cosine, interpolation='none')\n",
    "ax.set_title('Cosine similarity for documents')\n",
    "ax.yaxis.set_major_locator(MaxNLocator(integer=True))\n",
    "ax.xaxis.set_major_locator(MaxNLocator(integer=True))\n",
    "\n",
    "plt.show()"
   ]
  },
  {
   "cell_type": "code",
   "execution_count": 12,
   "id": "c56d209a",
   "metadata": {},
   "outputs": [
    {
     "name": "stdout",
     "output_type": "stream",
     "text": [
      "Trees in fields of wheat between Naunton and Hill Croome.\n",
      "\n",
      "Merthyr Mawr is one of the prettiest villages that I have seen in quite a while. This cottage is one of the finest.\n",
      "id                                                   117710\n",
      "author                                           Tony Atkin\n",
      "title                    The Flood Plain of the River Meavy\n",
      "text      The shadow over the field is cast by the steep...\n",
      "lon                                               -4.082967\n",
      "lat                                                50.47696\n",
      "Name: 27668, dtype: object\n"
     ]
    }
   ],
   "source": [
    "#Look at content of potentially interesting documents\n",
    "a = sample.columns.get_loc('text')\n",
    "\n",
    "print(sample.iloc[2, a])\n",
    "print()\n",
    "print(sample.iloc[5, a])\n",
    "\n",
    "print(sample.iloc[3])"
   ]
  },
  {
   "cell_type": "code",
   "execution_count": 13,
   "id": "2baaa4ed",
   "metadata": {},
   "outputs": [
    {
     "data": {
      "image/png": "[encoded data removed]",
      "text/plain": [
       "<Figure size 432x288 with 1 Axes>"
      ]
     },
     "metadata": {
      "needs_background": "light"
     },
     "output_type": "display_data"
    }
   ],
   "source": [
    "#This block plots violin plots of the cosine similarity as a function of distance\n",
    "classes = 5 #Change this value to modify the number of classes we plot\n",
    "m1 = min(dists)\n",
    "m2 = max(dists)\n",
    "step = (m2 - m1)/classes+1\n",
    "boxes = {}\n",
    "\n",
    "rows = len(cosine)\n",
    "cols = len(cosine[0])\n",
    "for i in range(rows):\n",
    "    for j in range(cols):\n",
    "        k = (cols * i) + j\n",
    "        if i is not j:\n",
    "            dist = dists[k]\n",
    "            cos = cosine[i][j]\n",
    "            box = int(dist/step)            \n",
    "            if box in boxes.keys():\n",
    "                boxes[box].append(cos)\n",
    "            else:\n",
    "                boxes[box] = [cos]\n",
    "   \n",
    "labels, data = sorted(boxes.keys()), boxes.values()\n",
    "\n",
    "plt.violinplot(data)\n",
    "plt.xticks(range(1, len(labels) + 1), labels)\n",
    "plt.show()"
   ]
  },
  {
   "cell_type": "code",
   "execution_count": 14,
   "id": "f27380bc",
   "metadata": {},
   "outputs": [],
   "source": [
    "#output all dependencies so that we can reproduce the notebook (we only need this to set things up for Binder)\n",
    "#%load_ext watermark\n",
    "#%watermark --iversions"
   ]
  }
 ],
 "metadata": {
  "kernelspec": {
   "display_name": "Python 3",
   "language": "python",
   "name": "python3"
  },
  "language_info": {
   "codemirror_mode": {
    "name": "ipython",
    "version": 3
   },
   "file_extension": ".py",
   "mimetype": "text/x-python",
   "name": "python",
   "nbconvert_exporter": "python",
   "pygments_lexer": "ipython3",
   "version": "3.8.8"
  }
 },
 "nbformat": 4,
 "nbformat_minor": 5
}
