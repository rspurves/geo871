{
 "cells": [
  {
   "cell_type": "markdown",
   "id": "e3a6e9b9",
   "metadata": {},
   "source": [
    "## Introduction\n",
    "\n",
    "This notebook illustrates how we can compare documents using cosine similarity. It does so in two ways. \n",
    "\n",
    "The first example builds simple binary vectors for every document, with 1 if a word is present and 0 otherwise. We then calcuate cosine similarty using these vectors. We don't do this for all parts of speech, at the moment the code looks for nouns, verbs and adjectives.\n",
    "\n",
    "The second example calculates cosine similarity using Spacy's inbuilt function, which uses Word2Vec to compare similarity. This means that words with similar **context** (trained empirically) are more similar.\n",
    "\n",
    "**The program reads in from Wikipedia places  to build a dataset. We can then extract a sample for comparisons**\n",
    "\n",
    "**The first block of our code initialises libraries and reads in data. We only need to do this once.**"
   ]
  },
  {
   "cell_type": "code",
   "execution_count": 1,
   "id": "d5a2314b",
   "metadata": {},
   "outputs": [],
   "source": [
    "import OSGridConverter #To convert from =SGB36 to WGS84\n",
    "import pandas as pd #To use pandas for elegant data handling\n",
    "import spacy #Our NLP tools\n",
    "import matplotlib.pyplot as plt #To plot results\n",
    "from matplotlib.figure import Figure #To plot results\n",
    "from matplotlib.ticker import MaxNLocator #To plot results\n",
    "import numpy as np #To do some numerical things\n",
    "import scipy\n",
    "import sklearn\n",
    "from sklearn.metrics.pairwise import cosine_similarity\n",
    "from sklearn.neighbors import DistanceMetric\n",
    "from math import radians\n",
    "import math # To calculate square root\n",
    "\n",
    "#import os #We import os to stop a weird kernel crash...\n",
    "#os.environ['KMP_DUPLICATE_LIB_OK']='TRUE'\n",
    "\n",
    "#Load a language model to do NLP\n",
    "nlp = spacy.load(\"en_core_web_md\") # We can't use the sm model here because it doesn't calculate token2vec"
   ]
  },
  {
   "cell_type": "code",
   "execution_count": 2,
   "id": "c78ff881",
   "metadata": {},
   "outputs": [
    {
     "name": "stdout",
     "output_type": "stream",
     "text": [
      "296695\n",
      "10000\n"
     ]
    }
   ],
   "source": [
    "#Read in the Wikipedia data\n",
    "wiki = pd.read_csv('./data/place-text.csv',sep='\\t')\n",
    "print(len(wiki))\n",
    "wiki.head()\n",
    "wiki = wiki.groupby(['id','lat','lon'])['text'].apply(lambda x: ','.join(x)).reset_index() # This groups individual paragraphs as articles\n",
    "\n",
    "print(len(wiki))"
   ]
  },
  {
   "cell_type": "markdown",
   "id": "f300b16f",
   "metadata": {},
   "source": [
    "Here we **draw a random sample of documents** from our corpus and analyse those data. We can rerun this block to build a new sample. The size of this sample can also be changed."
   ]
  },
  {
   "cell_type": "code",
   "execution_count": 3,
   "id": "e796bdd4",
   "metadata": {},
   "outputs": [],
   "source": [
    "#Now I am going to load a random sample of m documents and run the NER pipeline\n",
    "m = 25\n",
    "sample = wiki.sample(n = m)\n",
    "docs = list(nlp.pipe(sample.text, batch_size=100))"
   ]
  },
  {
   "cell_type": "markdown",
   "id": "d1115495",
   "metadata": {},
   "source": [
    "This code block only makes sense if documents have locations. It calculates all the pairwise distances, to allow us to test the hypothesis that document similarity is related to distance."
   ]
  },
  {
   "cell_type": "code",
   "execution_count": 4,
   "id": "42872640",
   "metadata": {},
   "outputs": [
    {
     "name": "stdout",
     "output_type": "stream",
     "text": [
      "[[    0.          1085.34630695  1018.41641251 10436.28846506\n",
      "   8433.28295112   689.24497848   826.57487062 12654.41017795\n",
      "   1826.52685972 10656.3753179    448.18390967  8131.48391067\n",
      "    506.6827664    563.76494135   128.88158786   171.10323512\n",
      "   6621.54612835   762.59854643   250.53134746 10678.18450858\n",
      "    382.70056811  6930.28567753  9582.00324592 15944.36038006\n",
      "    611.85621981]\n",
      " [ 1085.34630695     0.           643.22608683 11402.11908008\n",
      "   9380.18037017  1711.33765463   729.81265826 13263.4428575\n",
      "   1660.86323087 10703.38230113  1393.79867121  8238.6079615\n",
      "   1462.72974528  1605.95772064   980.77112076  1191.88857921\n",
      "   7661.49029431   703.07604084   876.71506464 10713.48687015\n",
      "   1446.31811602  7908.21742262  9826.17033948 15938.51994523\n",
      "   1607.69093934]\n",
      " [ 1018.41641251   643.22608683     0.         11442.76575262\n",
      "   8873.83007232  1434.44620929   220.33051238 13616.72926405\n",
      "   1048.46756368 11284.50324362  1111.44363055  7621.64548826\n",
      "   1170.70349462  1367.48592651   980.28737506  1031.14836232\n",
      "   7592.87779082   265.78229127   769.57309602 11297.61079561\n",
      "   1262.99744595  7937.3333025  10343.58621544 16551.60901433\n",
      "   1319.96343054]\n",
      " [10436.28846506 11402.11908008 11442.76575262     0.\n",
      "   6555.89596655 10072.70404982 11232.41033011  3653.53741644\n",
      "  11875.88351589  6665.52166844 10368.03273945 12544.96196528\n",
      "  10320.47342621 10108.3559456  10499.43949412 10411.68975143\n",
      "   3946.64240094 11177.85976039 10686.49556502  6731.96786507\n",
      "  10186.66602332  3506.06048414  5664.32732836  7531.41219762\n",
      "  10183.86752708]\n",
      " [ 8433.28295112  9380.18037017  8873.83007232  6555.89596655\n",
      "      0.          7744.34091238  8698.71281545 10016.5121492\n",
      "   8377.16985799 13048.85045772  8027.03722999  5994.32610724\n",
      "   7958.77434284  7869.90005571  8561.85089018  8278.53209257\n",
      "   5130.56472073  8703.41453577  8561.23021241 13118.88897647\n",
      "   8053.70044455  6000.27778607 11728.54440982 12822.23502109\n",
      "   7829.43453057]\n",
      " [  689.24497848  1711.33765463  1434.44620929 10072.70404982\n",
      "   7744.34091238     0.          1214.11668281 12582.32916685\n",
      "   1885.45412996 10980.9499013    327.76741136  7738.17107839\n",
      "    264.26793444   131.94065933   818.03627009   536.66384643\n",
      "   6180.7587933   1176.78532582   839.05671443 11009.06331622\n",
      "    316.78339282  6581.13192065  9804.49064179 16193.09439998\n",
      "    114.64449915]\n",
      " [  826.57487062   729.81265826   220.33051238 11232.41033011\n",
      "   8698.71281545  1214.11668281     0.         13463.10677759\n",
      "   1101.18609195 11240.98804735   891.3508045   7632.0617194\n",
      "    950.38702666  1147.97423176   805.37293227   822.50541083\n",
      "   7375.55680117    70.19996694   584.5978236  11256.47784311\n",
      "   1047.80183291  7727.88545285 10260.57528099 16527.8314053\n",
      "   1099.63978397]\n",
      " [12654.41017795 13263.4428575  13616.72926405  3653.53741644\n",
      "  10016.5121492  12582.32916685 13463.10677759     0.\n",
      "  14446.87208666  4061.52929977 12789.61390906 15765.16546746\n",
      "  12768.23553231 12561.35738963 12659.05816855 12708.74222123\n",
      "   7184.14013471 13394.17220384 12882.64836975  4106.07584936\n",
      "  12559.79463916  6426.98780945  3978.48740917  4127.79345789\n",
      "  12671.58408458]\n",
      " [ 1826.52685972  1660.86323087  1048.46756368 11875.88351589\n",
      "   8377.16985799  1885.45412996  1101.18609195 14446.87208666\n",
      "      0.         12331.38699401  1657.85226834  6578.95744011\n",
      "   1681.93626493  1892.32646934  1848.49415062  1749.69372197\n",
      "   7937.9718991   1169.34485337  1625.66760901 12345.07851401\n",
      "   1887.10642703  8419.68207348 11360.4807729  17597.29417173\n",
      "   1788.00202786]\n",
      " [10656.3753179  10703.38230113 11284.50324362  6665.52166844\n",
      "  13048.85045772 10980.9499013  11240.98804735  4061.52929977\n",
      "  12331.38699401     0.         11006.37194481 18559.53349094\n",
      "  11026.11222405 10889.27283191 10590.3758041  10790.9534811\n",
      "   8420.53021164 11175.94750666 10791.63969516    70.32028388\n",
      "  10782.93703005  7462.93927188  1525.52480538  5296.40356939\n",
      "  11012.81096312]\n",
      " [  448.18390967  1393.79867121  1111.44363055 10368.03273945\n",
      "   8027.03722999   327.76741136   891.3508045  12789.61390906\n",
      "   1657.85226834 11006.37194481     0.          7749.92245916\n",
      "     69.17614411   260.1216683    570.53791941   277.08803279\n",
      "   6490.5039518    851.26941111   534.72061632 11031.10184555\n",
      "    237.43097459  6869.72791914  9880.87294619 16268.29171018\n",
      "    216.65461939]\n",
      " [ 8131.48391067  8238.6079615   7621.64548826 12544.96196528\n",
      "   5994.32610724  7738.17107839  7632.0617194  15765.16546746\n",
      "   6578.95744011 18559.53349094  7749.92245916     0.\n",
      "   7722.51390528  7839.64584773  8211.00377772  7984.82443961\n",
      "  10266.92027084  7692.51728302  8024.58009275 18612.6580577\n",
      "   7962.4569776  11221.36016045 17055.36297682 15865.57647069\n",
      "   7718.57896231]\n",
      " [  506.6827664   1462.72974528  1170.70349462 10320.47342621\n",
      "   7958.77434284   264.26793444   950.38702666 12768.23553231\n",
      "   1681.93626493 11026.11222405    69.17614411  7722.51390528\n",
      "      0.           214.99638212   631.4201865    336.50734858\n",
      "   6437.31938835   912.5245922    603.47475877 11051.5333135\n",
      "    243.56788249  6824.23826119  9889.71301114 16279.41906887\n",
      "    150.79909261]\n",
      " [  563.76494135  1605.95772064  1367.48592651 10108.3559456\n",
      "   7869.90005571   131.94065933  1147.97423176 12561.35738963\n",
      "   1892.32646934 10889.27283191   260.1216683   7839.64584773\n",
      "    214.99638212     0.           692.05372466   419.02206759\n",
      "   6230.90807274  1105.03205071   729.7187363  10916.41776392\n",
      "    185.85137062  6610.84582623  9728.48546231 16119.37558808\n",
      "    124.49372168]\n",
      " [  128.88158786   980.77112076   980.28737506 10499.43949412\n",
      "   8561.85089018   818.03627009   805.37293227 12659.05816855\n",
      "   1848.49415062 10590.3758041    570.53791941  8211.00377772\n",
      "    631.4201865    692.05372466     0.           294.9860778\n",
      "   6702.92495959   737.56114787   224.92363714 10611.01862255\n",
      "    509.71991406  6994.38504895  9535.88559182 15883.54947505\n",
      "    740.30849019]\n",
      " [  171.10323512  1191.88857921  1031.14836232 10411.68975143\n",
      "   8278.53209257   536.66384643   822.50541083 12708.74222123\n",
      "   1749.69372197 10790.9534811    277.08803279  7984.82443961\n",
      "    336.50734858   419.02206759   294.9860778      0.\n",
      "   6570.66699413   766.2299781    316.15526014 10813.86776493\n",
      "    255.30991237  6906.46542766  9696.93540301 16071.37437578\n",
      "    449.86916462]\n",
      " [ 6621.54612835  7661.49029431  7592.87779082  3946.64240094\n",
      "   5130.56472073  6180.7587933   7375.55680117  7184.14013471\n",
      "   7937.9718991   8420.53021164  6490.5039518  10266.92027084\n",
      "   6437.31938835  6230.90807274  6702.92495959  6570.66699413\n",
      "      0.          7327.53910074  6866.33478566  8488.33309789\n",
      "   6330.62153754   957.67965418  6925.72809864 11297.32730952\n",
      "   6294.33599646]\n",
      " [  762.59854643   703.07604084   265.78229127 11177.85976039\n",
      "   8703.41453577  1176.78532582    70.19996694 13394.17220384\n",
      "   1169.34485337 11175.94750666   851.26941111  7692.51728302\n",
      "    912.5245922   1105.03205071   737.56114787   766.2299781\n",
      "   7327.53910074     0.           518.25648177 11191.73053211\n",
      "    997.31705006  7672.69540523 10191.79298959 16464.56250744\n",
      "   1062.79399297]\n",
      " [  250.53134746   876.71506464   769.57309602 10686.49556502\n",
      "   8561.23021241   839.05671443   584.5978236  12882.64836975\n",
      "   1625.66760901 10791.63969516   534.72061632  8024.58009275\n",
      "    603.47475877   729.7187363    224.92363714   316.15526014\n",
      "   6866.33478566   518.25648177     0.         10811.20309291\n",
      "    571.42539604  7180.45802921  9751.51427934 16087.35984753\n",
      "    740.56074445]\n",
      " [10678.18450858 10713.48687015 11297.61079561  6731.96786507\n",
      "  13118.88897647 11009.06331622 11256.47784311  4106.07584936\n",
      "  12345.07851401    70.32028388 11031.10184555 18612.6580577\n",
      "  11051.5333135  10916.41776392 10611.01862255 10813.86776493\n",
      "   8488.33309789 11191.73053211 10811.20309291     0.\n",
      "  10808.51486571  7530.78672232  1588.78663334  5278.00627858\n",
      "  11039.79077953]\n",
      " [  382.70056811  1446.31811602  1262.99744595 10186.66602332\n",
      "   8053.70044455   316.78339282  1047.80183291 12559.79463916\n",
      "   1887.10642703 10782.93703005   237.43097459  7962.4569776\n",
      "    243.56788249   185.85137062   509.71991406   255.30991237\n",
      "   6330.62153754   997.31705006   571.42539604 10808.51486571\n",
      "      0.          6683.68368479  9647.44649893 16036.55344415\n",
      "    267.50280495]\n",
      " [ 6930.28567753  7908.21742262  7937.3333025   3506.06048414\n",
      "   6000.27778607  6581.13192065  7727.88545285  6426.98780945\n",
      "   8419.68207348  7462.93927188  6869.72791914 11221.36016045\n",
      "   6824.23826119  6610.84582623  6994.38504895  6906.46542766\n",
      "    957.67965418  7672.69540523  7180.45802921  7530.78672232\n",
      "   6683.68368479     0.          5970.23985947 10554.44505892\n",
      "   6690.72222216]\n",
      " [ 9582.00324592  9826.17033948 10343.58621544  5664.32732836\n",
      "  11728.54440982  9804.49064179 10260.57528099  3978.48740917\n",
      "  11360.4807729   1525.52480538  9880.87294619 17055.36297682\n",
      "   9889.71301114  9728.48546231  9535.88559182  9696.93540301\n",
      "   6925.72809864 10191.79298959  9751.51427934  1588.78663334\n",
      "   9647.44649893  5970.23985947     0.          6391.04307807\n",
      "   9852.91588931]\n",
      " [15944.36038006 15938.51994523 16551.60901433  7531.41219762\n",
      "  12822.23502109 16193.09439998 16527.8314053   4127.79345789\n",
      "  17597.29417173  5296.40356939 16268.29171018 15865.57647069\n",
      "  16279.41906887 16119.37558808 15883.54947505 16071.37437578\n",
      "  11297.32730952 16464.56250744 16087.35984753  5278.00627858\n",
      "  16036.55344415 10554.44505892  6391.04307807     0.\n",
      "  16243.76534595]\n",
      " [  611.85621981  1607.69093934  1319.96343054 10183.86752708\n",
      "   7829.43453057   114.64449915  1099.63978397 12671.58408458\n",
      "   1788.00202786 11012.81096312   216.65461939  7718.57896231\n",
      "    150.79909261   124.49372168   740.30849019   449.86916462\n",
      "   6294.33599646  1062.79399297   740.56074445 11039.79077953\n",
      "    267.50280495  6690.72222216  9852.91588931 16243.76534595\n",
      "      0.        ]]\n"
     ]
    }
   ],
   "source": [
    "# We use this block to calculate the distances between all the documents\n",
    "# We are interested in finding out later if there is a relationship between distance and cosine similarity\n",
    "dist = DistanceMetric.get_metric('haversine')\n",
    "\n",
    "sample['lat'] = np.radians(sample['lat'])\n",
    "sample['lon'] = np.radians(sample['lon'])\n",
    "dists = dist.pairwise(sample[['lat','lon']].to_numpy())*6373\n",
    "\n",
    "print(dists)"
   ]
  },
  {
   "cell_type": "markdown",
   "id": "6f4b65fb",
   "metadata": {},
   "source": [
    "Build a dictionary of terms in all our documents which we then use for building vectors for similarity comparisons."
   ]
  },
  {
   "cell_type": "code",
   "execution_count": 5,
   "id": "fcd50e29",
   "metadata": {
    "scrolled": false
   },
   "outputs": [
    {
     "name": "stdout",
     "output_type": "stream",
     "text": [
      "['#', '%', '+', ',same', '-', '.', '13th', '15m', '1760', '1891.,effort', '18th', '1900', '1939–45', '1940', '1950', '1960', '1970', '1980', '1988.,voter', '1990', '2009.,<w', '20th', '21st', '28th', '295th', '312th', '31ff', '33rd', '3check_isbn', '41st', '68th', '7check_isbn', '95.5', 'BSk', 'People', 'a.', 'abidjan.svg\">location', 'ablution', 'abolitionism', 'abolitionist', 'abundance', 'accelerator', 'access', 'accolade', 'accommodation', 'accordance', 'acquisition', 'acre', 'acronym', 'act', 'activation', 'activist', 'activity', 'actor', 'actress', 'addition', 'address', 'adherent', 'administration', 'administrator', 'adolescent', 'adult', 'advantage', 'advent', 'adventure', 'advice', 'adviser', 'advisor', 'advocate', 'aegis', 'affiliate', 'affiliation', 'affordability', 'aftermath', 'afternoon', 'age', 'agency', 'agent', 'agreement', 'agriculture', 'aid', 'air', 'aircraft', 'airline', 'airport', 'album', 'alignment', 'allegiance', 'altoid', 'aluminum', 'alumnus', 'am', 'amateur', 'ambition', 'ambulance', 'amount', 'amusement', 'analysis', 'anarchist', 'ancestry', 'animal', 'anniversary', 'announcer', 'anthem', 'anthology', 'antique', 'apartment', 'apostle', 'application', 'aqueduct', 'arboretum', 'arch', 'architect', 'architecture', 'archive', 'are:,surakarta', 'area', 'arena', 'arm', 'army', 'arrangement', 'array', 'arrest', 'arrival', 'art', 'artefact', 'article', 'artifact', 'artillery', 'artist', 'asherie', 'assassin', 'assassination', 'assembly', 'assessment', 'assistance', 'associate', 'association', 'athlete', 'athletic', 'attack', 'attempt', 'attendance', 'attendee', 'attention', 'attorney', 'attraction', 'auction', 'audience', 'auditorium', 'aunt', 'auspex', 'author', 'authority', 'auto', 'automobile', 'autumn', 'average', 'aviator', 'award', 'axis', 'b', 'bachelor', 'back', 'backdrop', 'backer', 'background', 'baking', 'ball', 'ballfield', 'balloon', 'ballot', 'ballpark', 'ballplayer', 'banana', 'band', 'banditry', 'bank', 'bar', 'barbecue', 'barber', 'barn', 'barrier', 'bascule', 'base', 'baseball', 'basement', 'basin', 'basis', 'basketball', 'bat', 'bath', 'batik', 'batiks', 'baton', 'battle', 'beach', 'beachgoer', 'bean', 'bear\"', 'beat', 'beauty', 'bed', 'bedroom', 'beer', 'beginning', 'being', 'benefit', 'bergamot', 'beverage', 'bicycle', 'bid', 'bike', 'biking', 'biographer', 'birth', 'birthplace', 'black', 'blacksmith', 'blend', 'bleue', 'block', 'blow', 'blue', 'bluegrass', 'board', 'boat', 'bocce', 'body', 'bond', 'book', 'boom', 'border', 'borough', 'bot', 'bottling', 'bottom', 'boulevard', 'boundary', 'boutique', 'box', 'boxer', 'boxing', 'brain', 'branch', 'brand', 'break', 'breath', 'brick', 'bridge', 'bridge.jpg\">bridge', 'bridgehead', 'broadband', 'broadcasting', 'brochure', 'bronze', 'brook', 'brother', 'brunch', 'brutto', 'buckle', 'budget', 'builder', 'building', 'bulk', 'burial', 'burner', 'bus', 'business', 'buyer', 'bypass', 'c.', 'c.1942', 'cabin', 'cable', 'cafe', 'cafés', 'cake', 'camat', 'camera', 'camp', 'campaign', 'camping', 'campus', 'canal', 'cancer', 'candidate', 'candlelight', 'candy', 'cannonball', 'canopy', 'canvas', 'canyon', 'cap', 'capability', 'capacity', 'capita', 'capital', 'capitalism', 'capitalist', 'captain', 'capture', 'car', 'care', 'career', 'cargo', 'cascade', 'case', 'cast', 'castor', 'catamaran', 'cataract', 'category', 'cathedral', 'cause', 'cavern', 'celadon', 'celebration', 'celebrity', 'celsius', 'cement', 'cemetery', 'census', 'center', 'centerpiece', 'centre', 'century', 'ceo', 'ceramic', 'ceramics', 'ceremony', 'chain', 'chairman', 'challenge', 'champion', 'championship', 'chan', 'change', 'channel', 'characteristic', 'charge', 'charity', 'charm', 'charter', 'chattanooga', 'cheese', 'chemical', 'chief', 'child', 'childhood', 'chimney', 'chipboard', 'chloral', 'chlorine', 'choice', 'church', 'circle', 'circus', 'citation', 'citico', 'citizen', 'city', 'claim', 'class', 'classification', 'classroom', 'cleaning', 'clergyman', 'clerk', 'clientele', 'climate', 'climbing', 'clinic', 'clock', 'closure', 'cloth', 'clothe', 'clothing', 'cloverleaf', 'club', 'co', 'coach', 'coast', 'coat', 'coauthor', 'cocaine', 'cocoa', 'coconut', 'code', 'codivoire.jpg\">seat', 'coffee', 'collaboration', 'collaborator', 'collar', 'collection', 'college', 'colonial', 'colonist', 'colonized', 'colony', 'color', 'colour', 'comedy', 'command', 'commerce', 'commission', 'committee', 'commune', 'communication', 'community', 'commute', 'commuter', 'company', 'competition', 'competitor', 'completion', 'complex', 'composer', 'compound', 'concentration', 'concert', 'concession', 'condition', 'conductor', 'conference', 'conflict', 'congregation', 'connection', 'consensus', 'consent', 'consequence', 'consolidation', 'constraint', 'construction', 'container', 'content', 'context', 'contract', 'contradiction', 'contrast', 'contribution', 'contributor', 'control', 'controversy', 'convention', 'conversion', 'convert', 'conviction', 'cooper', 'cooperative', 'coord', 'cops', 'core', 'corn', 'corncob', 'corner', 'cornerback', 'cornerstone', 'corporation', 'corruption', 'cost', 'cotton', 'council', 'councilor', 'count', 'counter', 'counterterrorism', 'country', 'countryside', 'county', 'county).,in', 'countywide', 'countywide).,in', 'couple', 'court', 'courthouse', 'cow', 'cr', 'cradle', 'crash', 'creation', 'creator', 'creek', 'crew', 'crime', 'crisis', 'cropped).jpg\">part', 'crossroad', 'crowd', 'culture', 'culvert', 'currency', 'curve', 'custom', 'customer', 'cut', 'cycle', 'cycling', 'cyclist', 'daily', 'dairy', 'dam', 'damage', 'dance', 'database', 'date', 'datum', 'daughter', 'day', 'day,(tzom', 'daytime', 'de', 'deal', 'dealer', 'dean', 'death', 'debt', 'debut', 'decade', 'decision', 'decline', 'decoration', 'decree', 'defeat', 'defense', 'defenseman', 'deficit', 'defile', 'definition', 'degradation', 'degree', 'delegation', 'demand', 'demonstration', 'demonstrator', 'den', 'denomination', 'density', 'department', 'deployment', 'depot', 'depth', 'dermatology', 'descent', 'design', 'designation', 'designer', 'desire', 'destination', 'destruction', 'detail', 'detection', 'detector', 'development', 'diagnosis', 'diagnostic', 'dialect', 'diamond', 'difficulty', 'digit', 'diocese', 'diorama', 'diploma', 'diplomat', 'direction', 'director', 'directory', 'disability', 'disaster', 'disbandment', 'disc', 'discipline', 'discothèque', 'discussion', 'disease', 'disinfection', 'displacement', 'display', 'disrepair', 'disruption', 'dissolution', 'distance', 'distribution', 'distributor', 'district', 'diva', 'diver', 'diversion', 'diversity', 'divinity', 'division', 'djan', 'docking', 'doctor', 'document', 'documentary', 'documentation', 'dog', 'dollar', 'dolphin', 'domain', 'domestication', 'donation', 'door', 'downtown', 'downturn', 'dozen', 'drain', 'drama', 'draught', 'dressage', 'drinking', 'drive', 'driver', 'drug', 'drummer', 'dryness', 'duchy', 'dulcimer', 'duo', 'duty', 'dweller', 'dwelling', 'dynamo', 'dynasty', 'd’ivoire', 'earth', 'east', 'east:,<w', 'economist', 'economy', 'ed', 'edge', 'edition', 'editor', 'editorial', 'education', 'educator', 'effect', 'effort', 'eh’häusl', 'eighteen', 'election', 'electorate', 'electricity', 'electrification', 'element', 'elephant', 'elevation', 'embassy', 'emergency', 'emigrant', 'emigration', 'employee', 'employer', 'employment', 'enclave', 'end', 'energy', 'engagement', 'engine', 'engineer', 'enroll', 'enrollment', 'entertainment', 'entity', 'entrance', 'entrepreneur', 'entry', 'enumeration', 'environ', 'epb.,beginning', 'epidemic', 'episode', 'equipment', 'era', 'error', 'esplanade', 'essayist', 'establishment', 'estimate', 'ethnicity', 'evening', 'event', 'ever', 'exam', 'examination', 'example', 'excellence', 'exception', 'exchange', 'excitement', 'execution', 'executive', 'exhibit', 'exhibition', 'exile', 'existence', 'exit', 'expanse', 'expansion', 'expatriate', 'expedition', 'expenditure', 'experience', 'experiment', 'explorer', 'explosion', 'export', 'exportation', 'expressway', 'expulsion', 'extension', 'extent', 'eye', 'face', 'facility', 'fact', 'factory', 'fall', 'fame', 'family', 'fan', 'fanico', 'fantasy', 'fare', 'farm', 'farmer', 'farming', 'fashion', 'fatality', 'father', 'fault', 'favor', 'favorite', 'feature', 'fee', 'feeder', 'feedstock', 'feel', 'fellowship', 'female', 'fence', 'ferry', 'festival', 'fever', 'fiber', 'fiction', 'fiddle', 'field', 'fight', 'fighting', 'figure', 'file', 'film', 'filmmaker', 'final', 'financing', 'fire', 'firearm', 'firefighter', 'firewood', 'firework', 'firm', 'fishing', 'flag', 'flame', 'fledgling', 'flight', 'flood', 'flooding', 'floor', 'flower', 'folk', 'folklore', 'follower', 'following', 'food', 'foot', 'footage', 'football', 'footballer', 'foothill', 'foothold', 'force', 'foreground', 'foreigner', 'forest', 'form', 'formation', 'fort', 'fortification', 'fortune', 'founder', 'founding', 'fourth', 'framebuilder', 'franc', 'franchise', 'fraud', 'freelance', 'freight', 'frequency', 'freshwater', 'friday', 'friend', 'friendship', 'fruit', 'fuel', 'fun', 'function', 'fund', 'funding', 'funicular', 'funk', 'furnace', 'future', 'gala', 'gallery', 'game', 'gap', 'garbage', 'garden', 'garret', 'gas', 'gate', 'gateway', 'gather', 'gauge', 'gendarmerie', 'gender', 'general', 'generation', 'genre', 'gentleman', 'gentrification', 'gigabit', 'glamour', 'glioblastoma', 'glove', 'go', 'goal', 'goat', 'gold', 'golf', 'good', 'gospel', 'government', 'governor', 'grade', 'graduate', 'graffiti', 'grain', 'grandeur', 'grandson', 'grant', 'grassland', 'gravel', 'green', 'greenway', 'grid', 'grist', 'gristmill', 'grocery', 'ground', 'groundbreaking', 'group', 'growth', 'guaguas', 'guard', 'guest', 'guide', 'guitarist', 'gunman', 'gutter', 'half', 'hall', 'hammer', 'hammerhead', 'hand', 'handball', 'handcycling', 'handful', 'handle', 'handling', 'harbour', 'harnessing', 'harp', 'hat', 'haven', 'hazard', 'head', 'headline', 'headquarter', 'headquarters', 'health', 'healthcare', 'heart', 'heat', 'hectare', 'height', 'heir', 'help', 'heritage', 'heyday', 'hierarchy', 'high', 'highway', 'hiking', 'hill', 'hinterland', 'hip', 'hispanic', 'historian', 'history', 'hitter', 'hockey', 'holder', 'holiday', 'home', 'hometown', 'honey', 'honor', 'honour', 'hooch', 'hop', 'hope', 'horror', 'horse', 'hospital', 'host', 'hotel', 'hour', 'house', 'household', 'householder', 'housing', 'hub', 'humidity', 'hundred', 'hunting', 'husband', 'hymn', 'i', 'i-95', 'ice', 'icon', 'icon.svg\">class', 'idea', 'idealism', 'identity', 'idr', 'image', 'imagination', 'imitation', 'immigrant', 'immigration', 'immortality', 'impact', 'implementation', 'import', 'importance', 'impressiveness', 'improvement', 'in', 'inception', 'inch', 'income', 'incorporation', 'increase', 'incubator', 'incumbent', 'independence', 'index', 'indication', 'indicator', 'individual', 'industrialisation', 'industrialist', 'industry', 'inflation', 'influx', 'info', 'information', 'infrastructure', 'inhabitant', 'initial', 'initiative', 'injury', 'inmate', 'innovation', 'inroad', 'instability', 'installation', 'institution', 'instrument', 'insurance', 'insurgency', 'interchange', 'interconnection', 'interest', 'interior', 'internet', 'internment', 'intersect', 'intersection', 'interstate', 'interview', 'introduction', 'inventor', 'investigation', 'investment', 'investor', 'invitation', 'iron', 'issue', 'item', 'ivory', 'jail', 'jazz', 'jersey.jpg\">paterson', 'jet', 'jetty', 'jewel', 'jewellery', 'jewelry', 'jitney', 'job', 'jobs\"', 'joint', 'journalist', 'journey', 'judge', 'jumping', 'junction', 'junior', 'jurisdiction', 'justice', 'katedra', 'kayaking', 'kelurahan', 'keraton', 'kid', 'kiln', 'kilometre', 'kind', 'kindergarten', 'king', 'km', 'km²', 'knot', 'l', 'lab', 'labor', 'laborer', 'lack', 'lagoon', 'lake', 'lamb', 'lamp', 'land', 'landfill', 'landmark', 'landowner', 'landscape', 'lane', 'language', 'laser', 'launch', 'laundry', 'law', 'laxity', 'layoff', 'layout', 'leader', 'leadership', 'league', 'learning', 'leash', 'leave', 'lecture', 'ledge', 'legend', 'legislation', 'legislature', 'leisure', 'lesson', 'level', 'library', 'licence', 'life', 'lift', 'light', 'lighthouse', 'lighting', 'lightning', 'limelight', 'limestone', 'limit', 'line', 'linebacker', 'link', 'list', 'literacy', 'literate', 'literature', 'livability', 'living', 'load', 'local', 'locale', 'locality', 'location', 'lock', 'locomotive', 'log', 'look', 'loop', 'looting', 'loss', 'lot', 'low', 'luggage', 'lumber', 'lurah', 'luxury', 'lyric', 'm', \"m'bidjan\", 'machine', 'machinery', 'magazine', 'magnate', 'magnet', 'mahogany', 'main', 'maincheck.</w>,train', 'mainland', 'maintenance', 'majority', 'makeover', 'maker', 'makeup', 'male', 'mall', 'man', 'management', 'manager', 'mandate', 'manganese', 'mango', 'mansion', 'manufacture', 'manufacturer', 'manufacturing', 'manuscript', 'map', 'maquis', 'marathon', 'marble', 'marcory', 'margin', 'mark', 'market', 'marriage', 'martyr', 'maser', 'mask', 'massacre', 'master', 'match', 'material', 'mathematic', 'mathematician', 'maximum', 'mayor', 'mean', 'meat', 'mecca', 'medal', 'medallion', 'media', 'median', 'medicine', 'medium', 'meet', 'meeting', 'megabit', 'melting', 'member', 'memorabilia', 'memorial', 'memory', 'merchant', 'merger', 'merging', 'merit', 'metal', 'meter', 'method', 'metre', 'metro', 'mezzo', 'mid', 'mid-1950', 'mid-1970', 'middle', 'midfielder', 'migrant', 'migration', 'mile', 'militant', 'mill', 'milling', 'million', 'millworkers-1910.jpg\">child', 'mime', 'min', 'mining', 'minister', 'minority', 'mint', 'mission', 'misunderstanding', 'mix', 'mm', 'mob', 'model', 'modernity', 'moisture', 'moment', 'monarch', 'monastery', 'monsoon', 'monster', 'month', 'monument', 'mood', 'morning', 'mosque', 'mother', 'motherhood', 'motherland', 'motorcycle', 'motorist', 'mound', 'mountain', 'mouth', 'movement', 'movie', 'municipality', 'municipally', 'murder', 'museum', 'music', 'musical', 'musician', 'mystery', 'name', 'namesake', 'namespace=\"file', 'naming', 'nation', 'native', 'navy', 'ndombolo', 'need', 'neglect', 'negligence', 'negotiation', 'neighbor', 'neighborhood', 'neighboring', 'nerve', 'network', 'neutrino', 'newcomer', 'news', 'newspaper', 'nickname', 'night', 'nightlife', 'nighttime', 'no', 'node', 'nomination', 'non', 'none', 'north', 'northeast', 'northwest', 'notice', 'novel', 'ns', 'nucleus', 'number', 'nys&w', 'observation', 'observer', 'occasion', 'occupation', 'ocean', 'offender', 'offensive', 'offering', 'office', 'officer', 'official', 'oil', 'old', 'one', 'onepage&q=&f', 'online', 'onstage', 'opening', 'opera', 'operating', 'operation', 'operator', 'opportunity', 'optic', 'optometry', 'orange', 'orchestra', 'order', 'ordinance', 'ore', 'organ', 'organisation', 'organist', 'organization', 'organizer', 'origin', 'other', 'ouster', 'outbreak', 'outcry', 'outflow', 'outlet', 'outskirt', 'over', 'overhaul', 'owner', 'ownership', 'p.', 'p.r.', 'p69', 'packaging', 'pact', 'pad', 'paddler', 'page', 'page=11', 'page=56', 'page=59', 'page=62', 'pair', 'palace', 'palm', 'paper', 'par', 'parade', 'parcel', 'parent', 'park', 'parking', 'parliament', 'part', 'participant', 'participation', 'partnership', 'party', 'passenger', 'past', 'patch', 'patent', 'pathway', 'patient', 'patrol', 'pattern', 'pavement', 'pdci', 'peacekeeper', 'peacekeeping', 'peach', 'peak', 'pear', 'pedestrian', 'pediatric', 'peninsula', 'people', 'percent', 'percentage', 'performance', 'performer', 'period', 'permission', 'person', 'personality', 'petition', 'petroleum', 'pharmacopoeia', 'pharmacy', 'phase', 'phenomenon', 'philanthropist', 'phone', 'photo', 'photograph', 'physician', 'physicist', 'picture', 'pier', 'pile', 'pilgrimage', 'pineapple', 'pioneer', 'pipe', 'pipeline', 'pirate', 'pitcher', 'place', 'placement', 'plague', 'plain', 'plan', 'plan,*working', 'planner', 'planning', 'plant', 'plantation', 'planting', 'plaque', 'platform', 'play', 'player', 'playground', 'playing', 'playoff', 'playwright', 'plot', 'pluralism', 'plywood', 'poem', 'poet', 'poetry', 'point', 'pointing', 'pole', 'police', 'policy', 'politic', 'politician', 'pollutant', 'polluter', 'polo', 'polygon', 'pond', 'pony', 'pool', 'pop', 'popularity', 'population', 'porcelain', 'port', 'portal', 'portion', 'portrayal', 'position', 'possession', 'possibility', 'post', 'postmaster', 'pot', 'pottery', 'poverty', 'pow', 'power', 'pp', 'practice', 'pre', 'precipitation', 'prefecture', 'prek-12).,as', 'prelude', 'preparation', 'preschool', 'presence', 'present', 'preserve', 'presidency', 'president', 'press', 'price', 'principal', 'principle', 'printing', 'priority', 'prison', 'prisoner', 'privilege', 'prize', 'problem', 'processing', 'produce', 'producer', 'product', 'production', 'profession', 'professional', 'professor', 'profile', 'program', 'project', 'proliferation', 'promoter', 'pronunciation', 'propaganda', 'property', 'prophesy', 'proportion', 'prosperity', 'prostitute', 'prostitution', 'protagonist', 'protest', 'provider', 'province', 'proximity', 'psychology', 'public', 'publication', 'publicity', 'publishe', 'publisher', 'purpose', 'pursuit', 'purview', 'quality', 'quarry', 'quarter', 'quarterback', 'question', 'r', 'r&b', 'race', 'racer', 'racetrack', 'raceway', 'racing', 'radio', 'rafting', 'raider', 'rail', 'railbus', 'railbuse', 'railfan', 'railroad', 'railway', 'rain', 'rainfall', 'rainforest', 'raising', 'rally', 'ramp', 'range', 'rape', 'rapid', 'rapper', 'rate', 'ratio', 'rda', 're', 'readiness', 'reality', 'reapportionment', 'rear', 'reason', 'rebellion', 'rebirth', 'receiver', 'recipient', 'recital', 'reclaiming', 'reconstruction', 'record', 'recording', 'recreation', 'red', 'redevelopment', 'reference', 'referendum', 'refinery', 'refining', 'reform', 'reformer', 'refuge', 'refugee', 'regatta', 'regency', 'reggae', 'region', 'regulating', 'regulation', 'rehabilitation', 'relationship', 'relic', 'religion', 'relocation', 'reluctance', 'remainder', 'rematch', 'remnant', 'renewal', 'renovation', 'reorganization', 'repair', 'repaving', 'repeal', 'report', 'representation', 'representative', 'reprisal', 'republic', 'reputation', 'requirement', 'rescue', 'research', 'reservation', 'reserve', 'reservoir', 'residence', 'residency', 'resident', 'resistance', 'resort', 'resource', 'responsibility', 'rest', 'restaurant', 'resting', 'restoration', 'result', 'resurgence', 'resurrection', 'retailer', 'retaliation', 'return', 'revenue', 'revitalization', 'revolution', 'revolver', 'rice', 'ride', 'ridge', 'right', 'rink', 'riot', 'rip', 'rise', 'risk', 'rival', 'rivalry', 'river', 'riverbed', 'riverfront', 'road', 'roadblock', 'roadway', 'robotic', 'rock', 'rod', 'rodeo', 'role', 'roll', 'roof', 'room', 'root', 'round', 'route', 'routine', 'routing', 'rowing', 'rubber', 'rug', 'rugby', 'ruin', 'rule', 'ruler', 'rumba', 'run', 'running', 'rush', 's', 'safety', 'sailor', 'sale', 'salon', 'sample', 'sanctuary', 'sand', 'sanitary', 'sanitation', 'satellite', 'sawmill', 'scene', 'schedule', 'scheme', 'school', 'science', 'scope', 'score', 'scow', 'screenplay', 'sea', 'seaport', 'search', 'season', 'seat', 'secessionist', 'second', 'second-', 'section', 'sector', 'security', 'segregation', 'selectman', 'self', 'seller', 'senator', 'sentence', 'sequel', 'sequence', 'series', 'service', 'session', 'setting', 'settlement', 'settler', 'sewer', 'sex', 'shack', 'shape', 'share', 'sheep', 'shelf', 'shelter', 'ship', 'shipping', 'shoe', 'shoemaker', 'shooting', 'shop', 'shopper', 'shopping', 'shore', 'shot', 'show', 'showcase', 'shuttle', 'sibling', 'side', 'sidewalk', 'sight', 'sign', 'signaling', 'signer', 'silk', 'simulcast', 'sin', 'singer', 'siren', 'sister', 'site', 'situation', 'size', 'skating', 'skill', 'skirmish', 'skyline', 'skyscraper', 'slang', 'slaveowner', 'slope', 'slum', 'smartgrid', 'snack', 'snake', 'snow', 'snowfall', 'soap', 'soccer', 'society', 'softball', 'soldier', 'solicitor', 'son', 'song', 'songwriter', 'source', 'south', 'southeast', 'southwest', 'soy', 'space', 'span', 'speaker', 'specialist', 'speciman', 'spectacle', 'spectator', 'spectrum', 'speed', 'spelling', 'spike', 'splash', 'sport', 'sporting', 'sportspeople', 'spot', 'spouse', 'spring', 'stadium', 'staff', 'stage', 'stake', 'stampede', 'stand', 'standard', 'staple', 'star', 'start', 'startup', 'state', 'statesman', 'station', 'statistic', 'statue', 'status', 'statute', 'steam', 'steamboat', 'steamer', 'stick', 'stilt', 'stock', 'stone', 'stop', 'storage', 'store', 'storey', 'storm', 'story', 'storyline', 'strawberry', 'streaking', 'stream', 'street', 'street.jpg\">overlooking', 'strength', 'stretch', 'strike', 'strip', 'stronghold', 'structure', 'stub', 'student', 'studio', 'study', 'style', 'sub', 'subdistrict', 'subject', 'submarine', 'subsidiary', 'suburb', 'success', 'suffix', 'suicide', 'sum', 'summer', 'summit', 'sunrise', 'sunshine', 'supervision', 'support', 'supporter', 'surface', 'surgeon', 'survey', 'surveyor', 'survivor', 'suspect', 'swampland', 'swim', 'swimming', 'swing', 'sympathy', 'symphony', 'synagogue', 'system', 'sœur', 'tackle', 'tailor', 'target', 'tarring', 'tavern', 'tax', 'taxi', 'taxicab', 'teacher', 'teaching', 'team', 'tear', 'technique', 'technology', 'teen', 'telephone', 'telescope', 'television', 'temperature', 'temple', 'tenement', 'tennis', 'tenor', 'tension', 'term', 'terminal', 'terminology', 'terminus', 'territory', 'text', 'textile', 'thank', 'theater', 'theatre', 'theft', 'theme', 'thermostat', 'thief', 'thing', 'third', 'thousand', 'threat', 'ticket', 'tide', 'timber', 'time', 'title', 'title=\"asnat', 'title=\"bardwell', 'title=\"battle', 'title=\"beezie', 'title=\"bundesarchiv', 'title=\"chattanooga', 'title=\"confederate', 'title=\"diamond', 'title=\"harlan', 'title=\"loudspeaker.svg\">about', 'title=\"manzhoulitracks.jpg\">train', 'title=\"market', 'title=\"paterson', 'title=\"race', 'title=\"softredirarrow.svg\">soft', 'title=\"stade', 'title=\"typeface', 'title=\"vilkaviskis.ogg', 'title=\"vilkaviškis', 'title=\"wikisource', 'title=\"wikivoyage', 'today', 'toll', 'tom', 'tomb', 'ton', 'tongue', 'tonne', 'tool', 'top', 'topography', 'tornado', 'total', 'tourism', 'tourist', 'tournament', 'tow', 'tower', 'town', 'townlet', 'township', 'toy', 'track', 'trackage', 'tract', 'trade', 'trading', 'tradition', 'traffic', 'trafficking', 'trail', 'train', 'trainer', 'training', 'transformation', 'transit', 'transition', 'translator', 'transmitter', 'transport', 'transportation', 'transshipment', 'trauma', 'travel', 'traveler', 'treasury', 'treatment', 'treaty', 'tree', 'trend', 'trestle', 'trial', 'triangle', 'tribe', 'tributary', 'tribute', 'trip', 'troop', 'tropic', 'troupe', 'truck', 'truss', 'tryout', 'tuna', 'tunnel', 'turn', 'turnout', 'turnover', 'turnpike', 'turntable', 'tv', 'tvrm),*ccky', 'type', 'typeface', 'typewriter', 'u19', 'u21s', 'unemployment', 'uniform', 'union', 'unit', 'university', 'unrest', 'unseat', 'update', 'upgrade', 'uranium', 'urbanisation', 'urbanization', 'use', 'user', 'utility', 'vacation', 'vagrant', 'valley', 'value', 'van', 'vantage', 'variant', 'variation', 'variety', 'vegetation', 'vehicle', 'vendor', 'venom', 'venture', 'venue', 'verge', 'version', 'vicinity', 'victim', 'victory', 'video', 'vie', 'view', 'vigil', 'vigor', 'vilkaviškis</w>,<w', 'villa', 'village', 'visit', 'visitation', 'visitor', 'vitality', 'vocabulary', 'vocalist', 'voice', 'voip', 'vol', 'volleyball', 'volunteer', 'vote', 'voter', 'voting', 'wage', 'wakeboard', 'walk', 'walking', 'walkway', 'wall', 'war', 'ward', 'warning', 'warp', 'wash', 'waste', 'wastewater', 'watch', 'water', 'waterfall', 'waterfront', 'waterway', 'wave', 'way', 'wealth', 'weather', 'weaver', 'web', 'website', 'wedding', 'week', 'weekday', 'weekend', 'well', 'welterweight', 'west', 'westbound', 'wharf', 'wheel', 'while', 'whole', 'wife', 'will', 'window', 'wing', 'winner', 'winter', 'wireless', 'wit', 'woman', 'wood', 'word', 'work', 'worker', 'working', 'workshop', 'world', 'woro', 'worshiper', 'wound', 'wrestler', 'wrestling', 'writer', 'writing', 'yard', 'year', 'youth', 'zip', 'zone', 'zouglouphile', 'zydeco', '°', 'хот', 'ᠬᠣᠲᠠ', 'ᠮᠠᠨᠵᠤᠤᠷ', '−4.03333).,abidjan']\n"
     ]
    }
   ],
   "source": [
    "#Create a list of all tokens we want to keep in our collection\n",
    "pos = set()\n",
    "for doc in docs:\n",
    "    for token in doc:\n",
    "        if token.pos_ == 'NOUN': # or token.pos_ == 'ADJ' or token.pos_ == 'VERB': #Here we choose which parts of speech we keep\n",
    "            pos.add(token.lemma_)\n",
    "pos = (sorted(list(pos)))\n",
    "print(pos)"
   ]
  },
  {
   "cell_type": "code",
   "execution_count": 6,
   "id": "0d6bb7ad",
   "metadata": {
    "scrolled": false
   },
   "outputs": [],
   "source": [
    "#Create an empty data frame to store the term vectors we are going to build\n",
    "vectors = pd.DataFrame(0, sample.id, pos)\n",
    "\n",
    "#Build the binary vectors, iterating through each document\n",
    "i=0\n",
    "for doc in docs:\n",
    "    doc = list(map(str, doc))\n",
    "    for n in pos:\n",
    "        a = vectors.columns.get_loc(n)\n",
    "        if n in [x.lower() for x in list(doc)]:\n",
    "            vectors.iloc[i, a] = 1\n",
    "    i=i+1\n",
    "\n",
    "#print(vectors) #This is a term document indcidence matrix as we say earlier in the course"
   ]
  },
  {
   "cell_type": "markdown",
   "id": "634a6dcc",
   "metadata": {},
   "source": [
    "Compare pairwise all documents using their binary term incidence matrices. Similar documents have cosine ~1, documents with no overlap have cosine = 0."
   ]
  },
  {
   "cell_type": "code",
   "execution_count": 7,
   "id": "2b09b985",
   "metadata": {
    "scrolled": false
   },
   "outputs": [
    {
     "name": "stdout",
     "output_type": "stream",
     "text": [
      "[[1.         0.03806935 0.10232344 0.14433757 0.1117464  0.12532409\n",
      "  0.09547033 0.125      0.13608276 0.04845016 0.09128709 0.16984156\n",
      "  0.13868983 0.09056544 0.14153463 0.13363062 0.14147911 0.11705751\n",
      "  0.12780193 0.14580296 0.11023964 0.15231795 0.15319084 0.14286919\n",
      "  0.0410305 ]\n",
      " [0.03806935 1.         0.30384016 0.21665358 0.24066124 0.33830773\n",
      "  0.43613919 0.20938142 0.33414756 0.22133592 0.33958062 0.05172606\n",
      "  0.27677432 0.46337996 0.24569879 0.45785077 0.19389664 0.466002\n",
      "  0.43370998 0.17317946 0.42447142 0.2286323  0.24993752 0.24326883\n",
      "  0.47797332]\n",
      " [0.10232344 0.30384016 1.         0.21339865 0.42423496 0.38370849\n",
      "  0.36842527 0.23022773 0.30733263 0.22096672 0.33398158 0.07944581\n",
      "  0.47887363 0.33043358 0.30288716 0.28909779 0.20917252 0.33733189\n",
      "  0.31064862 0.14833808 0.30663451 0.20229597 0.23032672 0.31440056\n",
      "  0.29868485]\n",
      " [0.14433757 0.21665358 0.21339865 1.         0.23700054 0.23116299\n",
      "  0.22272906 0.17526705 0.21886638 0.2397661  0.16779432 0.14008295\n",
      "  0.1878395  0.18823674 0.23113687 0.23145502 0.14002801 0.22343829\n",
      "  0.1716665  0.21646126 0.21821789 0.16152393 0.24908936 0.26995276\n",
      "  0.19289589]\n",
      " [0.1117464  0.24066124 0.42423496 0.23700054 1.         0.32519576\n",
      "  0.27694465 0.23546563 0.28023884 0.20883076 0.27480256 0.09760722\n",
      "  0.39292899 0.25329821 0.26028593 0.21332487 0.22069165 0.26588638\n",
      "  0.24832158 0.15641238 0.27151823 0.17924137 0.24315292 0.33837756\n",
      "  0.21222048]\n",
      " [0.12532409 0.33830773 0.38370849 0.23116299 0.32519576 1.\n",
      "  0.3953023  0.23925507 0.3209337  0.24508686 0.37798129 0.07740086\n",
      "  0.40317675 0.38136106 0.2863832  0.39584138 0.24316445 0.37951806\n",
      "  0.37940764 0.17541718 0.34880111 0.27369318 0.2094382  0.2947658\n",
      "  0.38145104]\n",
      " [0.09547033 0.43613919 0.36842527 0.22272906 0.27694465 0.3953023\n",
      "  1.         0.20457927 0.31737272 0.214097   0.3713746  0.07412493\n",
      "  0.33928211 0.4031652  0.25480445 0.43011873 0.23154955 0.44884533\n",
      "  0.35856858 0.15272071 0.35568901 0.23504369 0.26504407 0.27633817\n",
      "  0.42305706]\n",
      " [0.125      0.20938142 0.23022773 0.17526705 0.23546563 0.23925507\n",
      "  0.20457927 1.         0.29768105 0.19380063 0.22821773 0.08492078\n",
      "  0.20073527 0.2445267  0.21230194 0.26726124 0.13137346 0.22575377\n",
      "  0.26473257 0.11664237 0.25985058 0.21759707 0.26261287 0.25326811\n",
      "  0.25644061]\n",
      " [0.13608276 0.33414756 0.30733263 0.21886638 0.28023884 0.3209337\n",
      "  0.31737272 0.29768105 1.         0.22746648 0.30346637 0.06933752\n",
      "  0.27713943 0.34754797 0.25423759 0.40006613 0.17327582 0.34817357\n",
      "  0.38013156 0.19047619 0.31503601 0.22208408 0.24122532 0.25981628\n",
      "  0.36851387]\n",
      " [0.04845016 0.22133592 0.22096672 0.2397661  0.20883076 0.24508686\n",
      "  0.214097   0.19380063 0.22746648 1.         0.18955175 0.0987462\n",
      "  0.2079522  0.21061969 0.21395011 0.20718159 0.25851957 0.23333986\n",
      "  0.18045326 0.25431036 0.18312439 0.17711589 0.24174906 0.22653933\n",
      "  0.16698646]\n",
      " [0.09128709 0.33958062 0.33398158 0.16779432 0.27480256 0.37798129\n",
      "  0.3713746  0.22821773 0.30346637 0.18955175 1.         0.07087699\n",
      "  0.42722355 0.38549967 0.23478003 0.38338931 0.1834488  0.36113777\n",
      "  0.36       0.13690212 0.3598199  0.2315552  0.19178532 0.22357908\n",
      "  0.42378277]\n",
      " [0.16984156 0.05172606 0.07944581 0.14008295 0.09760722 0.07740086\n",
      "  0.07412493 0.08492078 0.06933752 0.0987462  0.07087699 1.\n",
      "  0.06942613 0.07383252 0.09615385 0.12104551 0.13730876 0.09088562\n",
      "  0.12403473 0.11886433 0.14978617 0.1478281  0.14867526 0.10588418\n",
      "  0.0836242 ]\n",
      " [0.13868983 0.27677432 0.47887363 0.1878395  0.39292899 0.40317675\n",
      "  0.33928211 0.20073527 0.27713943 0.2079522  0.42722355 0.06942613\n",
      "  1.         0.31414486 0.28762256 0.26141577 0.21952714 0.32225241\n",
      "  0.30065572 0.13793115 0.30072427 0.22109722 0.1840256  0.30944755\n",
      "  0.28033262]\n",
      " [0.09056544 0.46337996 0.33043358 0.18823674 0.25329821 0.38136106\n",
      "  0.4031652  0.2445267  0.34754797 0.21061969 0.38549967 0.07383252\n",
      "  0.31414486 1.         0.25226113 0.54218378 0.19329505 0.4652485\n",
      "  0.46826872 0.20282435 0.41076625 0.2175628  0.30443073 0.30489017\n",
      "  0.49942303]\n",
      " [0.14153463 0.24569879 0.30288716 0.23113687 0.26028593 0.2863832\n",
      "  0.25480445 0.21230194 0.25423759 0.21395011 0.23478003 0.09615385\n",
      "  0.28762256 0.25226113 1.         0.23452567 0.24029033 0.24993546\n",
      "  0.25427121 0.17829649 0.24072778 0.18478512 0.23788041 0.24265126\n",
      "  0.23693524]\n",
      " [0.13363062 0.45785077 0.28909779 0.23145502 0.21332487 0.39584138\n",
      "  0.43011873 0.26726124 0.40006613 0.20718159 0.38338931 0.12104551\n",
      "  0.26141577 0.54218378 0.23452567 1.         0.21606791 0.50949752\n",
      "  0.48795004 0.26497887 0.47982246 0.24425211 0.28074496 0.27769744\n",
      "  0.59215653]\n",
      " [0.14147911 0.19389664 0.20917252 0.14002801 0.22069165 0.24316445\n",
      "  0.23154955 0.13137346 0.17327582 0.25851957 0.1834488  0.13730876\n",
      "  0.21952714 0.19329505 0.24029033 0.21606791 1.         0.24334814\n",
      "  0.19483527 0.15559461 0.22917462 0.28498522 0.24415641 0.17640442\n",
      "  0.19902714]\n",
      " [0.11705751 0.466002   0.33733189 0.22343829 0.26588638 0.37951806\n",
      "  0.44884533 0.22575377 0.34817357 0.23333986 0.36113777 0.09088562\n",
      "  0.32225241 0.4652485  0.24993546 0.50949752 0.24334814 1.\n",
      "  0.42499112 0.1755497  0.41715376 0.23579212 0.26349264 0.28148299\n",
      "  0.46108107]\n",
      " [0.12780193 0.43370998 0.31064862 0.1716665  0.24832158 0.37940764\n",
      "  0.35856858 0.26473257 0.38013156 0.18045326 0.36       0.12403473\n",
      "  0.30065572 0.46826872 0.25427121 0.48795004 0.19483527 0.42499112\n",
      "  1.         0.17888544 0.42093999 0.19069252 0.23014238 0.26179078\n",
      "  0.45845591]\n",
      " [0.14580296 0.17317946 0.14833808 0.21646126 0.15641238 0.17541718\n",
      "  0.15272071 0.11664237 0.19047619 0.25431036 0.13690212 0.11886433\n",
      "  0.13793115 0.20282435 0.17829649 0.26497887 0.15559461 0.1755497\n",
      "  0.17888544 1.         0.17634669 0.18274347 0.24505429 0.21815478\n",
      "  0.1722922 ]\n",
      " [0.11023964 0.42447142 0.30663451 0.21821789 0.27151823 0.34880111\n",
      "  0.35568901 0.25985058 0.31503601 0.18312439 0.3598199  0.14978617\n",
      "  0.30072427 0.41076625 0.24072778 0.47982246 0.22917462 0.41715376\n",
      "  0.42093999 0.17634669 1.         0.2220587  0.21505972 0.25036122\n",
      "  0.44973404]\n",
      " [0.15231795 0.2286323  0.20229597 0.16152393 0.17924137 0.27369318\n",
      "  0.23504369 0.21759707 0.22208408 0.17711589 0.2315552  0.1478281\n",
      "  0.22109722 0.2175628  0.18478512 0.24425211 0.28498522 0.23579212\n",
      "  0.19069252 0.18274347 0.2220587  1.         0.27429019 0.16278764\n",
      "  0.20356104]\n",
      " [0.15319084 0.24993752 0.23032672 0.24908936 0.24315292 0.2094382\n",
      "  0.26504407 0.26261287 0.24122532 0.24174906 0.19178532 0.14867526\n",
      "  0.1840256  0.30443073 0.23788041 0.28074496 0.24415641 0.26349264\n",
      "  0.23014238 0.24505429 0.21505972 0.27429019 1.         0.24558079\n",
      "  0.25860327]\n",
      " [0.14286919 0.24326883 0.31440056 0.26995276 0.33837756 0.2947658\n",
      "  0.27633817 0.25326811 0.25981628 0.22653933 0.22357908 0.10588418\n",
      "  0.30944755 0.30489017 0.24265126 0.27769744 0.17640442 0.28148299\n",
      "  0.26179078 0.21815478 0.25036122 0.16278764 0.24558079 1.\n",
      "  0.2494012 ]\n",
      " [0.0410305  0.47797332 0.29868485 0.19289589 0.21222048 0.38145104\n",
      "  0.42305706 0.25644061 0.36851387 0.16698646 0.42378277 0.0836242\n",
      "  0.28033262 0.49942303 0.23693524 0.59215653 0.19902714 0.46108107\n",
      "  0.45845591 0.1722922  0.44973404 0.20356104 0.25860327 0.2494012\n",
      "  1.        ]]\n"
     ]
    },
    {
     "data": {
      "image/png": "[encoded data removed]",
      "text/plain": [
       "<Figure size 1440x1440 with 1 Axes>"
      ]
     },
     "metadata": {
      "needs_background": "light"
     },
     "output_type": "display_data"
    }
   ],
   "source": [
    "cosine = cosine_similarity(vectors) # We can calculate cosine using these binary vectors\n",
    "\n",
    "print(cosine)\n",
    "\n",
    "fig2 = plt.figure(figsize = (20,20)) # create a 5 x 5 figure \n",
    "ax = fig2.add_subplot(111)\n",
    "ax.imshow(cosine, interpolation='none')\n",
    "ax.set_title('Cosine similarity for documents')\n",
    "ax.yaxis.set_major_locator(MaxNLocator(integer=True))\n",
    "ax.xaxis.set_major_locator(MaxNLocator(integer=True))\n",
    "\n",
    "plt.show() #Plot the cosine similarity. Remember, the diagonal is 1 and the matrix is symmetric"
   ]
  },
  {
   "cell_type": "code",
   "execution_count": 14,
   "id": "47178105",
   "metadata": {},
   "outputs": [
    {
     "name": "stdout",
     "output_type": "stream",
     "text": [
      "Conway is a town in Franklin County, Massachusetts, United States. The population was 1,897 at the 2010 census. It is part of the Springfield, Massachusetts Metropolitan Statistical Area.,Conway was first settled in 1762 as the southwest portion of Deerfield. The town was eventually separated and was officially incorporated in 1767. The town was named for General Henry Seymour Conway,  a leader in the British House of Commons during repeal of the Stamp Act. (Conway, New Hampshire, as well as other towns across the country, were also named for him.) The town was known for its sheep farming and other agrarian pursuits in its early years, with some industry along the South River which was washed out in a dam break in 1869.  Today the town is still mostly a farming community.,On February 25, 2017, an EF1 tornado touched down in Conway. The tornado caused significant damage to localized areas. It was the first tornado in the month of February in Massachusetts state history.,<w namespace=\"File\" title=\"Bardwell's Ferry Bridge viewed from north in 2014.jpg\">Historic Bardwell's Ferry Bridge</w>,According to the United States Census Bureau, the town has a total area of convert, of which convert is land and convert, or 0.47%, is water.  Conway is in the central part of the county, and is bordered by Shelburne to the north, Deerfield to the east, Whately to the southeast, Williamsburg to the south, Goshen to the southwest, Ashfield to the west, and Buckland to the northwest. Conway is convert southwest of Greenfield, convert north-northwest of Springfield, and convert west-northwest of Boston.,Conway lies south of the Deerfield River, which comprises most of its northern border. The Bardwell's Ferry Bridge connects Conway to Shelburne across the Deerfield River. The town lies along the South River, which flows from Ashfield to the Deerfield River through the town, with many brooks feeding it as well as the nearby Mill River through Deerfield.  The town is dotted with forests and hills, and is home to several state forests, including Conway State Forest, South River State Forest, and the Poland Brook State Wildlife Management Area.,Massachusetts Route 116 passes through the center of town, from Ashfield in the east towards Deerfield, along its way towards Springfield.  Deerfield also has the nearest exits of Interstate 91, the nearest interstate highway to the town. A stretch of freight rail passes through the northern part of town, along the banks of the Deerfield River, between Deerfield and the Hoosac Tunnel to the west.  The nearest passenger rail service can be reached at the Amtrak station in Amherst, with the nearest bus service in Deerfield. The nearest small airport is in Turners Falls, with the nearest national air service being at Bradley International Airport in Windsor Locks, Connecticut.,As of the census of 2000, there were 1,809 people, 692 households, and 512 families residing in the town.  By population, Conway ranked twelfth of the twenty-six towns in Franklin County, and 295th of the 351 cities and towns in Massachusetts.  The population density was 48.0 people per square mile (18.5/km²), which ranked sixteenth in the county and 312th in the Commonwealth.  There were 749 housing units at an average density of 19.9 per square mile (7.7/km²).  The racial makeup of the town was 98.73% White, 0.17% African American, 0.22% Native American, 0.50% Asian, 0.11% from other races, and 0.28% from two or more races. Hispanic or Latino of any race were 0.94% of the population.,There were 692 households out of which 36.3% had children under the age of 18 living with them, 61.4% were married couples living together, 9.0% had a female householder with no husband present, and 25.9% were non-families. 18.8% of all households were made up of individuals and 5.2% had someone living alone who was 65 years of age or older.  The average household size was 2.61 and the average family size was 3.01.,In the town, the population was spread out with 25.2% under the age of 18, 5.3% from 18 to 24, 28.9% from 25 to 44, 31.2% from 45 to 64, and 9.5% who were 65 years of age or older.  The median age was 40 years. For every 100 females there were 97.9 males.  For every 100 females age 18 and over, there were 96.2 males.,The median income for a household in the town was $56,094, and the median income for a family was $62,917. Males had a median income of $41,146 versus $32,273 for females. The per capita income for the town was $25,605.  About 2.5% of families and 3.5% of the population were below the poverty line, including 2.6% of those under age 18 and 4.0% of those age 65 or over.,Conway employs the open town meeting form of government, and is led by a board of selectmen and a Town Administrator.  The town offices, police station, fire station, post office and Field Memorial Library (donated to the town by Marshall Field and named for his family) are all located in the center of town.  The nearest hospital, Franklin Medical Center, is located in Greenfield, as are most of the nearest state offices.,On the state level, Conway is represented in the Massachusetts House of Representatives by the First Franklin district, which includes the southeastern third of Franklin County and towns in north central Hampshire County. In the Massachusetts Senate, the town is represented by the Berkshire, Hampshire and Franklin district, which includes all of Berkshire County, as well as much of western Franklin and Hampshire Counties.   The town is patrolled by the Second (Shelburne Falls) Barracks of Troop \"B\" of the Massachusetts State Police.,On the national level, Conway is represented in the United States House of Representatives as part of Massachusetts's 1st congressional district, and is represented by House Rep Richard E. Neal (D) since 2012. Massachusetts is currently represented in the United States Senate by Senators Ed Markey and Elizabeth Warren.,Conway is a member of Frontier Regional and Union 38 School Districts, which also includes Deerfield, Whately and Sunderland. Each town operates its own elementary school, with Conway Grammar School serving the town's students from kindergarten through sixth grades. All four towns send seventh through twelfth grade students to Frontier Regional High School in Deerfield. There are several private, religious and charter schools located in the Greenfield and Deerfield area, with the nearest being the Deerfield Academy.,The nearest community college, Greenfield Community College, is located in Greenfield.  The nearest state colleges are Massachusetts College of Liberal Arts in North Adams, and the nearest state universities are Westfield State University and the University of Massachusetts Amherst. The nearest private colleges, including members of the Five Colleges and Seven Sisters, are located southeast in the Northampton area.\n",
      "\n",
      "Harlan is a home rule-class city in and the county seat of Harlan County, Kentucky, United States. The population was 1,745 at the 2010 census, down from 2,081 at the 2000 census.,Harlan is one of three Kentucky county seats to share its name with its county, the others being Greenup and Henderson.,<w namespace=\"File\" title=\"Harlan County Kentucky Courthouse.jpg\">The fifth and present courthouse of Harlan, Kentucky, built from 1918 to 1922</w>,Harlan was first settled by Samuel and Chloe Howard in 1796. Upon the founding of Harlan County (named for Kentucky pioneer Silas Harlan) in 1819, the Howards donated convert of land to serve as the county seat. Greene, James III. The Kentucky Encyclopedia, p. 408. \"Harlan\". University Press of Kentucky (Lexington), 1992. Accessed 30 July 2013.  The community there was already known as \"Mount Pleasant\", apparently owing to a nearby Indian mound. A post office was established on September 19, 1828, but called \"Harlan Court House\" due to another Mt. Pleasant preempting that name. During the Civil War, Confederate raiders under Gen. Humphrey Marshall occupied the town; the local postmaster renamed the community \"Spurlock\" after himself;  and, in October 1863, the courthouse was burnt down in reprisal for the Union destruction of the courthouse in Lee County, Virginia.  In 1865, the post office was renamed \"Harlan\" and, although the community was formally incorporated by the state assembly as \"Mount Pleasant\" on April 15, 1884, Commonwealth of Kentucky. Office of the Secretary of State. Land Office. \"Harlan, Kentucky\". Accessed 29 July 2013.  the town was already usually called \"Harlan Court House\" or \"Harlan Town\" by its inhabitants.  The city's terms of incorporation were amended to change the name to \"Harlan\" on March 13, 1912. One year before, the Louisville and Nashville Railroad had arrived in Harlan and prompted massive growth. The city had initially expanded east along the Clover Fork; after World War II, it also expanded south along Martin's Fork.,Harlan is the site of a criminal case in which a man, Condy Dabney, was convicted in 1924 of murdering a person who was later found alive.,A flood in 1977 prompted federal aid that diverted the Clover Fork into man-made tunnels under Ivy Hill in 1989.  In the 1990s, a flood wall was completed on the city's west side along the four-lane bypass U.S. Route 421.,<w namespace=\"File\" title=\"Overlooking Flood Wall and Highway 421.jpg\">A view of U.S. Route 421 from downtown; the flood wall and Harlan Independent Schools' athletic fields are also visible.</w>,Harlan is located in west-central Harlan County at coord (36.841487, -83.320066), at the junction of the Clover Fork and Martin's Fork rivers. The Clover Fork continues north convert to join the Poor Fork, forming the Cumberland River, a major tributary of the Ohio River. Harlan is in a narrow mountain valley, constrained to the north by the western end of Black Mountain, to the south by Little Black Mountain, and to the west by Ewing Spur. The elevation at the Harlan Courthouse is convert above sea level, while the surrounding ridges rise outside the city limits to convert (Black Mountain), convert (Little Black Mountain), and convert (Ewing Spur).,U.S. Route 421 passes through the city as four-lane highway; it leads north convert to Hyden and southeast convert to Pennington Gap, Virginia. The closest city with a population greater than 10,000 is Middlesboro, Kentucky, convert to the southeast via U.S. Routes 119 and 25E.,According to the United States Census Bureau, the city of Harlan has a total area of convert, of which convert, or 2.45%, are water.,The climate in this area is characterized by hot, humid summers and generally mild to cool winters.  According to the Köppen Climate Classification system, Harlan has a humid subtropical climate, abbreviated \"Cfa\" on climate maps.,As of the census of 2000, there were 2,081 people, 926 households, and 550 families residing in the city. The population density was 1,187.4 people per square mile (459.1/km²). There were 1,060 housing units at an average density of 604.8 per square mile (2.339/km²). The racial makeup of the city was 91.01% White, 7.02% Black or African American, 0.29% Native American, 0.86% Asian, and 0.82% from two or more races. Hispanics or Latinos of any race were 0.62% of the population.,<w namespace=\"File\" title=\"Harlan Poke Sallet 2015.jpg\">Downtown Harlan during the annual Poke Sallet Festival</w>,There were 926 households out of which 24.0% had children under the age of 18 living with them, 41.3% were married couples living together, 14.4% had a female householder with no husband present, and 40.6% were non-families. 39.0% of all households were made up of individuals and 19.4% had someone living alone who was 65 years of age or older. The average household size was 2.17 and the average family size was 2.91.,In the city, the population was spread out with 21.3% under the age of 18, 8.1% from 18 to 24, 25.8% from 25 to 44, 25.1% from 45 to 64, and 19.7% who were 65 years of age or older. The median age was 42 years. For every 100 females there were 89.4 males. For every 100 females age 18 and over, there were 81.8 males.,The median income for a household in the city was $17,270, and the median income for a family was $29,135. Males had a median income of $37,500 versus $20,852 for females. The per capita income for the city was $15,572. About 23.8% of families and 32.4% of the population were below the poverty line, including 40.0% of those under age 18 and 20.6% of those age 65 or over.,<w namespace=\"File\" title=\"Overlooking East Central Street.jpg\">Overlooking East Central Street. Harlan High School and Middle School are visible on the left.</w>,Two school districts, the Harlan County Public Schools and the Harlan Independent Schools, are based in the city. The independent schools, whose district roughly coincides with the city limits of Harlan, feature Harlan Elementary, Harlan Middle, and Harlan High.,Harlan County High School, which opened in 2008 as the consolidation of the county district's three previous high schools (James A. Cawood, Evarts, and Cumberland), serves all other public high school students in the county.  Harlan also features a campus of Southeast Kentucky Community and Technical College.,The Harlan Daily Enterprise newspaper is published Monday through Saturday. Radio stations serving Harlan are WHLN (adult contemporary, 1410 AM), WFSR (gospel, 970 AM) and WTUK (country, 105.1 FM).,Some storylines of the FX Networks drama Justified take place in Harlan, although no scenes have been filmed there. The 2012–13 National Geographic series Kentucky Justice which followed the Harlan County Sheriff's Office in their daily duties was filmed in Harlan and Harlan County.,Harlan was also featured in the Darrell Scott song \"You'll Never Leave Harlan Alive\" (later performed by Brad Paisley and Patty Loveless), the Steve Earle song \"Harlan Man\", the Anna McGarrigle song \"Goin' Back to Harlan\" (notably covered by Emmylou Harris) and the song \"Harlan County Line\" from Dave Alvin.,* Karl Spillman Forester, federal judge for the United States District Court for the Eastern District of Kentucky,* James E. Keller, former justice of the Kentucky Supreme Court,* Cawood Ledford, University of Kentucky basketball and football announcer,* Jordan Smith, musician and winner of Season 9 of The Voice\n",
      "\n",
      "Streetsboro is a city in Portage County, Ohio, United States. It is formed from the former township of Streetsboro, which was formed from the Connecticut Western Reserve. It is nearly co-extant with the former Streetsboro Township; the village of Sugar Bush Knolls was also formed in part from a small portion of the former township. The population was 12,311 at the 2000 census, and 16,028 at the 2010 census.  It is part of the Akron Metropolitan Statistical Area.,According to the United States Census Bureau, the city has a total area of convert, of which convert is land and convert is water. citation,Long before settlers moved into the Connecticut Western Reserve, Seneca Indians traversed the area now called Streetsboro. They used Old Portage Trail, which crosses the southwest corner of the city, to go from Lake Erie to the Ohio River basin.,The founder of Streetsboro Township was Titus Street from Connecticut, who purchased the land in 1798. Streetsboro Township contained convert. The land was surveyed by Streets' agents Ralph Cowles and Lemuel Punderson in the summer of 1822 and divided into lots of convert.,In 1825, a turnpike from Cleveland to Wellsville, Ohio was laid by Frederick Wadsworth, Samuel Cowles, John Strauyhen and Titus Street. Street agreed to give enough land to make it through the township. In 1827, the turnpike was completed.  It followed much of the route of the present Ohio State Route 14.,Major growth occurred in Streetsboro with the opening of the Ohio Turnpike on October 1, 1955, with Exit 13 (now known as Exit 187) initially being the only interchange in Portage County. By 1957, with the growth of the automobile industry, Streetsboro experienced a population explosion. Proximity to the Akron and Cleveland areas, along with direct access to Interstate 80 (Ohio Turnpike), Interstate 480 and State Routes 303, 43 and 14, have greatly contributed to the rapid growth of manufacturing, distribution, commercial and residential development in the past fifty years.,In 1968, voters decided to merge the township and the village to become one city consisting of convert. Streetsboro was primarily a farming community until 1970.,Streetsboro was home to a small amusement park, Shady Lake Park, located on Route 14, which is now an apartment complex of the same name.,Due to the steady growth of Streetsboro and its surrounding area within the past ten years, the city has become a retail hub for Portage County with the arrival of many national big-box retailers including Wal-Mart Supercenter, Target, Lowe's, The Home Depot and Staples.  The first Northeast Ohio location for Sonic Drive-In opened in Streetsboro in September 2008.,As of the census of 2010, there were 16,028 people, 6,562 households, and 4,316 families residing in the city. The population density was convert. There were 7,104 housing units at an average density of convert. The racial makeup of the city was 87.7% White, 7.9% African American, 0.2% Native American, 2.2% Asian, 0.3% from other races, and 1.8% from two or more races. Hispanic or Latino of any race were 1.7% of the population.,There were 6,562 households of which 31.4% had children under the age of 18 living with them, 50.3% were married couples living together, 11.1% had a female householder with no husband present, 4.4% had a male householder with no wife present, and 34.2% were non-families. 26.5% of all households were made up of individuals and 6.8% had someone living alone who was 65 years of age or older. The average household size was 2.43 and the average family size was 2.97.,The median age in the city was 37.9 years. 22.3% of residents were under the age of 18; 8.3% were between the ages of 18 and 24; 30.5% were from 25 to 44; 27% were from 45 to 64; and 11.7% were 65 years of age or older. The gender makeup of the city was 48.5% male and 51.5% female.,As of the census  of 2000, there were 12,311 people, 4,908 households, and 3,381 families residing in the city. The population density was 512.6 people per square mile (197.9/km²). There were 5,244 housing units at an average density of 218.3 per square mile (84.3/km²). The racial makeup of the city was 95.39% White, 1.96% African American, 0.09% Native American, 1.37% Asian, 0.02% Pacific Islander, 0.15% from other races, and 1.02% from two or more races. Hispanic or Latino of any race were 0.78% of the population.,There were 4,908 households out of which 31.1% had children under the age of 18 living with them, 55.3% were married couples living together, 9.9% had a female householder with no husband present, and 31.1% were non-families. 25.1% of all households were made up of individuals and 5.7% had someone living alone who was 65 years of age or older. The average household size was 2.49 and the average family size was 3.00.,In the city the population was spread out with 24.3% under the age of 18, 8.3% from 18 to 24, 35.8% from 25 to 44, 21.8% from 45 to 64, and 9.8% who were 65 years of age or older. The median age was 34 years. For every 100 females there were 96.7 males. For every 100 females age 18 and over, there were 93.6 males.,The median income for a household in the city was $48,661, and the median income for a family was $55,814. Males had a median income of $36,672 versus $27,835 for females. The per capita income for the city was $21,764. About 3.9% of families and 5.3% of the population were below the poverty line, including 7.5% of those under age 18 and 6.1% of those age 65 or over.,Primary and secondary education is provided mainly by the Streetsboro City School District, which includes five schools, while a small portion of the city is part of the neighboring Kent City School District.  Students in preschool through third grade attend Streetsboro Elementary School, formerly known as Campus Elementary School. Henry Defer Intermediate School houses students in grades four through six with grades seven and eight at Streetsboro Middle School. Streetsboro High School includes grades nine through 12. All schools and the district offices, with the exception of Streetsboro High  School, are located on a convert central campus with the Streetsboro City Park. The campus also includes the Pierce Streetsboro Library, a branch of the Portage County District Library, which opened in 1988.,Voters in the district approved a $38.7 million bond issue in 2013 to fund expansion and renovations of the district's facilities.  Included in the plans were the new building for Streetsboro High School along State Route 14, and an expansion and renovation of the former Campus Elementary to become Streetsboro Elementary School for grades preschool through three. Both of those projects were completed in December 2016 and the first classes held in January 2017.  Additional plans include renovation of the former high school building to house Streetsboro Middle School, which will enable grade six to be moved to the middle school from Henry Defer Intermediate School, and repurposing the current middle school building.,* WSTB 88.9 FM (Streetsboro High School-Alternative Rock Monday through Saturday, Oldies on Sunday),* Gateway News (Weekly newspaper serving Streetsboro, Mantua Village and Township, and Shalersville Township)\n"
     ]
    }
   ],
   "source": [
    "#Look at content of potentially interesting documents\n",
    "a = sample.columns.get_loc('text')\n",
    "\n",
    "print(sample.iloc[13, a])\n",
    "print()\n",
    "print(sample.iloc[17, a])\n",
    "print()\n",
    "print(sample.iloc[18, a])\n",
    "\n"
   ]
  },
  {
   "cell_type": "code",
   "execution_count": 9,
   "id": "56fbff61",
   "metadata": {},
   "outputs": [
    {
     "data": {
      "image/png": "[encoded data removed]",
      "text/plain": [
       "<Figure size 432x288 with 1 Axes>"
      ]
     },
     "metadata": {
      "needs_background": "light"
     },
     "output_type": "display_data"
    }
   ],
   "source": [
    "#This block plots violin plots of the cosine similarity as a function of distance\n",
    "classes = 5 #Change this value to modify the number of classes we plot\n",
    "\n",
    "m1 = np.min(dists)\n",
    "m2 = np.max(dists)\n",
    "step = (m2 - m1)/classes+1\n",
    "boxes = {}\n",
    "\n",
    "rows = len(cosine)\n",
    "cols = len(cosine[0])\n",
    "for i in range(rows):\n",
    "    for j in range(cols):\n",
    "        k = (cols * i) + j\n",
    "        if i is not j:\n",
    "            dist = dists[i][j]\n",
    "            #print(dist)\n",
    "            cos = cosine[i][j]\n",
    "            box = int(dist/step)            \n",
    "            if box in boxes.keys():\n",
    "                boxes[box].append(cos)\n",
    "            else:\n",
    "                boxes[box] = [cos]\n",
    "   \n",
    "labels, data = sorted(boxes.keys()), boxes.values()\n",
    "\n",
    "plt.violinplot(data, showmedians=True)\n",
    "plt.xticks(range(1, len(labels) + 1), labels)\n",
    "plt.show()"
   ]
  },
  {
   "cell_type": "markdown",
   "id": "07c9b229",
   "metadata": {},
   "source": [
    "Compare documents using word2vec. We can filter the documents so only some terms are used. Important to remember that this is still a bag of words approach."
   ]
  },
  {
   "cell_type": "code",
   "execution_count": 10,
   "id": "11cb825e",
   "metadata": {
    "scrolled": false
   },
   "outputs": [
    {
     "data": {
      "image/png": "[encoded data removed]",
      "text/plain": [
       "<Figure size 1440x1440 with 1 Axes>"
      ]
     },
     "metadata": {
      "needs_background": "light"
     },
     "output_type": "display_data"
    }
   ],
   "source": [
    "#Calculate similarity between documents using cosine similarity in Spacy (based on Word2Vec)\n",
    "cosine = [] \n",
    "#In this code we don't use all the words; we filter out entities, stop words and punctuation\n",
    "for doc1 in docs:\n",
    "    s1 = \" \".join([ent.text for ent in doc1 if not ent.ent_type_ if not ent.is_stop if not ent.is_punct]) \n",
    "    d1 = nlp(s1)    \n",
    "    sim = []\n",
    "    for doc2 in docs:\n",
    "        s2 = \" \".join([ent.text for ent in doc2 if not ent.ent_type_ if not ent.is_stop if not ent.is_punct])\n",
    "        d2 = nlp(s2)\n",
    "        value = d1.similarity(d2)\n",
    "        #value = doc1.similarity(doc2)\n",
    "        sim.append(value)\n",
    "    cosine.append(sim)\n",
    "    \n",
    "#Plot the similarity matrix again\n",
    "fig2 = plt.figure(figsize = (20,20)) # create a 5 x 5 figure \n",
    "ax = fig2.add_subplot(111)\n",
    "ax.imshow(cosine, interpolation='none')\n",
    "ax.set_title('Cosine similarity for documents')\n",
    "ax.yaxis.set_major_locator(MaxNLocator(integer=True))\n",
    "ax.xaxis.set_major_locator(MaxNLocator(integer=True))\n",
    "\n",
    "plt.show()"
   ]
  },
  {
   "cell_type": "code",
   "execution_count": 16,
   "id": "c56d209a",
   "metadata": {},
   "outputs": [
    {
     "name": "stdout",
     "output_type": "stream",
     "text": [
      "One of the towns of Castro is Castrolanda. Castrolanda is a colony that was founded by Dutch immigrants between 1951 and 1954. Its economy is based on agricultural production and dairy farming which is one of the most important in this region that is considered the largest dairy in Brazil due to their genetic quality. It has a considerable production of grain, mostly soy and beans. Also having one of the largest agricultural cooperatives in Brazil, which bears the name of the colony.\n",
      "\n",
      "Alfred is a village located in the town of Alfred in Allegany County, New York, United States. The population was 4,174 at the 2010 census. The village lies in the north-central part of the town of Alfred on the eastern edge of Allegany County. It is named after Alfred the Great.,Alfred is located in the hills of western New York along the Southern Tier. The layout of the valley is such that the lowest part contains the village, and upon the hills to the east and west are Alfred University and Alfred State College, respectively. The valley was originally called Kanakadea (or Canakadea, or other spellings) by Native Americans. Local folklore states that Kanakadea means \"where the earth meets the sky\".,Alfred is located in the 607 (telephone) area code, 14802 zip (postal) code, and is in the second poorest county in the state (Allegany). The closest cities are Hornell and Olean.,The elevation of Alfred is about convert but rises to a high point of convert at the summit of Jericho Hill just south of the village. The hills greatly affect the weather in the region, which results in quick changes as well as different conditions in neighboring valleys.,The village is home to one of the largest optical telescopes in New York state, at the Stull Observatory at Alfred University.   Alfred State College is also located in the village.,The village was first settled around 1807 and was incorporated in 1881. The village was previously called \"Alfred Centre\".,The following are listed on the National Register of Historic Places: Alfred Village Historic District, Alumni Hall, Fireman's Hall, Allen Steinheim Museum and the Terra Cotta Building. citation,According to the United States Census Bureau, the village has a total area of convert, all of it land. A small stream, Canacadea Creek, flows through the center of the village, then to the Canisteo River, part of the Susquehanna River watershed. The topography is steep hill country, part of the Allegheny Plateau, a physiographic region that is part of the Appalachian Mountains.,As of the census of 2000, there were 3,954 people, 530 households, and 169 families residing in the village. The population density was 3,352.5 people per square mile (1,293.8/km²). There were 576 housing units at an average density of 488.4 per square mile (188.5/km²). The racial makeup of the village was 90.21% White, 4.40% Black or African American, 0.33% Native American, 2.71% Asian, 0.03% Pacific Islander, 1.21% from other races, and 1.11% from two or more races. Hispanic or Latino of any race were 2.73% of the population.,There were 530 households out of which 12.3% had children under the age of 18 living with them, 26.0% were married couples living together, 4.2% had a female householder with no husband present, and 68.1% were non-families. 38.9% of all households were made up of individuals and 10.6% had someone living alone who was 65 years of age or older. The average household size was 2.05 and the average family size was 2.73.,In the village, the population was spread out with 3.0% under the age of 18, 83.1% from 18 to 24, 5.9% from 25 to 44, 4.6% from 45 to 64, and 3.3% who were 65 years of age or older. The median age was 20 years. For every 100 females there were 144.8 males. For every 100 females age 18 and over, there were 147.2 males.,The median income for a household in the village was $21,313, and the median income for a family was $70,694. Males had a median income of $15,750 versus $39,375 for females. The per capita income for the village was $8,224. About 2.0% of families and 37.7% of the population were below the poverty line, including none of those under age 18 and 2.8% of those age 65 or over.\n",
      "id                                                   2475\n",
      "lat                                              0.543859\n",
      "lon                                              0.918926\n",
      "text    Abadeh (Persian   آباده  main , also Romanized...\n",
      "Name: 10, dtype: object\n"
     ]
    }
   ],
   "source": [
    "#Look at content of potentially interesting documents\n",
    "a = sample.columns.get_loc('text')\n",
    "\n",
    "print(sample.iloc[11, a])\n",
    "print()\n",
    "print(sample.iloc[15, a])\n",
    "\n",
    "print(sample.iloc[3])"
   ]
  },
  {
   "cell_type": "code",
   "execution_count": 12,
   "id": "2baaa4ed",
   "metadata": {},
   "outputs": [
    {
     "name": "stdout",
     "output_type": "stream",
     "text": [
      "0 -> 0.9419445378236924\n",
      "0 -> 111\n",
      "1 -> 0.9191101901704861\n",
      "1 -> 42\n",
      "2 -> 0.8898547469512932\n",
      "2 -> 91\n",
      "3 -> 0.913729627552191\n",
      "3 -> 36\n",
      "4 -> 0.9066650709532309\n",
      "4 -> 20\n"
     ]
    },
    {
     "data": {
      "image/png": "[encoded data removed]",
      "text/plain": [
       "<Figure size 432x288 with 1 Axes>"
      ]
     },
     "metadata": {
      "needs_background": "light"
     },
     "output_type": "display_data"
    }
   ],
   "source": [
    "#This block plots violin plots of the cosine similarity as a function of distance\n",
    "classes = 5 #Change this value to modify the number of classes we plot\n",
    "m1 = np.min(dists)\n",
    "m2 = np.max(dists)\n",
    "step = (m2 - m1)/classes+1\n",
    "boxes = {}\n",
    "\n",
    "rows = len(cosine)\n",
    "cols = len(cosine[0])\n",
    "for i in range(rows):\n",
    "    for j in range(cols):\n",
    "        k = (cols * i) + j\n",
    "        if i < j: #Only need values below the diagonal\n",
    "            dist = dists[i][j]\n",
    "            cos = cosine[i][j]\n",
    "            box = int(dist/step)            \n",
    "            if box in boxes.keys():\n",
    "                boxes[box].append(cos)\n",
    "            else:\n",
    "                boxes[box] = [cos]\n",
    "   \n",
    "labels, data = sorted(boxes.keys()), boxes.values()\n",
    "\n",
    "for key in sorted(boxes.keys()):\n",
    "    print(key, '->', np.mean(boxes[key]))    \n",
    "    print(key, '->', len(boxes[key]))    \n",
    "\n",
    "    \n",
    "plt.violinplot(data)\n",
    "plt.xticks(range(1, len(labels) + 1), labels)\n",
    "plt.show()"
   ]
  },
  {
   "cell_type": "code",
   "execution_count": 13,
   "id": "f27380bc",
   "metadata": {},
   "outputs": [],
   "source": [
    "#output all dependencies so that we can reproduce the notebook (we only need this to set things up for Binder)\n",
    "#%load_ext watermark\n",
    "#%watermark --iversions"
   ]
  },
  {
   "cell_type": "code",
   "execution_count": null,
   "id": "fc96fe10",
   "metadata": {},
   "outputs": [],
   "source": []
  }
 ],
 "metadata": {
  "kernelspec": {
   "display_name": "Python 3",
   "language": "python",
   "name": "python3"
  },
  "language_info": {
   "codemirror_mode": {
    "name": "ipython",
    "version": 3
   },
   "file_extension": ".py",
   "mimetype": "text/x-python",
   "name": "python",
   "nbconvert_exporter": "python",
   "pygments_lexer": "ipython3",
   "version": "3.8.8"
  }
 },
 "nbformat": 4,
 "nbformat_minor": 5
}
