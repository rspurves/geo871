{
 "cells": [
  {
   "cell_type": "code",
   "execution_count": 7,
   "id": "9b8ea643",
   "metadata": {},
   "outputs": [],
   "source": [
    "import OSGridConverter #To convert from =SGB36 to WGS84\n",
    "import pandas as pd #To use pandas for elegant data handling\n",
    "import numpy as np\n",
    "import math\n",
    "import plotly.express as px\n",
    "import pickle\n",
    "from pathlib import Path\n",
    "import spacy"
   ]
  },
  {
   "cell_type": "markdown",
   "id": "cf9f511d",
   "metadata": {},
   "source": [
    "We read in the data first"
   ]
  },
  {
   "cell_type": "code",
   "execution_count": 11,
   "id": "24f07eb8",
   "metadata": {},
   "outputs": [
    {
     "name": "stdout",
     "output_type": "stream",
     "text": [
      "The initial corpus contains 138639 documents.\n"
     ]
    }
   ],
   "source": [
    "data_folder = Path('./data')\n",
    "fn1 = data_folder / 'geograph_mini_corpus.csv'\n",
    "\n",
    "geograph = pd.read_csv(fn1, encoding='latin-1')\n",
    "        \n",
    "#sample = geograph.sample(n = 1000) # For testing\n",
    "sample = geograph\n",
    "\n",
    "print(f'The initial corpus contains {len(sample)} documents.')"
   ]
  },
  {
   "cell_type": "markdown",
   "id": "366a2188",
   "metadata": {},
   "source": [
    "Create the three indexes we need:\n",
    "\n",
    "- The spatial index stores documents in square cells and allows us to perform a range query\n",
    "- The postings index indexes terms and the documents in which they are found\n",
    "- The gazetteer indexes toponyms and allows us to look them up\n",
    "\n",
    "The spatial index takes a resolution as a parameter\n",
    "The postings file is restricted to terms from this [paper](https://firstmonday.org/ojs/index.php/fm/article/view/3710/3035) if the argument is true. If false then all terms (including stop words) are indexed.\n",
    "\n",
    "Building these indexes takes time, but only needs to be done once."
   ]
  },
  {
   "cell_type": "code",
   "execution_count": 14,
   "id": "65e3018a",
   "metadata": {},
   "outputs": [],
   "source": [
    "# I use pickles here to load objects that haven't changed. That is much quicker than rebuilding\n",
    "# the indexes from scratch, especially the postings one (where I do NLP on all of our documents)\n",
    "changes = False\n",
    "data_folder = Path('./data')\n",
    "fn1 = data_folder / 'si.obj'\n",
    "fn2 = data_folder / 'postings.obj'\n",
    "fn3 = data_folder / 'gaz.obj'\n",
    "nlp = spacy.load('en_core_web_md')\n",
    "\n",
    "if changes:\n",
    "    resolution = 10000\n",
    "    limitedTerms = True\n",
    "    si = SpatialIndex(resolution, sample)\n",
    "    postings = Postings(limitedTerms, sample, nlp)\n",
    "    gaz = Gazetteer()\n",
    "    f1 = open(fn1, 'wb')\n",
    "    pickle.dump(si,f1)\n",
    "    f1.close()\n",
    "    f2 = open(fn2, 'wb')\n",
    "    pickle.dump(postings,f2)\n",
    "    f2.close()\n",
    "    f3 = open(fn3, 'wb')\n",
    "    pickle.dump(gaz,f3)\n",
    "    f3.close()\n",
    "else:\n",
    "    f1 = open(fn1, 'rb')\n",
    "    si = pickle.load(f1)\n",
    "    f1.close()\n",
    "    f2 = open(fn2, 'rb')\n",
    "    postings = pickle.load(f2)\n",
    "    f2.close()\n",
    "    f3 = open(fn3, 'rb')\n",
    "    gaz = pickle.load(f3)\n",
    "    f3.close()"
   ]
  },
  {
   "cell_type": "markdown",
   "id": "e7aee1f8",
   "metadata": {},
   "source": [
    "Demonstrates a look up in the gazetteer. For some toponym types point and bounding box are returned. Bounding box could be used to exclude documents for near queries."
   ]
  },
  {
   "cell_type": "code",
   "execution_count": 15,
   "id": "9fe8e929",
   "metadata": {
    "scrolled": false
   },
   "outputs": [
    {
     "name": "stdout",
     "output_type": "stream",
     "text": [
      "['London' 181500 531500 'City of London' 'C']\n",
      "(531500, 181500, 529500, 179500, 533500, 183500)\n"
     ]
    }
   ],
   "source": [
    "name = 'London'\n",
    "location = gaz.getLocation(name)\n",
    "print(location)"
   ]
  },
  {
   "cell_type": "markdown",
   "id": "69b3aa2a",
   "metadata": {},
   "source": [
    "Find all documents within a bounding box \"centred\" around the location returned from the gazetteer. Documents are returned with their distances and ranked according to distance from toponym. "
   ]
  },
  {
   "cell_type": "code",
   "execution_count": 16,
   "id": "902beebe",
   "metadata": {},
   "outputs": [
    {
     "name": "stdout",
     "output_type": "stream",
     "text": [
      "Found 8084 documents in a 100000m x 100000m around London.\n"
     ]
    }
   ],
   "source": [
    "maxDist = 100000\n",
    "docsSpatial = si.rangeQuery(maxDist, (location[0],location[1]))\n",
    "print(f'Found {len(docsSpatial)} documents in a {maxDist}m x {maxDist}m around {name}.')"
   ]
  },
  {
   "cell_type": "markdown",
   "id": "bba34fec",
   "metadata": {},
   "source": [
    "Do a query and return documents ranked by tf-idf scores in the corpus."
   ]
  },
  {
   "cell_type": "code",
   "execution_count": 17,
   "id": "88612dae",
   "metadata": {},
   "outputs": [
    {
     "name": "stdout",
     "output_type": "stream",
     "text": [
      "Found 21047 documents using the query: hill beach loch\n"
     ]
    }
   ],
   "source": [
    "query = 'hill beach loch'\n",
    "docsThematic = postings.tfIdf(query, nlp)\n",
    "maxThematic = next(iter(docsThematic.items()))[1] # Used to normalise scores\n",
    "print(f'Found {len(docsThematic)} documents using the query: {query}')"
   ]
  },
  {
   "cell_type": "markdown",
   "id": "d03385b6",
   "metadata": {},
   "source": [
    "Find the unique documents from both sets. Typically there will be some duplicates."
   ]
  },
  {
   "cell_type": "code",
   "execution_count": 18,
   "id": "06b938a0",
   "metadata": {},
   "outputs": [
    {
     "name": "stdout",
     "output_type": "stream",
     "text": [
      "Found 28528 unique documents merging the thematic and spatial indexes\n"
     ]
    }
   ],
   "source": [
    "#Create a set of unique keys for all the documents retrieved from the thematic and spatial indexes\n",
    "candidates = set(list(docsSpatial.keys()) + list(docsThematic.keys()))\n",
    "\n",
    "print(f'Found {len(candidates)} unique documents merging the thematic and spatial indexes')"
   ]
  },
  {
   "cell_type": "markdown",
   "id": "86933adb",
   "metadata": {},
   "source": [
    "Rank documents according to spatial (distance) and thematic (tf-idf) scores. 'wspatial' determines the weight of each component. A value of 1.0 means that the ranking is purely spatial, 0.0 considers only tf-idf scores."
   ]
  },
  {
   "cell_type": "code",
   "execution_count": 23,
   "id": "959c1660",
   "metadata": {},
   "outputs": [],
   "source": [
    "wspatial = 0.1 # Weight of the spatial score -> weight of 1 means tfidf is ignored\n",
    "\n",
    "scores = dict()\n",
    "for doc in candidates:\n",
    "    st = 0\n",
    "    ss = 0\n",
    "    if doc in docsThematic:\n",
    "        st = docsThematic[doc]/ maxThematic\n",
    "        #print(f'thematic {st}')\n",
    "    if doc in docsSpatial:\n",
    "        ss = 1- docsSpatial[doc]/ maxDist\n",
    "        #print(f'spatial {docsSpatial[doc]} {ss}')\n",
    "    score = ((1-wspatial) * st) + (wspatial * ss)\n",
    "    scores[doc] = score\n",
    "ranked = dict(sorted(scores.items(), key = lambda x: x[1], reverse=True))"
   ]
  },
  {
   "cell_type": "markdown",
   "id": "6ec083a1",
   "metadata": {},
   "source": [
    "This section of code outputs the results in order. It retrieves the document text from the original data frame to display, not that we didn't use this up to now."
   ]
  },
  {
   "cell_type": "code",
   "execution_count": 24,
   "id": "0bbbd305",
   "metadata": {
    "scrolled": false
   },
   "outputs": [
    {
     "name": "stdout",
     "output_type": "stream",
     "text": [
      "0.9: Crowlink Gap - The lowest point amongst the Seven Sisters. Until the 19th century it was possible to access the beach with a horse and cart which meant it was a popular beach for those indulging in the smuggling trade. The access has been lost to erosion along with sea battery and a coastguard watch house which once existed on the cliffs above. The beach was also the site of the wrecking of the Nympha Americana in 1747. The ship was a captured Spanish prize being taken from Portsmouth to London when it lose its way and foundered on the rocks here with a valuable cargo of mercury. The locals from the surrounding village descended onto the wreck carrying away both the valuable cargoes and much of the cedar wood timber the ship was built with which supplied joists for many local barns and made into furniture for others. I'd like to think the timbers in the beach are the remains but I have no evidence and are probably from a small jetty or pier.\n",
      "\n",
      "0.9: Studland beach immediately beyond Shell Bay - This is also a popular beach just a short walk from the Sandbanks chain ferry.  This beach is backed by sand dunes and is a popular walking beach leading after approx. 2 miles to the village of Studland.  In the central area of this beach is a large area reserved by the National Trust for naturists.\n",
      "\n",
      "0.7608962725290852: Loch Diubaig - Viewed from Gob Uisgebrigh looking north east across the loch towards the Greshornish peninsula. The cliff on the east side of the loch are in Grid square [[NG3354]]. The loch is an inlet from Loch Snizort. Hills of the snow covered Trotternish ridge form the horizon.\n",
      "\n",
      "0.7608962725290852: Assynt scenery - The loch to the left of the image is the west end of the one shown in [[[1011070]]]  The hill dominating the view is Cuineag (Quinaig). The cairn on the knoll above the loch is well seen from the main west coast road and is a good marker for anglers wishing to visit the small loch to the south of the knoll.\n",
      "\n",
      "0.7608962725290852: Loch Lee - Three walkers approach along the road that follows the northern bank of the loch. The loch itself is completely still and reflects the hills in a perfect mirror image. All but this middle section of the loch is frozen over and the edge of the ice can be seen towards the Inchgrundle end.\n",
      "\n",
      "0.7608962725290852: Loch Dochart - Looking along the SE shore of this small loch. This western end of the loch has several small islands and the loch is filling in with deposits from the Fillan River and other small burns which enter from the steep hill sides to either side. \n",
      "\n",
      "0.7551146014642005: Clogher Beach - The exact gpr for this beach is Q3153003375. The beach is situated in the south eastern corner of the  square. The square is characterised by land and sea with some residences along the minor road off the R559 which also passes through the edge of the square. The picture was taken from the north end of the beach looking towards the hill in the south east.\n",
      "\n",
      "0.6807816710648846: Loch an Duin looking West - Looking down on the loch from the Eastern end you can see Tarbert in the distance and the Scalpay bridge on the right. This is the largest loch on Scalpay. The footpath from the village to Eilean Glas lighthouse runs down the right hand side of the loch.\n",
      "\n",
      "0.6807816710648846: Loch Duagrich - The remote loch is the largest natural freshwater loch on the Isle of Skye. Part of the hillside above the southern shore of the loch has been planted with broadleaf trees.\n",
      "\n",
      "0.6807816710648846: St Mary's Loch - This is the northeast end of the loch on a calm November day with Bowerhope Law in the background to the left and Bridge End Hill on the right. The loch at 3 miles long with a maximum depth of 46m is the largest natural loch in the Scottish Borders.\n",
      "\n",
      "0.675: Lyme Regis Beach - This is the view north east along Front Beach from close to the new groyne which separates the small sandy beach in the west from the shingle beach to the east visible in this image. The main part of the town is visible next to the beach.\n",
      "\n",
      "0.675: Mansands beach - Mansands beach from the coastal footpath which falls steeply down the hillside to the beach. The old coastguard's cottage may be seen at the far end of the beach.\n",
      "\n",
      "0.675: Lellizzick view - Looking south-east from the lane at Lellizzick with Lellizick Farm in the foreground. The beach on the far side of the River Camel estuary stretches from Rock to Brae Hill; the beach nearer the camera is Tregirls beach.\n",
      "\n",
      "0.6140836503049908: Loch Meadaidh - This is one of the few lochs from which locals will not eat the trout.  It seems that there is a high incidence of a parasitic worm in the gut cavity of the fish. Beinn Spionnaidh and its outlier Cioch Mhor are the hills beyond the loch. [[[922670]]] shows another quite different aspect of the latter hill.\n",
      "\n",
      "0.6140836503049908: Laggan Loch - Hill above the loch is Troweir hill. For close up view of the loch see http://www.geograph.org.uk/photo/3002421\n",
      "\n",
      "0.6140836503049908: Loch Beag from Dùn Garsin - The Dun stood on a steep sided hill above the loch. This view is to the south west. The main A863 Dunvegan to Sligachan road curves over a bridge and causeway across the loch. At the top of the hill on the far right is Struan. On the far left is Coillore. The prominent headland in the distance is Rubha nan Clach in grid square [[NG3033]].\n",
      "\n",
      "0.5339690488407902: Gleann Cinn-locha - A view up the glen at the head of the loch - the loch in question being the sealoch Loch Caolisport. The prominent hill in the centre skyline is Creag Raonuill. This land is used for rough grazing.\n",
      "\n",
      "0.5339690488407902: Loch Fraing - An unexpected loch perched above the cliffs of basalt which surround Carsaig. The low terrain around the southern shore together with the view of the sea and hills of Lorne in the distance make it difficult to realise that the loch is actually at 310m above sea level.\n",
      "\n",
      "0.5339690488407902: Small Knoll Overlooking Loch Bealach a'Bhuirich - Of the loch only the south western edge is in the grid square. The hill the other side of the loch is Cnoc na Creige at 593m.\n",
      "\n",
      "0.5339690488407902: Loch an Tubairnaich - Taken from the small hillock (just over 310m) W of the loch. The small lumpy hill in the right background is Creag an Lochan Deirg[[NC8808]]. Water flowing from the E end of the loch feeds Clynemilton Burn which supplies the Clynelish distillery[[NC8905]].\n",
      "\n",
      "0.5339690488407902: Loch Scammadale - A view of Loch Scammadale towards the head of the loch from near the roadside west of the farm at Scammadale; the hill rising at the head of the loch is Beinn Chapull. The mirror flatness of the water was soon to be disturbed by the passage of a rowing boat but that added to the view in another way.\n",
      "\n",
      "0.5339690488407902: Towards Crom Loch - A large hill loch with the slopes of Beinn Tharsuinn above.  The ground closer to the loch is ridden with peat hags so I would recommend staying high on the easy ground.\n",
      "\n",
      "0.5339690488407902: Loch Seil - Loch Seil is a small body of water passed by the B844 on its north-west shore. The view here is along the loch to the north-east from near its south end; the hill rising beyond the head of the loch is Meall Ailein.\n",
      "\n",
      "0.5301146014642005: Inch Strand - Looking south-west from the excellent three-mile long beach to the hills of the Inveragh Peninsula on the other side of Dingle Bay. Teermoyle Mountain in the centre. The beach was used extensively for David Lean's film 'Ryan's Daughter'. Also good for bass fishing.\n",
      "\n",
      "0.5301146014642005: Barmouth Beach - A couple strolling along the beach cross the sewage outfall pipe that crosses the beach opposite Plas Mynach. The low hills in the distance are those close to the tip of the Lleyn peninsula\n",
      "\n",
      "0.5301146014642005: Shore of Luce Bay near Corwall Port - Shingle beach backed by a raised beach which is much infested with gorse. The hill and headland in the distance is the Mull of Sinniness [[NX2251]]. \n",
      "\n",
      "0.5301146014642005: White Strand - Northern end of a magnificent beach in southern County Mayo. Numerous paw marks on the beach left by the dogs seen in the distance. The hill in the background is Knockmore on Clare Island [[L6686]].\n",
      "\n",
      "0.5301146014642005: Beach north-east of Trefor - A public footpath reaches the beach of Caernafon Bay at this point. The hills seen distantly are Gyrn Goch and Gyrn Ddu. The 'earth' above the beach on which the walkers are standing appears to be glacial drift.\n",
      "\n",
      "0.5301146014642005: Mansands Beach - The upper part of Mansands beach is shown in this picture. The steep hill at the other end of the beach is the course of the coastal path. Some walkers are descending.\n",
      "\n",
      "0.5301146014642005: Top of the Hill - At the top of the hill above Bantham beach the coastal footpath carries on to the right to Thurlestone beaches or you can go inland along the ridge to Thurlestone village.\n",
      "\n",
      "0.45385444737658975: West Highland Railway above Loch Long - The railway hugs the side of the mountain on the east side of Loch Long high above the loch. Picture taken from Ardgartan campsite on the west side of the sea loch.\n",
      "\n",
      "0.45385444737658975: View towards Loch Beanie - From the ridge south of Carn an Daimh there is a view down to Gleann Carnach and Loch Beanie. The loch is larger than it seems at first glance in this picture - the southern (right hand) side of the loch is reflecting the hillside above.\n",
      "\n",
      "0.45385444737658975: Loch na Craige - This loch occupies a hollow by the road almost at the top of the pass above Aberfeldy. It must be quite unusual for the loch to be frozen over without there being much snow on the adjacent ground. The snowcapped summit to the right is Farragon Hill.\n",
      "\n",
      "0.45385444737658975: The Pot Loch Selkirk - Local small loch that is reputed to be \"bottomless\". During Napoleonic times French prisoners held in the town apparently visited the loch looking for frogs - much to the disgust of the locals!\n",
      "\n",
      "0.45385444737658975: Loch Liurboist - Sea loch south of Stornoway. Crofting townships line its northern shore while the southern shore is unpopulated. Fish farming is carried out on the loch.\n",
      "\n",
      "0.45385444737658975: Beach at Loch Bharcasaig - The loch is a small inlet from Loch Bracadale. Land above the western shore of the loch is planted forest.\n",
      "\n",
      "0.45385444737658975: Loch Ravag - Viewed from close to the fence which is the forest boundary. This remote and beautiful loch is almost surrounded by forest. The surface of the loch was largely frozen on this day.\n",
      "\n",
      "0.45385444737658975: Loch Bad an Scalaig - Gairloch - View from the picnic area looking across the loch to the south. The geological strata stand out on the mountain.  The loch holds water for the Kerry Falls hydroelectric power station.\n",
      "\n",
      "0.45385444737658975: Gravel Road on N edge of Loch Muick - This gravel estate road runs the length of the northern side of the loch. It gives vehicular access to the lodge at Glas-allt-shiel. The view also shows the typically steep hillside leading up from the loch.\n",
      "\n",
      "0.45385444737658975: Crooked Loch - This small loch in a forestry area is shared by two squares. This is the southern part of the loch viewed from the east bank.\n",
      "\n",
      "0.45385444737658975: Fence leading to Loch Coulin - Viewed from the footpath that leads around the loch. The mountain directly behind the loch is Sgurr Dubh.\n",
      "\n",
      "0.45385444737658975: Crookna Water - Crookna Water is a shallow and rather sterile looking loch with Ronas Hill rising into the mist behind it. There is a lot of fine peat silt in the loch from the erosion on the slopes of the White Grunnafirth.\n",
      "\n",
      "0.45385444737658975: Aldinna Loch - Looking back towards the loch from the lower slopes of Eldrick Hill. Most of the loch lies in this square.\n",
      "\n",
      "0.45385444737658975: Steallaire Ban Loch - Looking across the loch towards the dam. This loch supplies water to the town of Inveraray.\n",
      "\n",
      "0.45385444737658975: Early winter at the Cluanie Dam - A view of the artificial loch taken from the northern end of the dam. The trees and grass are heavily frosted and the loch is generating a low mist across its surface.\n",
      "\n",
      "0.45385444737658975: Loch Croispol Durness - The south west end of the loch can become weedy later in the summer as it is the shallowest part.  Banks of weed can be seen beyond the end of the wall. Balnakeil craft village can be seen across the loch as can the former manse. The view is from a narrow gap which takes the path from Croispol to Borralie.\n",
      "\n",
      "0.45385444737658975: Headshaw Loch - Viewed in early March from Stobshaw Hill with three whooper swans on the west side of the loch. A grid line splits this loch.\n",
      "\n",
      "0.45385444737658975: Loch an Duna looking back towards the village - Perhaps a less common view of the broch and village than the standard \"tourist\" shot this shows the large stones which are common on the shores of the loch. This loch can produce good trout and they are often to be found lying among the stones close in to the shore.\n",
      "\n",
      "0.45385444737658975: Loch Creran - The old road around the loch provides several good views of the loch and surrounding mountains.\n",
      "\n",
      "0.45385444737658975: Loch at Southwick House - A loch in the grounds of Southwick House. The house can be seen in the trees behind the loch.\n",
      "\n",
      "0.45385444737658975: Small loch near Claddach - The loch is unnamed on the 1:25000 map. The farm at Cladville is seen on the hillside beyond the loch.\n",
      "\n",
      "0.45385444737658975: Loch or lochan near the valley of the Muckle Burn - Small loch or lochan used as a fishing loch in hilly area south of Nairn. The adjacent land is generally used for stock-rearing and large areas of coniferous forest are common.  Laiken Forest can be seen on the horizon.\n",
      "\n",
      "0.45385444737658975: Head of Loch Bad an t-Seabhaig - The burn entering the loch through the trees had an almost Amazonian look about it.  The burden of silt from the burn has made the loch about mid wellie depth at this point.\n",
      "\n",
      "0.45385444737658975: Loch Dubh-mhòr - A view across the young trees to the south of the loch to the loch itself.\n",
      "\n",
      "0.45385444737658975: The southern end of Mossdale Loch - This view is taken from the A762. The loch can just be seen in front of the trees. The ground between the road and loch is very marshy.\n",
      "\n",
      "0.45385444737658975: Loch na Sreinge - A view from a new forest road to the west of this loch. The associated felling has opened up this view of the island in the middle of the loch.\n",
      "\n",
      "0.45192722368829485: Heogland storm beach - The storm beach separating the sea and the loch; Gallow Hill is in the background.\n",
      "\n",
      "0.45192722368829485: Killypole Loch - Killypole loch from Slate Hill with Machrihanish and westport beaches in the distance\n",
      "\n",
      "0.45: Landing Place Rhenigidale - The last place in the Western Isles to get a road link into the village. In former times there was a moorland track and this landing beach which were the only two ways of access. In stormy weather the landing beach was too exposed. The white house with the distinctive porthole shaped wind is Tighe na Mara and is well named -literally- \"House by the Sea\"\n",
      "\n",
      "0.45: Boat on Ringstead Beach - The beach at Ringstead is almost entirely made up of flint. The village is just behind the beach\n",
      "\n",
      "0.45: Seaford Bay - Viewed from the beach at Bishopstone looking towards Castle Hill and the western breakwater at the mouth of the River Ouse at Newhaven. Much of this shoreline has a history of being unstable with the mouth of the river moving up and down between Seaford and Newhaven over the centuries. Often a big storm similar to the day before this was taken would block one mouth with shingle removed from further down the bay which in turn would denude that beach and open another mouth.\n",
      "\n",
      "0.45: Tunnel Entrance - This is the beach side entrance to the tunnel which connects the beach to the village. The miners who cut the tunnel exploited one of the weaker bands in the granite which can be seen rising from the top of the tunnel. This accounts for the slanted profile of the tunnel entrance.\n",
      "\n",
      "0.45: Llandanwg beach - Looking north with the village on the clifftop and the curve of Harlech beach beyond. The beach here is dotted with rocks and the sandy parts disappear completely below the high tide mark on the left. Snowdon in the far distance.\n",
      "\n",
      "0.45: Langland Bay Promenade - Palm trees give this suburban beach a Mediterranean air. A long line of beach huts is above the promenade.\n",
      "\n",
      "0.45: Dead trees below Boathouse Covert - Boathouse Covert is a woodland that separates Benacre Broad from the fields further to the north.  Remains of dead trees are littering the beach and the causeway that separates the North Sea from Benacre Broad and it is most likely that the trees have come from here. They started their lives growing several hundred yards inland and are now being systematically killed by the salt spray of the ever encroaching North Sea.  According to contemporary OS maps the coastline here has retreated for more than 500 metres between 1830 and 2001.  This becomes most apparent when standing on the sand cliffs above the beach.\n",
      "\n",
      "0.45: Dead trees of Boathouse Covert - Boathouse Covert is a woodland that separates Benacre Broad from the fields further to the north.  Remains of dead trees are littering the beach and the causeway that separates the North Sea from Benacre Broad and it is most likely that the trees have come from here. They started their lives growing several hundred yards inland and are now being systematically killed by the salt spray of the ever encroaching North Sea.  According to contemporary OS maps the coastline here has retreated for more than 500 metres between 1830 and 2001.  This becomes most apparent when standing on the sand cliffs above the beach.\n",
      "\n",
      "0.45: Dead trees in Boathouse Covert - Boathouse Covert is a woodland that separates Benacre Broad from the fields further to the north.  Remains of dead trees are littering the beach and the causeway that separates the North Sea from Benacre Broad and it is most likely that the trees have come from here. They started their lives growing several hundred yards inland and are now being systematically killed by the salt spray of the ever encroaching North Sea.  According to contemporary OS maps the coastline here has retreated for more than 500 metres between 1830 and 2001.  This becomes most apparent when standing on the sand cliffs above the beach.\n",
      "\n",
      "0.45: Dead tree standing on the edge of Boathouse Covert - Boathouse Covert is a woodland that separates Benacre Broad from the fields further to the north.  Remains of dead trees are littering the beach and the causeway that separates the North Sea from Benacre Broad and it is most likely that the trees have come from here. They started their lives growing several hundred yards inland and are now being systematically killed by the salt spray of the ever encroaching North Sea.  According to contemporary OS maps the coastline here has retreated for more than 500 metres between 1830 and 2001.  This becomes most apparent when standing on the sand cliffs above the beach.\n",
      "\n",
      "0.45: Beached below Boathouse Covert - Boathouse Covert is a woodland that separates Benacre Broad from the fields further to the north.  Remains of dead trees are littering the beach and the causeway that separates the North Sea from Benacre Broad and it is most likely that the trees have come from here. They started their lives growing several hundred yards inland and are now being systematically killed by the salt spray of the ever encroaching North Sea.  According to contemporary OS maps the coastline here has retreated for more than 500 metres between 1830 and 2001.  This becomes most apparent when standing on the sand cliffs above the beach.\n",
      "\n",
      "0.45: Narrow path exiting Boathouse Covert - Boathouse Covert is a woodland that separates Benacre Broad from the fields further to the north.  Remains of dead trees are littering the beach and the causeway that separates the North Sea from Benacre Broad and it is most likely that the trees have come from here. They started their lives growing several hundred yards inland and are now being systematically killed by the salt spray of the ever encroaching North Sea.  According to contemporary OS maps the coastline here has retreated for more than 500 metres between 1830 and 2001.  This becomes most apparent when standing on the sand cliffs above the beach.\n",
      "\n",
      "0.45: Clifftop path approaching Boathouse Covert - Boathouse Covert is a woodland that separates Benacre Broad from the fields further to the north.  Remains of dead trees are littering the beach and the causeway that separates the North Sea from Benacre Broad and it is most likely that the trees have come from here. They started their lives growing several hundred yards inland and are now being systematically killed by the salt spray of the ever encroaching North Sea.  According to contemporary OS maps the coastline here has retreated for more than 500 metres between 1830 and 2001.  This becomes most apparent when standing on the sand cliffs above the beach.\n",
      "\n",
      "0.45: Dores Beach - The beach gives access to walks through the forest on Tor Point beyond. Low winter sunshine gives a reddish glow to the beach and to some of the numerous walkers taking advantage of the fine Boxing Day weather.\n",
      "\n",
      "0.45: Coastal Erosion - Netley - This fallen tree is a victim of coastal erosion at Netley beach. There are no defences along this stretch of beach.\n",
      "\n",
      "0.45: Woolacombe : Coastal View from Marine Drive - A glorious summer's day at the beach. The sandy beach is down this lush hillside.\n",
      "\n",
      "0.45: Bexhill beach - A row of wooden beach huts along the shingle beach at Bexhill-on-Sea.  The town of Hastings is visible in the distance along the coast.\n",
      "\n",
      "0.45: Calshot Beach and Beach Huts - This picture shows one end of the beach huts that hug Calshot Spit.  Further along there is a sharp rise away from the sea with a lot of trees and shrub.  There is very little sand on this beach - mostly the stones as you can see.\n",
      "\n",
      "0.45: 'Gone for a swim' - The young owner of this beach ball and sand castle has taken the opportunity to go for a swim in this perfect British seaside weather. The view is across Morfa Bychan beach with the mountain Moel-y-Gest in the background.\n",
      "\n",
      "0.45: Tree Trunk - This tree trunk stands proud on the beach at Port Castle Bay and has clearly been washed ashore at some point. Normally I collect scraps of wood on the beach for my wood burners but this one was a tad too big to lug back to the car park. A couple of lobster pots lay abandoned in the background.\n",
      "\n",
      "0.45: Beach huts Broadsands Beach Torbay - The light and reflection of the beach huts on the sand at 6.30 am in the June morning display the beach and the hillside in a near perfect form.\n",
      "\n",
      "0.45: The tide is turning - View from the dune ridge towards the beach below Horsey Gap. Horsey is a National Trust Nature reserve located on the northern reach of the Norfolk Broads. Horsey is famous for its fully restored restored wind pump > http://www.geograph.org.uk/photo/471133 which is four stories high and open to visitors.  Horsey itself is a small village with a beautiful thatched church > http://www.geograph.org.uk/photo/883751.  Access to the beach is possible on Horsey Gap where a colony of seals can often be seen.\n",
      "\n",
      "0.45: Felixstowe Beach - Replenished sandy beach and concrete sea defence wall by the caravan park. View north west along the beach towards Felixstowe town.\n",
      "\n",
      "0.45: Rocky foreshore of Camas Malag - A beach of pebbles and bedrock backed by incomparable mountains. A fitting conclusion to a walk up Loch Slapin from the deserted village of Suisnish. I did the walk just one year earlier in similar benign November weather and found a similar sense of wonder at this beach. [[[2172225]]]\n",
      "\n",
      "0.45: Rutland Water shoreline - A fall in the level of Rutland Water has revealed this beach with its boulders and exposed tree roots. Hard to believe that this is a reservoir in the centre of England and not a tropical beach!\n",
      "\n",
      "0.45: Castlegregory and the Slieve Mish - The view of this beach was taken at the end of the lane that leads from Castlegregory past the new school. It is the southeastern continuation of the wonderful beach in [[1370200]]. Beyond the waters of Tralee Bay looms the Slieve Mish Mountains.\n",
      "\n",
      "0.45: View along The Street - Horsey is a National Trust Nature reserve located on the northern reach of the Norfolk Broads. Horsey is famous for its fully restored restored wind pump > http://www.geograph.org.uk/photo/471133 which is four stories high and open to visitors.  Horsey itself is a small village with a beautiful thatched church > http://www.geograph.org.uk/photo/883751.  Access to the beach is possible from various locations alongside the coast; a colony of seals can often be seen on some section of beach between Horsey Gap >  http://www.geograph.org.uk/photo/995218 Crinkle Hill Gap > http://www.geograph.org.uk/photo/1016217 and Bramble Hill Gap > http://www.geograph.org.uk/photo/1016257.\n",
      "\n",
      "0.45: Red brick and flint barn belonging to Street Farm - On the Street. Horsey is a National Trust Nature reserve located on the northern reach of the Norfolk Broads. Horsey is famous for its fully restored restored wind pump > http://www.geograph.org.uk/photo/471133 which is four stories high and open to visitors.  Horsey itself is a small village with a beautiful thatched church > http://www.geograph.org.uk/photo/883751.  Access to the beach is possible from various locations alongside the coast; a colony of seals can often be seen on some section of beach between Horsey Gap >  http://www.geograph.org.uk/photo/995218 Crinkle Hill Gap > http://www.geograph.org.uk/photo/1016217 and Bramble Hill Gap > http://www.geograph.org.uk/photo/1016257.\n",
      "\n",
      "0.45: Attractively converted barn - On The Street. Horsey is a National Trust Nature reserve located on the northern reach of the Norfolk Broads. Horsey is famous for its fully restored restored wind pump > http://www.geograph.org.uk/photo/471133 which is four stories high and open to visitors.  Horsey itself is a small village with a beautiful thatched church > http://www.geograph.org.uk/photo/883751.  Access to the beach is possible from various locations alongside the coast; a colony of seals can often be seen on some section of beach between Horsey Gap >  http://www.geograph.org.uk/photo/995218 Crinkle Hill Gap > http://www.geograph.org.uk/photo/1016217 and Bramble Hill Gap > http://www.geograph.org.uk/photo/1016257.\n",
      "\n",
      "0.45: St Monans Post Office - The Post office is the central building in this photo taken from across the harbour and looking North. The village is built on a raised beach and the houses of the street behind are on the upper beach with steep wynds between both streets.\n",
      "\n",
      "0.45: The road into Beadnell - Looking along the road into Beadnell village which runs alongside the sand dunes and beach. The gate on the left of the photo allows pedestrian access to the dunes and beach.\n",
      "\n",
      "0.45: Scrub and gorse west of Stepper Point (2) - Looking south from scrubland near Stepper point with the River Camel estuary beyond. The beach and dunes on the left stretch fgrom Rock to Brea Hill; the beach on the right is Harbour Cove.\n",
      "\n",
      "0.45: Beach at Maer Rocks Exmouth - The high tide and strong waves are covering the rocks just off the beach which are only exposed at low tide. This is one of several groynes that run out from the beach at Queens Drive just east of the town.\n",
      "\n",
      "0.45: Findhorn Beach - Shingle and sand beach with sand dunes backing the beach. The shore of Roseisle Forest can be seen in the middle distance with Clarky Hill and Tappoch Hill beyond.\n",
      "\n",
      "0.45: Stream looking from above. - This little stream is near the beach at Kirkcolm.  The view is taken from a small bridge which crosses the stream on a track leading down from the village to the beach.\n",
      "\n",
      "0.38715642661669586: Lochan Doire Meall an Eilein - Looking down onto Lochan Doire Meall an Eilein (appears to mean the small loch of the oak hill with an island). Behind is Loch Quoich & hills to the north\n",
      "\n",
      "0.38715642661669586: Cailness Burn - This burn meanders across the wet grassland above the eastern side of Loch Lomond before dropping rapidly down a ravine and emptying into the loch.  The small craggy hill called Cruachan is on the right of the photo.  The larger hill in the background is Ben Vorlich on the opposite side of Loch Lomond.\n",
      "\n",
      "0.38715642661669586: Loch Scalpaidh - An attractive freshwater loch in the hills above Kyle of Lochalsh. The Kylerhea hills on Skye are visible in the distance.\n",
      "\n",
      "0.38715642661669586: Dun in hill lochan. - The island dun in the hill lochan above Cnip. Typical rocky hillside behind. There are some old mills on the burn flowing into the silted up loch na cuilc over the hill to the left of the picture.\n",
      "\n",
      "0.38715642661669586: Hill pass on island of Lewis - This gravel road passes between the Tamanasbhal and Laibheal a Deas hills. In the distance Loch Raonasgall can be seen between further hills to the north. The road travels south to provide access to the sea loch Cheann Chuisil and the dwelling at Tamanabhagh.\n",
      "\n",
      "0.38715642661669586: Loch nan Ramh - Small hill loch with a view southwards towards the hills of North Harris.\n",
      "\n",
      "0.385229202928401: Polzeath towards Trebetherick - The Oyster Catcher pub is the white building on the far left. You can see the cars in its carpark. There were once mines under this hill but it is now completely built up. Rows of houses face down the hill overlooking Polzeath surfing beach. \n",
      "\n",
      "0.37301205719855435: Show Off on Bread & Cheese Hill - This is a view of the A13 Bread & Cheese Hill Thundersley. The hill rises 54m from the 30m contour line at TQ775844 to the 84m Spot Height at TQ788879 (about 1.5km in road distance). That's a long hill in Essex!. The hill got its name in the Edwardian era when motorcars on the way to Southend-on-Sea would boil over by the time they reached the brow of the hill. Chauffeurs would eat their bread and cheese lunch while the engines cooled. It was not long before a hostelry (which still survives) was opened to take advantage of the trade. There are no prizes for guessing its name!\n",
      "\n"
     ]
    }
   ],
   "source": [
    "n = 100\n",
    "i=0\n",
    "for key in ranked:\n",
    "    score = ranked[key]\n",
    "    row = sample.loc[sample['id'] == key]\n",
    "    title = row.iloc[0]['title']\n",
    "    text = row.iloc[0]['text']\n",
    "    print(f'{score}: {title} - {text}\\n')\n",
    "    if i == n:\n",
    "        break\n",
    "    i = i+1"
   ]
  },
  {
   "cell_type": "code",
   "execution_count": 25,
   "id": "db537102",
   "metadata": {},
   "outputs": [],
   "source": [
    "xs = []\n",
    "ys = []\n",
    "scores = []\n",
    "label = []\n",
    "i=0\n",
    "for key in ranked:\n",
    "    score = ranked[key]\n",
    "    row = sample.loc[sample['id'] == key]\n",
    "    title = row.iloc[0]['title']\n",
    "    g = OSGridConverter.latlong2grid (row.iloc[0]['lat'], row.iloc[0]['lon'], tag = 'WGS84')\n",
    "    xs.append(g.E)\n",
    "    ys.append(g.N)\n",
    "    label.append(title)\n",
    "    scores.append(score)\n",
    "    if i == n:\n",
    "        break\n",
    "    i = i+1\n"
   ]
  },
  {
   "cell_type": "code",
   "execution_count": 26,
   "id": "50cb1f18",
   "metadata": {},
   "outputs": [
    {
     "data": {
      "application/vnd.plotly.v1+json": {
       "config": {
        "plotlyServerURL": "https://plot.ly"
       },
       "data": [
        {
         "customdata": [
          [
           "Crowlink Gap"
          ],
          [
           "Studland beach immediately beyond Shell Bay"
          ],
          [
           "Loch Diubaig"
          ],
          [
           "Assynt scenery"
          ],
          [
           "Loch Lee"
          ],
          [
           "Loch Dochart"
          ],
          [
           "Clogher Beach"
          ],
          [
           "Loch an Duin looking West"
          ],
          [
           "Loch Duagrich"
          ],
          [
           "St Mary's Loch"
          ],
          [
           "Lyme Regis Beach"
          ],
          [
           "Mansands beach"
          ],
          [
           "Lellizzick view"
          ],
          [
           "Loch Meadaidh"
          ],
          [
           "Laggan Loch"
          ],
          [
           "Loch Beag from Dùn Garsin"
          ],
          [
           "Gleann Cinn-locha"
          ],
          [
           "Loch Fraing"
          ],
          [
           "Small Knoll Overlooking Loch Bealach a'Bhuirich"
          ],
          [
           "Loch an Tubairnaich"
          ],
          [
           "Loch Scammadale"
          ],
          [
           "Towards Crom Loch"
          ],
          [
           "Loch Seil"
          ],
          [
           "Inch Strand"
          ],
          [
           "Barmouth Beach"
          ],
          [
           "Shore of Luce Bay near Corwall Port"
          ],
          [
           "White Strand"
          ],
          [
           "Beach north-east of Trefor"
          ],
          [
           "Mansands Beach"
          ],
          [
           "Top of the Hill"
          ],
          [
           "West Highland Railway above Loch Long"
          ],
          [
           "View towards Loch Beanie"
          ],
          [
           "Loch na Craige"
          ],
          [
           "The Pot Loch Selkirk"
          ],
          [
           "Loch Liurboist"
          ],
          [
           "Beach at Loch Bharcasaig"
          ],
          [
           "Loch Ravag"
          ],
          [
           "Loch Bad an Scalaig - Gairloch"
          ],
          [
           "Gravel Road on N edge of Loch Muick"
          ],
          [
           "Crooked Loch"
          ],
          [
           "Fence leading to Loch Coulin"
          ],
          [
           "Crookna Water"
          ],
          [
           "Aldinna Loch"
          ],
          [
           "Steallaire Ban Loch"
          ],
          [
           "Early winter at the Cluanie Dam"
          ],
          [
           "Loch Croispol Durness"
          ],
          [
           "Headshaw Loch"
          ],
          [
           "Loch an Duna looking back towards the village"
          ],
          [
           "Loch Creran"
          ],
          [
           "Loch at Southwick House"
          ],
          [
           "Small loch near Claddach"
          ],
          [
           "Loch or lochan near the valley of the Muckle Burn"
          ],
          [
           "Head of Loch Bad an t-Seabhaig"
          ],
          [
           "Loch Dubh-mhòr"
          ],
          [
           "The southern end of Mossdale Loch"
          ],
          [
           "Loch na Sreinge"
          ],
          [
           "Heogland storm beach"
          ],
          [
           "Killypole Loch"
          ],
          [
           "Landing Place Rhenigidale"
          ],
          [
           "Boat on Ringstead Beach"
          ],
          [
           "Seaford Bay"
          ],
          [
           "Tunnel Entrance"
          ],
          [
           "Llandanwg beach"
          ],
          [
           "Langland Bay Promenade"
          ],
          [
           "Dead trees below Boathouse Covert"
          ],
          [
           "Dead trees of Boathouse Covert"
          ],
          [
           "Dead trees in Boathouse Covert"
          ],
          [
           "Dead tree standing on the edge of Boathouse Covert"
          ],
          [
           "Beached below Boathouse Covert"
          ],
          [
           "Narrow path exiting Boathouse Covert"
          ],
          [
           "Clifftop path approaching Boathouse Covert"
          ],
          [
           "Dores Beach"
          ],
          [
           "Coastal Erosion - Netley"
          ],
          [
           "Woolacombe : Coastal View from Marine Drive"
          ],
          [
           "Bexhill beach"
          ],
          [
           "Calshot Beach and Beach Huts"
          ],
          [
           "'Gone for a swim'"
          ],
          [
           "Tree Trunk"
          ],
          [
           "Beach huts Broadsands Beach Torbay"
          ],
          [
           "The tide is turning"
          ],
          [
           "Felixstowe Beach"
          ],
          [
           "Rocky foreshore of Camas Malag"
          ],
          [
           "Rutland Water shoreline"
          ],
          [
           "Castlegregory and the Slieve Mish"
          ],
          [
           "View along The Street"
          ],
          [
           "Red brick and flint barn belonging to Street Farm"
          ],
          [
           "Attractively converted barn"
          ],
          [
           "St Monans Post Office"
          ],
          [
           "The road into Beadnell"
          ],
          [
           "Scrub and gorse west of Stepper Point (2)"
          ],
          [
           "Beach at Maer Rocks Exmouth"
          ],
          [
           "Findhorn Beach"
          ],
          [
           "Stream looking from above."
          ],
          [
           "Lochan Doire Meall an Eilein"
          ],
          [
           "Cailness Burn"
          ],
          [
           "Loch Scalpaidh"
          ],
          [
           "Dun in hill lochan."
          ],
          [
           "Hill pass on island of Lewis"
          ],
          [
           "Loch nan Ramh"
          ],
          [
           "Polzeath towards Trebetherick"
          ],
          [
           "Show Off on Bread & Cheese Hill"
          ]
         ],
         "hovertemplate": "x=%{x}<br>y=%{y}<br>hover_data_0=%{customdata[0]}<br>color=%{marker.color}<extra></extra>",
         "legendgroup": "",
         "marker": {
          "color": [
           0.9,
           0.9,
           0.7608962725290852,
           0.7608962725290852,
           0.7608962725290852,
           0.7608962725290852,
           0.7551146014642005,
           0.6807816710648846,
           0.6807816710648846,
           0.6807816710648846,
           0.675,
           0.675,
           0.675,
           0.6140836503049908,
           0.6140836503049908,
           0.6140836503049908,
           0.5339690488407902,
           0.5339690488407902,
           0.5339690488407902,
           0.5339690488407902,
           0.5339690488407902,
           0.5339690488407902,
           0.5339690488407902,
           0.5301146014642005,
           0.5301146014642005,
           0.5301146014642005,
           0.5301146014642005,
           0.5301146014642005,
           0.5301146014642005,
           0.5301146014642005,
           0.45385444737658975,
           0.45385444737658975,
           0.45385444737658975,
           0.45385444737658975,
           0.45385444737658975,
           0.45385444737658975,
           0.45385444737658975,
           0.45385444737658975,
           0.45385444737658975,
           0.45385444737658975,
           0.45385444737658975,
           0.45385444737658975,
           0.45385444737658975,
           0.45385444737658975,
           0.45385444737658975,
           0.45385444737658975,
           0.45385444737658975,
           0.45385444737658975,
           0.45385444737658975,
           0.45385444737658975,
           0.45385444737658975,
           0.45385444737658975,
           0.45385444737658975,
           0.45385444737658975,
           0.45385444737658975,
           0.45385444737658975,
           0.45192722368829485,
           0.45192722368829485,
           0.45,
           0.45,
           0.45,
           0.45,
           0.45,
           0.45,
           0.45,
           0.45,
           0.45,
           0.45,
           0.45,
           0.45,
           0.45,
           0.45,
           0.45,
           0.45,
           0.45,
           0.45,
           0.45,
           0.45,
           0.45,
           0.45,
           0.45,
           0.45,
           0.45,
           0.45,
           0.45,
           0.45,
           0.45,
           0.45,
           0.45,
           0.45,
           0.45,
           0.45,
           0.45,
           0.38715642661669586,
           0.38715642661669586,
           0.38715642661669586,
           0.38715642661669586,
           0.38715642661669586,
           0.38715642661669586,
           0.385229202928401,
           0.37301205719855435
          ],
          "coloraxis": "coloraxis",
          "symbol": "circle"
         },
         "mode": "markers",
         "name": "",
         "orientation": "v",
         "showlegend": false,
         "type": "scatter",
         "x": [
          553709,
          404099,
          132970,
          218060,
          342139,
          240899,
          -178362,
          122000,
          139870,
          326120,
          333980,
          292419,
          190820,
          240540,
          220639,
          135740,
          178300,
          154409,
          225900,
          287679,
          188820,
          238430,
          180660,
          -145015,
          260340,
          227869,
          -121985,
          238170,
          292220,
          266250,
          227849,
          313580,
          288499,
          347800,
          137249,
          125520,
          137949,
          184969,
          328099,
          335480,
          201420,
          428199,
          236559,
          207099,
          218319,
          238939,
          345999,
          128560,
          198269,
          293560,
          116619,
          291100,
          223380,
          189200,
          265769,
          192670,
          457570,
          164500,
          122839,
          375110,
          546420,
          137150,
          256749,
          260579,
          653319,
          653379,
          653199,
          653209,
          653339,
          653239,
          653259,
          259700,
          445369,
          245410,
          574919,
          447980,
          254140,
          242250,
          289519,
          646139,
          629059,
          158269,
          490220,
          -146159,
          646010,
          646079,
          646119,
          352499,
          423160,
          190980,
          301729,
          304219,
          203460,
          201099,
          235320,
          178109,
          109899,
          103580,
          132700,
          193200,
          578499
         ],
         "xaxis": "x",
         "y": [
          96820,
          85800,
          854680,
          939050,
          779780,
          725800,
          284914,
          896700,
          839630,
          623690,
          91920,
          53300,
          77340,
          965060,
          595660,
          838420,
          679500,
          722570,
          927800,
          908900,
          720470,
          881670,
          720560,
          277842,
          316320,
          548680,
          449393,
          347140,
          53760,
          43250,
          701600,
          770300,
          745500,
          628300,
          925110,
          842070,
          844930,
          871930,
          782800,
          613900,
          855480,
          1181030,
          593860,
          709100,
          810100,
          967700,
          623600,
          947370,
          744220,
          557210,
          653800,
          851100,
          945500,
          714800,
          570910,
          716950,
          1199500,
          617500,
          901700,
          81340,
          99880,
          21710,
          328290,
          187360,
          283130,
          283180,
          283170,
          283180,
          283170,
          283160,
          283200,
          834970,
          108400,
          141950,
          107300,
          101110,
          336490,
          535880,
          57540,
          324730,
          232550,
          819130,
          306890,
          292652,
          322820,
          322810,
          322780,
          701600,
          629630,
          78010,
          79740,
          864950,
          568730,
          800800,
          705290,
          828750,
          935300,
          924830,
          930050,
          78600,
          188000
         ],
         "yaxis": "y"
        }
       ],
       "layout": {
        "coloraxis": {
         "colorbar": {
          "title": {
           "text": "color"
          }
         },
         "colorscale": [
          [
           0,
           "#0d0887"
          ],
          [
           0.1111111111111111,
           "#46039f"
          ],
          [
           0.2222222222222222,
           "#7201a8"
          ],
          [
           0.3333333333333333,
           "#9c179e"
          ],
          [
           0.4444444444444444,
           "#bd3786"
          ],
          [
           0.5555555555555556,
           "#d8576b"
          ],
          [
           0.6666666666666666,
           "#ed7953"
          ],
          [
           0.7777777777777778,
           "#fb9f3a"
          ],
          [
           0.8888888888888888,
           "#fdca26"
          ],
          [
           1,
           "#f0f921"
          ]
         ]
        },
        "legend": {
         "tracegroupgap": 0
        },
        "margin": {
         "t": 60
        },
        "template": {
         "data": {
          "bar": [
           {
            "error_x": {
             "color": "#2a3f5f"
            },
            "error_y": {
             "color": "#2a3f5f"
            },
            "marker": {
             "line": {
              "color": "#E5ECF6",
              "width": 0.5
             },
             "pattern": {
              "fillmode": "overlay",
              "size": 10,
              "solidity": 0.2
             }
            },
            "type": "bar"
           }
          ],
          "barpolar": [
           {
            "marker": {
             "line": {
              "color": "#E5ECF6",
              "width": 0.5
             },
             "pattern": {
              "fillmode": "overlay",
              "size": 10,
              "solidity": 0.2
             }
            },
            "type": "barpolar"
           }
          ],
          "carpet": [
           {
            "aaxis": {
             "endlinecolor": "#2a3f5f",
             "gridcolor": "white",
             "linecolor": "white",
             "minorgridcolor": "white",
             "startlinecolor": "#2a3f5f"
            },
            "baxis": {
             "endlinecolor": "#2a3f5f",
             "gridcolor": "white",
             "linecolor": "white",
             "minorgridcolor": "white",
             "startlinecolor": "#2a3f5f"
            },
            "type": "carpet"
           }
          ],
          "choropleth": [
           {
            "colorbar": {
             "outlinewidth": 0,
             "ticks": ""
            },
            "type": "choropleth"
           }
          ],
          "contour": [
           {
            "colorbar": {
             "outlinewidth": 0,
             "ticks": ""
            },
            "colorscale": [
             [
              0,
              "#0d0887"
             ],
             [
              0.1111111111111111,
              "#46039f"
             ],
             [
              0.2222222222222222,
              "#7201a8"
             ],
             [
              0.3333333333333333,
              "#9c179e"
             ],
             [
              0.4444444444444444,
              "#bd3786"
             ],
             [
              0.5555555555555556,
              "#d8576b"
             ],
             [
              0.6666666666666666,
              "#ed7953"
             ],
             [
              0.7777777777777778,
              "#fb9f3a"
             ],
             [
              0.8888888888888888,
              "#fdca26"
             ],
             [
              1,
              "#f0f921"
             ]
            ],
            "type": "contour"
           }
          ],
          "contourcarpet": [
           {
            "colorbar": {
             "outlinewidth": 0,
             "ticks": ""
            },
            "type": "contourcarpet"
           }
          ],
          "heatmap": [
           {
            "colorbar": {
             "outlinewidth": 0,
             "ticks": ""
            },
            "colorscale": [
             [
              0,
              "#0d0887"
             ],
             [
              0.1111111111111111,
              "#46039f"
             ],
             [
              0.2222222222222222,
              "#7201a8"
             ],
             [
              0.3333333333333333,
              "#9c179e"
             ],
             [
              0.4444444444444444,
              "#bd3786"
             ],
             [
              0.5555555555555556,
              "#d8576b"
             ],
             [
              0.6666666666666666,
              "#ed7953"
             ],
             [
              0.7777777777777778,
              "#fb9f3a"
             ],
             [
              0.8888888888888888,
              "#fdca26"
             ],
             [
              1,
              "#f0f921"
             ]
            ],
            "type": "heatmap"
           }
          ],
          "heatmapgl": [
           {
            "colorbar": {
             "outlinewidth": 0,
             "ticks": ""
            },
            "colorscale": [
             [
              0,
              "#0d0887"
             ],
             [
              0.1111111111111111,
              "#46039f"
             ],
             [
              0.2222222222222222,
              "#7201a8"
             ],
             [
              0.3333333333333333,
              "#9c179e"
             ],
             [
              0.4444444444444444,
              "#bd3786"
             ],
             [
              0.5555555555555556,
              "#d8576b"
             ],
             [
              0.6666666666666666,
              "#ed7953"
             ],
             [
              0.7777777777777778,
              "#fb9f3a"
             ],
             [
              0.8888888888888888,
              "#fdca26"
             ],
             [
              1,
              "#f0f921"
             ]
            ],
            "type": "heatmapgl"
           }
          ],
          "histogram": [
           {
            "marker": {
             "pattern": {
              "fillmode": "overlay",
              "size": 10,
              "solidity": 0.2
             }
            },
            "type": "histogram"
           }
          ],
          "histogram2d": [
           {
            "colorbar": {
             "outlinewidth": 0,
             "ticks": ""
            },
            "colorscale": [
             [
              0,
              "#0d0887"
             ],
             [
              0.1111111111111111,
              "#46039f"
             ],
             [
              0.2222222222222222,
              "#7201a8"
             ],
             [
              0.3333333333333333,
              "#9c179e"
             ],
             [
              0.4444444444444444,
              "#bd3786"
             ],
             [
              0.5555555555555556,
              "#d8576b"
             ],
             [
              0.6666666666666666,
              "#ed7953"
             ],
             [
              0.7777777777777778,
              "#fb9f3a"
             ],
             [
              0.8888888888888888,
              "#fdca26"
             ],
             [
              1,
              "#f0f921"
             ]
            ],
            "type": "histogram2d"
           }
          ],
          "histogram2dcontour": [
           {
            "colorbar": {
             "outlinewidth": 0,
             "ticks": ""
            },
            "colorscale": [
             [
              0,
              "#0d0887"
             ],
             [
              0.1111111111111111,
              "#46039f"
             ],
             [
              0.2222222222222222,
              "#7201a8"
             ],
             [
              0.3333333333333333,
              "#9c179e"
             ],
             [
              0.4444444444444444,
              "#bd3786"
             ],
             [
              0.5555555555555556,
              "#d8576b"
             ],
             [
              0.6666666666666666,
              "#ed7953"
             ],
             [
              0.7777777777777778,
              "#fb9f3a"
             ],
             [
              0.8888888888888888,
              "#fdca26"
             ],
             [
              1,
              "#f0f921"
             ]
            ],
            "type": "histogram2dcontour"
           }
          ],
          "mesh3d": [
           {
            "colorbar": {
             "outlinewidth": 0,
             "ticks": ""
            },
            "type": "mesh3d"
           }
          ],
          "parcoords": [
           {
            "line": {
             "colorbar": {
              "outlinewidth": 0,
              "ticks": ""
             }
            },
            "type": "parcoords"
           }
          ],
          "pie": [
           {
            "automargin": true,
            "type": "pie"
           }
          ],
          "scatter": [
           {
            "fillpattern": {
             "fillmode": "overlay",
             "size": 10,
             "solidity": 0.2
            },
            "type": "scatter"
           }
          ],
          "scatter3d": [
           {
            "line": {
             "colorbar": {
              "outlinewidth": 0,
              "ticks": ""
             }
            },
            "marker": {
             "colorbar": {
              "outlinewidth": 0,
              "ticks": ""
             }
            },
            "type": "scatter3d"
           }
          ],
          "scattercarpet": [
           {
            "marker": {
             "colorbar": {
              "outlinewidth": 0,
              "ticks": ""
             }
            },
            "type": "scattercarpet"
           }
          ],
          "scattergeo": [
           {
            "marker": {
             "colorbar": {
              "outlinewidth": 0,
              "ticks": ""
             }
            },
            "type": "scattergeo"
           }
          ],
          "scattergl": [
           {
            "marker": {
             "colorbar": {
              "outlinewidth": 0,
              "ticks": ""
             }
            },
            "type": "scattergl"
           }
          ],
          "scattermapbox": [
           {
            "marker": {
             "colorbar": {
              "outlinewidth": 0,
              "ticks": ""
             }
            },
            "type": "scattermapbox"
           }
          ],
          "scatterpolar": [
           {
            "marker": {
             "colorbar": {
              "outlinewidth": 0,
              "ticks": ""
             }
            },
            "type": "scatterpolar"
           }
          ],
          "scatterpolargl": [
           {
            "marker": {
             "colorbar": {
              "outlinewidth": 0,
              "ticks": ""
             }
            },
            "type": "scatterpolargl"
           }
          ],
          "scatterternary": [
           {
            "marker": {
             "colorbar": {
              "outlinewidth": 0,
              "ticks": ""
             }
            },
            "type": "scatterternary"
           }
          ],
          "surface": [
           {
            "colorbar": {
             "outlinewidth": 0,
             "ticks": ""
            },
            "colorscale": [
             [
              0,
              "#0d0887"
             ],
             [
              0.1111111111111111,
              "#46039f"
             ],
             [
              0.2222222222222222,
              "#7201a8"
             ],
             [
              0.3333333333333333,
              "#9c179e"
             ],
             [
              0.4444444444444444,
              "#bd3786"
             ],
             [
              0.5555555555555556,
              "#d8576b"
             ],
             [
              0.6666666666666666,
              "#ed7953"
             ],
             [
              0.7777777777777778,
              "#fb9f3a"
             ],
             [
              0.8888888888888888,
              "#fdca26"
             ],
             [
              1,
              "#f0f921"
             ]
            ],
            "type": "surface"
           }
          ],
          "table": [
           {
            "cells": {
             "fill": {
              "color": "#EBF0F8"
             },
             "line": {
              "color": "white"
             }
            },
            "header": {
             "fill": {
              "color": "#C8D4E3"
             },
             "line": {
              "color": "white"
             }
            },
            "type": "table"
           }
          ]
         },
         "layout": {
          "annotationdefaults": {
           "arrowcolor": "#2a3f5f",
           "arrowhead": 0,
           "arrowwidth": 1
          },
          "autotypenumbers": "strict",
          "coloraxis": {
           "colorbar": {
            "outlinewidth": 0,
            "ticks": ""
           }
          },
          "colorscale": {
           "diverging": [
            [
             0,
             "#8e0152"
            ],
            [
             0.1,
             "#c51b7d"
            ],
            [
             0.2,
             "#de77ae"
            ],
            [
             0.3,
             "#f1b6da"
            ],
            [
             0.4,
             "#fde0ef"
            ],
            [
             0.5,
             "#f7f7f7"
            ],
            [
             0.6,
             "#e6f5d0"
            ],
            [
             0.7,
             "#b8e186"
            ],
            [
             0.8,
             "#7fbc41"
            ],
            [
             0.9,
             "#4d9221"
            ],
            [
             1,
             "#276419"
            ]
           ],
           "sequential": [
            [
             0,
             "#0d0887"
            ],
            [
             0.1111111111111111,
             "#46039f"
            ],
            [
             0.2222222222222222,
             "#7201a8"
            ],
            [
             0.3333333333333333,
             "#9c179e"
            ],
            [
             0.4444444444444444,
             "#bd3786"
            ],
            [
             0.5555555555555556,
             "#d8576b"
            ],
            [
             0.6666666666666666,
             "#ed7953"
            ],
            [
             0.7777777777777778,
             "#fb9f3a"
            ],
            [
             0.8888888888888888,
             "#fdca26"
            ],
            [
             1,
             "#f0f921"
            ]
           ],
           "sequentialminus": [
            [
             0,
             "#0d0887"
            ],
            [
             0.1111111111111111,
             "#46039f"
            ],
            [
             0.2222222222222222,
             "#7201a8"
            ],
            [
             0.3333333333333333,
             "#9c179e"
            ],
            [
             0.4444444444444444,
             "#bd3786"
            ],
            [
             0.5555555555555556,
             "#d8576b"
            ],
            [
             0.6666666666666666,
             "#ed7953"
            ],
            [
             0.7777777777777778,
             "#fb9f3a"
            ],
            [
             0.8888888888888888,
             "#fdca26"
            ],
            [
             1,
             "#f0f921"
            ]
           ]
          },
          "colorway": [
           "#636efa",
           "#EF553B",
           "#00cc96",
           "#ab63fa",
           "#FFA15A",
           "#19d3f3",
           "#FF6692",
           "#B6E880",
           "#FF97FF",
           "#FECB52"
          ],
          "font": {
           "color": "#2a3f5f"
          },
          "geo": {
           "bgcolor": "white",
           "lakecolor": "white",
           "landcolor": "#E5ECF6",
           "showlakes": true,
           "showland": true,
           "subunitcolor": "white"
          },
          "hoverlabel": {
           "align": "left"
          },
          "hovermode": "closest",
          "mapbox": {
           "style": "light"
          },
          "paper_bgcolor": "white",
          "plot_bgcolor": "#E5ECF6",
          "polar": {
           "angularaxis": {
            "gridcolor": "white",
            "linecolor": "white",
            "ticks": ""
           },
           "bgcolor": "#E5ECF6",
           "radialaxis": {
            "gridcolor": "white",
            "linecolor": "white",
            "ticks": ""
           }
          },
          "scene": {
           "xaxis": {
            "backgroundcolor": "#E5ECF6",
            "gridcolor": "white",
            "gridwidth": 2,
            "linecolor": "white",
            "showbackground": true,
            "ticks": "",
            "zerolinecolor": "white"
           },
           "yaxis": {
            "backgroundcolor": "#E5ECF6",
            "gridcolor": "white",
            "gridwidth": 2,
            "linecolor": "white",
            "showbackground": true,
            "ticks": "",
            "zerolinecolor": "white"
           },
           "zaxis": {
            "backgroundcolor": "#E5ECF6",
            "gridcolor": "white",
            "gridwidth": 2,
            "linecolor": "white",
            "showbackground": true,
            "ticks": "",
            "zerolinecolor": "white"
           }
          },
          "shapedefaults": {
           "line": {
            "color": "#2a3f5f"
           }
          },
          "ternary": {
           "aaxis": {
            "gridcolor": "white",
            "linecolor": "white",
            "ticks": ""
           },
           "baxis": {
            "gridcolor": "white",
            "linecolor": "white",
            "ticks": ""
           },
           "bgcolor": "#E5ECF6",
           "caxis": {
            "gridcolor": "white",
            "linecolor": "white",
            "ticks": ""
           }
          },
          "title": {
           "x": 0.05
          },
          "xaxis": {
           "automargin": true,
           "gridcolor": "white",
           "linecolor": "white",
           "ticks": "",
           "title": {
            "standoff": 15
           },
           "zerolinecolor": "white",
           "zerolinewidth": 2
          },
          "yaxis": {
           "automargin": true,
           "gridcolor": "white",
           "linecolor": "white",
           "ticks": "",
           "title": {
            "standoff": 15
           },
           "zerolinecolor": "white",
           "zerolinewidth": 2
          }
         }
        },
        "xaxis": {
         "anchor": "y",
         "domain": [
          0,
          1
         ],
         "title": {
          "text": "x"
         }
        },
        "yaxis": {
         "anchor": "x",
         "domain": [
          0,
          1
         ],
         "title": {
          "text": "y"
         }
        }
       }
      },
      "text/html": [
       "<div>                            <div id=\"8f327ca9-4c5d-43af-8072-4fd2a432a1fa\" class=\"plotly-graph-div\" style=\"height:525px; width:100%;\"></div>            <script type=\"text/javascript\">                require([\"plotly\"], function(Plotly) {                    window.PLOTLYENV=window.PLOTLYENV || {};                                    if (document.getElementById(\"8f327ca9-4c5d-43af-8072-4fd2a432a1fa\")) {                    Plotly.newPlot(                        \"8f327ca9-4c5d-43af-8072-4fd2a432a1fa\",                        [{\"customdata\":[[\"Crowlink Gap\"],[\"Studland beach immediately beyond Shell Bay\"],[\"Loch Diubaig\"],[\"Assynt scenery\"],[\"Loch Lee\"],[\"Loch Dochart\"],[\"Clogher Beach\"],[\"Loch an Duin looking West\"],[\"Loch Duagrich\"],[\"St Mary's Loch\"],[\"Lyme Regis Beach\"],[\"Mansands beach\"],[\"Lellizzick view\"],[\"Loch Meadaidh\"],[\"Laggan Loch\"],[\"Loch Beag from D\\u00f9n Garsin\"],[\"Gleann Cinn-locha\"],[\"Loch Fraing\"],[\"Small Knoll Overlooking Loch Bealach a'Bhuirich\"],[\"Loch an Tubairnaich\"],[\"Loch Scammadale\"],[\"Towards Crom Loch\"],[\"Loch Seil\"],[\"Inch Strand\"],[\"Barmouth Beach\"],[\"Shore of Luce Bay near Corwall Port\"],[\"White Strand\"],[\"Beach north-east of Trefor\"],[\"Mansands Beach\"],[\"Top of the Hill\"],[\"West Highland Railway above Loch Long\"],[\"View towards Loch Beanie\"],[\"Loch na Craige\"],[\"The Pot Loch Selkirk\"],[\"Loch Liurboist\"],[\"Beach at Loch Bharcasaig\"],[\"Loch Ravag\"],[\"Loch Bad an Scalaig - Gairloch\"],[\"Gravel Road on N edge of Loch Muick\"],[\"Crooked Loch\"],[\"Fence leading to Loch Coulin\"],[\"Crookna Water\"],[\"Aldinna Loch\"],[\"Steallaire Ban Loch\"],[\"Early winter at the Cluanie Dam\"],[\"Loch Croispol Durness\"],[\"Headshaw Loch\"],[\"Loch an Duna looking back towards the village\"],[\"Loch Creran\"],[\"Loch at Southwick House\"],[\"Small loch near Claddach\"],[\"Loch or lochan near the valley of the Muckle Burn\"],[\"Head of Loch Bad an t-Seabhaig\"],[\"Loch Dubh-mh\\u00f2r\"],[\"The southern end of Mossdale Loch\"],[\"Loch na Sreinge\"],[\"Heogland storm beach\"],[\"Killypole Loch\"],[\"Landing Place Rhenigidale\"],[\"Boat on Ringstead Beach\"],[\"Seaford Bay\"],[\"Tunnel Entrance\"],[\"Llandanwg beach\"],[\"Langland Bay Promenade\"],[\"Dead trees below Boathouse Covert\"],[\"Dead trees of Boathouse Covert\"],[\"Dead trees in Boathouse Covert\"],[\"Dead tree standing on the edge of Boathouse Covert\"],[\"Beached below Boathouse Covert\"],[\"Narrow path exiting Boathouse Covert\"],[\"Clifftop path approaching Boathouse Covert\"],[\"Dores Beach\"],[\"Coastal Erosion - Netley\"],[\"Woolacombe : Coastal View from Marine Drive\"],[\"Bexhill beach\"],[\"Calshot Beach and Beach Huts\"],[\"'Gone for a swim'\"],[\"Tree Trunk\"],[\"Beach huts Broadsands Beach Torbay\"],[\"The tide is turning\"],[\"Felixstowe Beach\"],[\"Rocky foreshore of Camas Malag\"],[\"Rutland Water shoreline\"],[\"Castlegregory and the Slieve Mish\"],[\"View along The Street\"],[\"Red brick and flint barn belonging to Street Farm\"],[\"Attractively converted barn\"],[\"St Monans Post Office\"],[\"The road into Beadnell\"],[\"Scrub and gorse west of Stepper Point (2)\"],[\"Beach at Maer Rocks Exmouth\"],[\"Findhorn Beach\"],[\"Stream looking from above.\"],[\"Lochan Doire Meall an Eilein\"],[\"Cailness Burn\"],[\"Loch Scalpaidh\"],[\"Dun in hill lochan.\"],[\"Hill pass on island of Lewis\"],[\"Loch nan Ramh\"],[\"Polzeath towards Trebetherick\"],[\"Show Off on Bread & Cheese Hill\"]],\"hovertemplate\":\"x=%{x}<br>y=%{y}<br>hover_data_0=%{customdata[0]}<br>color=%{marker.color}<extra></extra>\",\"legendgroup\":\"\",\"marker\":{\"color\":[0.9,0.9,0.7608962725290852,0.7608962725290852,0.7608962725290852,0.7608962725290852,0.7551146014642005,0.6807816710648846,0.6807816710648846,0.6807816710648846,0.675,0.675,0.675,0.6140836503049908,0.6140836503049908,0.6140836503049908,0.5339690488407902,0.5339690488407902,0.5339690488407902,0.5339690488407902,0.5339690488407902,0.5339690488407902,0.5339690488407902,0.5301146014642005,0.5301146014642005,0.5301146014642005,0.5301146014642005,0.5301146014642005,0.5301146014642005,0.5301146014642005,0.45385444737658975,0.45385444737658975,0.45385444737658975,0.45385444737658975,0.45385444737658975,0.45385444737658975,0.45385444737658975,0.45385444737658975,0.45385444737658975,0.45385444737658975,0.45385444737658975,0.45385444737658975,0.45385444737658975,0.45385444737658975,0.45385444737658975,0.45385444737658975,0.45385444737658975,0.45385444737658975,0.45385444737658975,0.45385444737658975,0.45385444737658975,0.45385444737658975,0.45385444737658975,0.45385444737658975,0.45385444737658975,0.45385444737658975,0.45192722368829485,0.45192722368829485,0.45,0.45,0.45,0.45,0.45,0.45,0.45,0.45,0.45,0.45,0.45,0.45,0.45,0.45,0.45,0.45,0.45,0.45,0.45,0.45,0.45,0.45,0.45,0.45,0.45,0.45,0.45,0.45,0.45,0.45,0.45,0.45,0.45,0.45,0.45,0.38715642661669586,0.38715642661669586,0.38715642661669586,0.38715642661669586,0.38715642661669586,0.38715642661669586,0.385229202928401,0.37301205719855435],\"coloraxis\":\"coloraxis\",\"symbol\":\"circle\"},\"mode\":\"markers\",\"name\":\"\",\"orientation\":\"v\",\"showlegend\":false,\"x\":[553709,404099,132970,218060,342139,240899,-178362,122000,139870,326120,333980,292419,190820,240540,220639,135740,178300,154409,225900,287679,188820,238430,180660,-145015,260340,227869,-121985,238170,292220,266250,227849,313580,288499,347800,137249,125520,137949,184969,328099,335480,201420,428199,236559,207099,218319,238939,345999,128560,198269,293560,116619,291100,223380,189200,265769,192670,457570,164500,122839,375110,546420,137150,256749,260579,653319,653379,653199,653209,653339,653239,653259,259700,445369,245410,574919,447980,254140,242250,289519,646139,629059,158269,490220,-146159,646010,646079,646119,352499,423160,190980,301729,304219,203460,201099,235320,178109,109899,103580,132700,193200,578499],\"xaxis\":\"x\",\"y\":[96820,85800,854680,939050,779780,725800,284914,896700,839630,623690,91920,53300,77340,965060,595660,838420,679500,722570,927800,908900,720470,881670,720560,277842,316320,548680,449393,347140,53760,43250,701600,770300,745500,628300,925110,842070,844930,871930,782800,613900,855480,1181030,593860,709100,810100,967700,623600,947370,744220,557210,653800,851100,945500,714800,570910,716950,1199500,617500,901700,81340,99880,21710,328290,187360,283130,283180,283170,283180,283170,283160,283200,834970,108400,141950,107300,101110,336490,535880,57540,324730,232550,819130,306890,292652,322820,322810,322780,701600,629630,78010,79740,864950,568730,800800,705290,828750,935300,924830,930050,78600,188000],\"yaxis\":\"y\",\"type\":\"scatter\"}],                        {\"template\":{\"data\":{\"histogram2dcontour\":[{\"type\":\"histogram2dcontour\",\"colorbar\":{\"outlinewidth\":0,\"ticks\":\"\"},\"colorscale\":[[0.0,\"#0d0887\"],[0.1111111111111111,\"#46039f\"],[0.2222222222222222,\"#7201a8\"],[0.3333333333333333,\"#9c179e\"],[0.4444444444444444,\"#bd3786\"],[0.5555555555555556,\"#d8576b\"],[0.6666666666666666,\"#ed7953\"],[0.7777777777777778,\"#fb9f3a\"],[0.8888888888888888,\"#fdca26\"],[1.0,\"#f0f921\"]]}],\"choropleth\":[{\"type\":\"choropleth\",\"colorbar\":{\"outlinewidth\":0,\"ticks\":\"\"}}],\"histogram2d\":[{\"type\":\"histogram2d\",\"colorbar\":{\"outlinewidth\":0,\"ticks\":\"\"},\"colorscale\":[[0.0,\"#0d0887\"],[0.1111111111111111,\"#46039f\"],[0.2222222222222222,\"#7201a8\"],[0.3333333333333333,\"#9c179e\"],[0.4444444444444444,\"#bd3786\"],[0.5555555555555556,\"#d8576b\"],[0.6666666666666666,\"#ed7953\"],[0.7777777777777778,\"#fb9f3a\"],[0.8888888888888888,\"#fdca26\"],[1.0,\"#f0f921\"]]}],\"heatmap\":[{\"type\":\"heatmap\",\"colorbar\":{\"outlinewidth\":0,\"ticks\":\"\"},\"colorscale\":[[0.0,\"#0d0887\"],[0.1111111111111111,\"#46039f\"],[0.2222222222222222,\"#7201a8\"],[0.3333333333333333,\"#9c179e\"],[0.4444444444444444,\"#bd3786\"],[0.5555555555555556,\"#d8576b\"],[0.6666666666666666,\"#ed7953\"],[0.7777777777777778,\"#fb9f3a\"],[0.8888888888888888,\"#fdca26\"],[1.0,\"#f0f921\"]]}],\"heatmapgl\":[{\"type\":\"heatmapgl\",\"colorbar\":{\"outlinewidth\":0,\"ticks\":\"\"},\"colorscale\":[[0.0,\"#0d0887\"],[0.1111111111111111,\"#46039f\"],[0.2222222222222222,\"#7201a8\"],[0.3333333333333333,\"#9c179e\"],[0.4444444444444444,\"#bd3786\"],[0.5555555555555556,\"#d8576b\"],[0.6666666666666666,\"#ed7953\"],[0.7777777777777778,\"#fb9f3a\"],[0.8888888888888888,\"#fdca26\"],[1.0,\"#f0f921\"]]}],\"contourcarpet\":[{\"type\":\"contourcarpet\",\"colorbar\":{\"outlinewidth\":0,\"ticks\":\"\"}}],\"contour\":[{\"type\":\"contour\",\"colorbar\":{\"outlinewidth\":0,\"ticks\":\"\"},\"colorscale\":[[0.0,\"#0d0887\"],[0.1111111111111111,\"#46039f\"],[0.2222222222222222,\"#7201a8\"],[0.3333333333333333,\"#9c179e\"],[0.4444444444444444,\"#bd3786\"],[0.5555555555555556,\"#d8576b\"],[0.6666666666666666,\"#ed7953\"],[0.7777777777777778,\"#fb9f3a\"],[0.8888888888888888,\"#fdca26\"],[1.0,\"#f0f921\"]]}],\"surface\":[{\"type\":\"surface\",\"colorbar\":{\"outlinewidth\":0,\"ticks\":\"\"},\"colorscale\":[[0.0,\"#0d0887\"],[0.1111111111111111,\"#46039f\"],[0.2222222222222222,\"#7201a8\"],[0.3333333333333333,\"#9c179e\"],[0.4444444444444444,\"#bd3786\"],[0.5555555555555556,\"#d8576b\"],[0.6666666666666666,\"#ed7953\"],[0.7777777777777778,\"#fb9f3a\"],[0.8888888888888888,\"#fdca26\"],[1.0,\"#f0f921\"]]}],\"mesh3d\":[{\"type\":\"mesh3d\",\"colorbar\":{\"outlinewidth\":0,\"ticks\":\"\"}}],\"scatter\":[{\"fillpattern\":{\"fillmode\":\"overlay\",\"size\":10,\"solidity\":0.2},\"type\":\"scatter\"}],\"parcoords\":[{\"type\":\"parcoords\",\"line\":{\"colorbar\":{\"outlinewidth\":0,\"ticks\":\"\"}}}],\"scatterpolargl\":[{\"type\":\"scatterpolargl\",\"marker\":{\"colorbar\":{\"outlinewidth\":0,\"ticks\":\"\"}}}],\"bar\":[{\"error_x\":{\"color\":\"#2a3f5f\"},\"error_y\":{\"color\":\"#2a3f5f\"},\"marker\":{\"line\":{\"color\":\"#E5ECF6\",\"width\":0.5},\"pattern\":{\"fillmode\":\"overlay\",\"size\":10,\"solidity\":0.2}},\"type\":\"bar\"}],\"scattergeo\":[{\"type\":\"scattergeo\",\"marker\":{\"colorbar\":{\"outlinewidth\":0,\"ticks\":\"\"}}}],\"scatterpolar\":[{\"type\":\"scatterpolar\",\"marker\":{\"colorbar\":{\"outlinewidth\":0,\"ticks\":\"\"}}}],\"histogram\":[{\"marker\":{\"pattern\":{\"fillmode\":\"overlay\",\"size\":10,\"solidity\":0.2}},\"type\":\"histogram\"}],\"scattergl\":[{\"type\":\"scattergl\",\"marker\":{\"colorbar\":{\"outlinewidth\":0,\"ticks\":\"\"}}}],\"scatter3d\":[{\"type\":\"scatter3d\",\"line\":{\"colorbar\":{\"outlinewidth\":0,\"ticks\":\"\"}},\"marker\":{\"colorbar\":{\"outlinewidth\":0,\"ticks\":\"\"}}}],\"scattermapbox\":[{\"type\":\"scattermapbox\",\"marker\":{\"colorbar\":{\"outlinewidth\":0,\"ticks\":\"\"}}}],\"scatterternary\":[{\"type\":\"scatterternary\",\"marker\":{\"colorbar\":{\"outlinewidth\":0,\"ticks\":\"\"}}}],\"scattercarpet\":[{\"type\":\"scattercarpet\",\"marker\":{\"colorbar\":{\"outlinewidth\":0,\"ticks\":\"\"}}}],\"carpet\":[{\"aaxis\":{\"endlinecolor\":\"#2a3f5f\",\"gridcolor\":\"white\",\"linecolor\":\"white\",\"minorgridcolor\":\"white\",\"startlinecolor\":\"#2a3f5f\"},\"baxis\":{\"endlinecolor\":\"#2a3f5f\",\"gridcolor\":\"white\",\"linecolor\":\"white\",\"minorgridcolor\":\"white\",\"startlinecolor\":\"#2a3f5f\"},\"type\":\"carpet\"}],\"table\":[{\"cells\":{\"fill\":{\"color\":\"#EBF0F8\"},\"line\":{\"color\":\"white\"}},\"header\":{\"fill\":{\"color\":\"#C8D4E3\"},\"line\":{\"color\":\"white\"}},\"type\":\"table\"}],\"barpolar\":[{\"marker\":{\"line\":{\"color\":\"#E5ECF6\",\"width\":0.5},\"pattern\":{\"fillmode\":\"overlay\",\"size\":10,\"solidity\":0.2}},\"type\":\"barpolar\"}],\"pie\":[{\"automargin\":true,\"type\":\"pie\"}]},\"layout\":{\"autotypenumbers\":\"strict\",\"colorway\":[\"#636efa\",\"#EF553B\",\"#00cc96\",\"#ab63fa\",\"#FFA15A\",\"#19d3f3\",\"#FF6692\",\"#B6E880\",\"#FF97FF\",\"#FECB52\"],\"font\":{\"color\":\"#2a3f5f\"},\"hovermode\":\"closest\",\"hoverlabel\":{\"align\":\"left\"},\"paper_bgcolor\":\"white\",\"plot_bgcolor\":\"#E5ECF6\",\"polar\":{\"bgcolor\":\"#E5ECF6\",\"angularaxis\":{\"gridcolor\":\"white\",\"linecolor\":\"white\",\"ticks\":\"\"},\"radialaxis\":{\"gridcolor\":\"white\",\"linecolor\":\"white\",\"ticks\":\"\"}},\"ternary\":{\"bgcolor\":\"#E5ECF6\",\"aaxis\":{\"gridcolor\":\"white\",\"linecolor\":\"white\",\"ticks\":\"\"},\"baxis\":{\"gridcolor\":\"white\",\"linecolor\":\"white\",\"ticks\":\"\"},\"caxis\":{\"gridcolor\":\"white\",\"linecolor\":\"white\",\"ticks\":\"\"}},\"coloraxis\":{\"colorbar\":{\"outlinewidth\":0,\"ticks\":\"\"}},\"colorscale\":{\"sequential\":[[0.0,\"#0d0887\"],[0.1111111111111111,\"#46039f\"],[0.2222222222222222,\"#7201a8\"],[0.3333333333333333,\"#9c179e\"],[0.4444444444444444,\"#bd3786\"],[0.5555555555555556,\"#d8576b\"],[0.6666666666666666,\"#ed7953\"],[0.7777777777777778,\"#fb9f3a\"],[0.8888888888888888,\"#fdca26\"],[1.0,\"#f0f921\"]],\"sequentialminus\":[[0.0,\"#0d0887\"],[0.1111111111111111,\"#46039f\"],[0.2222222222222222,\"#7201a8\"],[0.3333333333333333,\"#9c179e\"],[0.4444444444444444,\"#bd3786\"],[0.5555555555555556,\"#d8576b\"],[0.6666666666666666,\"#ed7953\"],[0.7777777777777778,\"#fb9f3a\"],[0.8888888888888888,\"#fdca26\"],[1.0,\"#f0f921\"]],\"diverging\":[[0,\"#8e0152\"],[0.1,\"#c51b7d\"],[0.2,\"#de77ae\"],[0.3,\"#f1b6da\"],[0.4,\"#fde0ef\"],[0.5,\"#f7f7f7\"],[0.6,\"#e6f5d0\"],[0.7,\"#b8e186\"],[0.8,\"#7fbc41\"],[0.9,\"#4d9221\"],[1,\"#276419\"]]},\"xaxis\":{\"gridcolor\":\"white\",\"linecolor\":\"white\",\"ticks\":\"\",\"title\":{\"standoff\":15},\"zerolinecolor\":\"white\",\"automargin\":true,\"zerolinewidth\":2},\"yaxis\":{\"gridcolor\":\"white\",\"linecolor\":\"white\",\"ticks\":\"\",\"title\":{\"standoff\":15},\"zerolinecolor\":\"white\",\"automargin\":true,\"zerolinewidth\":2},\"scene\":{\"xaxis\":{\"backgroundcolor\":\"#E5ECF6\",\"gridcolor\":\"white\",\"linecolor\":\"white\",\"showbackground\":true,\"ticks\":\"\",\"zerolinecolor\":\"white\",\"gridwidth\":2},\"yaxis\":{\"backgroundcolor\":\"#E5ECF6\",\"gridcolor\":\"white\",\"linecolor\":\"white\",\"showbackground\":true,\"ticks\":\"\",\"zerolinecolor\":\"white\",\"gridwidth\":2},\"zaxis\":{\"backgroundcolor\":\"#E5ECF6\",\"gridcolor\":\"white\",\"linecolor\":\"white\",\"showbackground\":true,\"ticks\":\"\",\"zerolinecolor\":\"white\",\"gridwidth\":2}},\"shapedefaults\":{\"line\":{\"color\":\"#2a3f5f\"}},\"annotationdefaults\":{\"arrowcolor\":\"#2a3f5f\",\"arrowhead\":0,\"arrowwidth\":1},\"geo\":{\"bgcolor\":\"white\",\"landcolor\":\"#E5ECF6\",\"subunitcolor\":\"white\",\"showland\":true,\"showlakes\":true,\"lakecolor\":\"white\"},\"title\":{\"x\":0.05},\"mapbox\":{\"style\":\"light\"}}},\"xaxis\":{\"anchor\":\"y\",\"domain\":[0.0,1.0],\"title\":{\"text\":\"x\"}},\"yaxis\":{\"anchor\":\"x\",\"domain\":[0.0,1.0],\"title\":{\"text\":\"y\"}},\"coloraxis\":{\"colorbar\":{\"title\":{\"text\":\"color\"}},\"colorscale\":[[0.0,\"#0d0887\"],[0.1111111111111111,\"#46039f\"],[0.2222222222222222,\"#7201a8\"],[0.3333333333333333,\"#9c179e\"],[0.4444444444444444,\"#bd3786\"],[0.5555555555555556,\"#d8576b\"],[0.6666666666666666,\"#ed7953\"],[0.7777777777777778,\"#fb9f3a\"],[0.8888888888888888,\"#fdca26\"],[1.0,\"#f0f921\"]]},\"legend\":{\"tracegroupgap\":0},\"margin\":{\"t\":60}},                        {\"responsive\": true}                    ).then(function(){\n",
       "                            \n",
       "var gd = document.getElementById('8f327ca9-4c5d-43af-8072-4fd2a432a1fa');\n",
       "var x = new MutationObserver(function (mutations, observer) {{\n",
       "        var display = window.getComputedStyle(gd).display;\n",
       "        if (!display || display === 'none') {{\n",
       "            console.log([gd, 'removed!']);\n",
       "            Plotly.purge(gd);\n",
       "            observer.disconnect();\n",
       "        }}\n",
       "}});\n",
       "\n",
       "// Listen for the removal of the full notebook cells\n",
       "var notebookContainer = gd.closest('#notebook-container');\n",
       "if (notebookContainer) {{\n",
       "    x.observe(notebookContainer, {childList: true});\n",
       "}}\n",
       "\n",
       "// Listen for the clearing of the current output cell\n",
       "var outputEl = gd.closest('.output');\n",
       "if (outputEl) {{\n",
       "    x.observe(outputEl, {childList: true});\n",
       "}}\n",
       "\n",
       "                        })                };                });            </script>        </div>"
      ]
     },
     "metadata": {},
     "output_type": "display_data"
    }
   ],
   "source": [
    "fig = px.scatter(x=xs, y=ys, color=scores, hover_data=[label])\n",
    "fig.show()"
   ]
  },
  {
   "cell_type": "code",
   "execution_count": 8,
   "id": "ba2ffbe1",
   "metadata": {},
   "outputs": [],
   "source": [
    "class SpatialIndex:\n",
    "    \n",
    "    def __init__(self, resolution, sample):\n",
    "        \n",
    "        sample.dropna() # Get rid of problematic rows with nas\n",
    "        \n",
    "        for i in sample.index:\n",
    "            try:\n",
    "                g = OSGridConverter.latlong2grid (sample.at[i, 'lat'], sample.at[i, 'lon'], tag = 'WGS84')\n",
    "                sample.at[i, 'x'] = g.E\n",
    "                sample.at[i, 'y'] = g.N\n",
    "            except ValueError:\n",
    "                #print(\"Problem with a document\", sample.at[i,'id'])\n",
    "                sample = sample.drop(i)\n",
    "\n",
    "        # Now we can set up the parameters for our index        \n",
    "        self.resolution = resolution\n",
    "\n",
    "        self.minx = sample['x'].min()\n",
    "        self.maxx = sample['x'].max()\n",
    "        self.miny = sample['y'].min()\n",
    "        self.maxy = sample['y'].max()\n",
    "\n",
    "        w = self.maxx - self.minx\n",
    "        h = self.maxy - self.miny\n",
    "\n",
    "        nc = int(w/self.resolution) + 1\n",
    "        nr = int(h/self.resolution) + 1\n",
    "\n",
    "        #print(maxx, minx, maxy, miny)\n",
    "        #print(nr, nc)\n",
    "\n",
    "        #Build the spatial index now\n",
    "        self.spatialIndex = pd.DataFrame(index=range(nc),columns=range(nr))\n",
    "\n",
    "        #Now we populate the index with document ids\n",
    "        for index, row in sample.iterrows():\n",
    "            i = int((row['x'] - self.minx)/self.resolution)\n",
    "            j = int((row['y'] - self.miny)/self.resolution)\n",
    "            id = row['id']\n",
    "    \n",
    "            #print(row['id'])\n",
    "            #print(row['x'],row['y'],i,j)\n",
    "            if pd.isnull(self.spatialIndex.at[i,j]):\n",
    "                self.spatialIndex.at[i,j] = {id:(row['x'],row['y'])}\n",
    "            else:\n",
    "                names = self.spatialIndex.at[i,j]\n",
    "                names.update({id:(row['x'],row['y'])})\n",
    "                self.spatialIndex.at[i,j] = names\n",
    "\n",
    "        \n",
    "    def rangeQuery(self, dist, point):\n",
    "        x1 = point[0] - dist/2\n",
    "        x2 = point[0] + dist/2\n",
    "        y1 = point[1] - dist/2\n",
    "        y2 = point[1] + dist/2\n",
    "    \n",
    "        i1 = int((x1 - self.minx)/self.resolution)\n",
    "        j1 = int((y1 - self.miny)/self.resolution)\n",
    "        i2 = int((x2 - self.minx)/self.resolution) + 1\n",
    "        j2 = int((y2 - self.miny)/self.resolution) + 1\n",
    "\n",
    "        # Retrieve only the relevant part of the index\n",
    "        result = self.spatialIndex.iloc[i1:i2, j1:j2]\n",
    "        # Turn the data frame into a 1d list\n",
    "        tlist = result.values.flatten()\n",
    "        # Remove all the nans\n",
    "        filtered = filter(lambda i:not(type(i) is float), tlist)\n",
    "        \n",
    "        #Rank by distance\n",
    "        ranked = {}\n",
    "        for item in filtered:\n",
    "            for key in item:\n",
    "                d = si.dist(point, item[key])\n",
    "                #print(key, item[key], dist)\n",
    "                ranked[key] = d    \n",
    "        ranked = dict(sorted(ranked.items(), key = lambda x: x[1], reverse=False))\n",
    "                \n",
    "        return ranked\n",
    "    \n",
    "    def dist(self, p1, p2):\n",
    "        #print(p1[0], p1[1], p2[0], p2[1])\n",
    "        dist = (((p1[0] - p2[0]) ** 2) + ((p1[1] - p2[1]) ** 2)) ** 0.5\n",
    "        #print(dist)\n",
    "        return dist"
   ]
  },
  {
   "cell_type": "code",
   "execution_count": null,
   "id": "92390576",
   "metadata": {},
   "outputs": [],
   "source": []
  },
  {
   "cell_type": "code",
   "execution_count": 9,
   "id": "9c7fe898",
   "metadata": {},
   "outputs": [],
   "source": [
    "class Postings:\n",
    "    \n",
    "    def __init__(self, firstMondayTerms, sample, nlp):\n",
    "        #Load a language model to do NLP\n",
    "        self.ndocs = len(sample)\n",
    "                \n",
    "        # firstMonday works like an inverse stop list, and we only use words in these lists for our posting file\n",
    "        if firstMondayTerms:\n",
    "            #We do this so that the serialisation of the Pickle works propery\n",
    "            data_folder = Path('./data')\n",
    "            fn1 = data_folder / 'elements.txt'\n",
    "            fn2 = data_folder / 'qualities.txt'\n",
    "            fn3 = data_folder / 'activities.txt'\n",
    "            \n",
    "            elements = set(pd.read_csv(fn1, header=None)[0])\n",
    "            qualities = set(pd.read_csv(fn2, header=None)[0])\n",
    "            activities = set(pd.read_csv(fn3, header=None)[0])\n",
    "\n",
    "            terms = elements.union(qualities).union(activities)\n",
    "            lemmas = ' '.join(str(e) for e in terms)\n",
    "\n",
    "            doc = nlp(lemmas)\n",
    "            terms = set()\n",
    "            for token in doc:\n",
    "                terms.add(token.lemma_)\n",
    "                \n",
    "            # Now we process our corpus and create a postings file\n",
    "            docs = nlp.pipe(sample.text,n_process=2, batch_size=100)\n",
    "\n",
    "            self.postings = dict()\n",
    "\n",
    "            for (idxRow, s1), (_, s2) in zip(sample.iterrows(), enumerate(docs)):\n",
    "                id = s1.id\n",
    "                for token in s2:\n",
    "                    lemma = token.lemma_\n",
    "                    if lemma in terms:\n",
    "\n",
    "                        if lemma in self.postings:\n",
    "                            tf = self.postings[lemma]\n",
    "                            if id in tf:\n",
    "                                tf[id] = tf[id] + 1\n",
    "                            else:\n",
    "                                tf[id] = 1\n",
    "                        else:\n",
    "                            tf = {id: 1}\n",
    "                        self.postings[lemma] = tf\n",
    "                        \n",
    "    def tfIdf(self, query,nlp):\n",
    "        results = {}\n",
    "        qdoc = nlp(query)\n",
    "        for token in qdoc:\n",
    "            qt = token.lemma_\n",
    "            if qt in self.postings:\n",
    "                dc = len(self.postings[qt])\n",
    "                idf = math.log10(self.ndocs/(dc + 1))\n",
    "                for doc in self.postings[qt]:\n",
    "                    tf = self.postings[qt][doc]\n",
    "                    tfidf = tf * idf\n",
    "                    if doc in results:\n",
    "                        score = results[doc]\n",
    "                        results[doc] = tfidf + score\n",
    "                    else:\n",
    "                        results[doc] = tfidf\n",
    "        results = dict(sorted(results.items(), key = lambda x: x[1], reverse=True))\n",
    "        \n",
    "        return results"
   ]
  },
  {
   "cell_type": "code",
   "execution_count": 10,
   "id": "622ab43c",
   "metadata": {},
   "outputs": [],
   "source": [
    "# Feature codes in gazetteer are as follows:\n",
    "# A Antiquity (non-Roman)\n",
    "# F Forest or wood\n",
    "# FM Farm\n",
    "# H Hill or mountain\n",
    "# R Antiquity (Roman)\n",
    "# C City\n",
    "# T Town\n",
    "# O Other\n",
    "# W Water feature\n",
    "# X All other features\n",
    "\n",
    "class Gazetteer:\n",
    "    \n",
    "    def __init__(self):\n",
    "        self.gaz = dict()\n",
    "        self.offset = {'C': 2000, 'T':500, 'H':250, 'F':500}\n",
    "        # Read in gazetteer data\n",
    "        data_folder = Path('./data')\n",
    "        fn1 = data_folder / '50kgaz2012.txt'\n",
    "        os_50k = pd.read_csv(fn1,sep=':', encoding='utf8', header=None)\n",
    "        os_trimmed = os_50k.drop([0,1,3,4,5,6,7,10,11,12,15,16,17,18,19], axis = 1)\n",
    "        os_trimmed.columns = ['name','y','x','county','type']\n",
    "        for index, row in os_trimmed.iterrows():\n",
    "            name = row['name']\n",
    "            entry = os_trimmed.iloc[index].values \n",
    "            # Store gazetteer in a dictionary of unique names\n",
    "            if name in self.gaz:\n",
    "                entries = self.gaz[name]\n",
    "                entries.append(entry)\n",
    "                self.gaz[name] = entries\n",
    "            else:\n",
    "                self.gaz[name] = [entry]\n",
    "            \n",
    "    def getLocation(self, name):\n",
    "        if (name in self.gaz) == False:\n",
    "            return('Name not found in gazetteer')\n",
    "\n",
    "        if len(self.gaz[name]) > 1:\n",
    "            # We let the user disambiguate\n",
    "            i = 0\n",
    "            print(\"This place name is ambiguous - choose an entry\")\n",
    "            for entry in self.gaz[name]:\n",
    "                print(f'{i}: {name}, {entry[3]}')\n",
    "                i = i + 1\n",
    "            index = int(input(\"Choose a value:\"))\n",
    "            entry = self.gaz[name][index]\n",
    "        else:\n",
    "            entry = self.gaz[name][0]\n",
    "            \n",
    "        print(entry)\n",
    "        x = entry[2]\n",
    "        y = entry[1]\n",
    "            \n",
    "        if entry[4] in self.offset:\n",
    "            diff = self.offset[entry[4]]\n",
    "            return (x,y,x-diff, y-diff, x + diff, y + diff)\n",
    "        else:\n",
    "            return(x,y)\n",
    "                                    \n",
    "    def gazDump(self):\n",
    "        for name in self.gaz:\n",
    "            print(name)\n",
    "            print(self.gaz[name])\n",
    "            "
   ]
  },
  {
   "cell_type": "code",
   "execution_count": null,
   "id": "84017327",
   "metadata": {},
   "outputs": [],
   "source": [
    "#output all dependencies so that we can reproduce the notebook (we only need this to set things up for Binder)\n",
    "#%load_ext watermark\n",
    "#%watermark --iversions"
   ]
  },
  {
   "cell_type": "code",
   "execution_count": null,
   "id": "fbdbce06",
   "metadata": {},
   "outputs": [],
   "source": []
  }
 ],
 "metadata": {
  "kernelspec": {
   "display_name": "Python 3 (ipykernel)",
   "language": "python",
   "name": "python3"
  },
  "language_info": {
   "codemirror_mode": {
    "name": "ipython",
    "version": 3
   },
   "file_extension": ".py",
   "mimetype": "text/x-python",
   "name": "python",
   "nbconvert_exporter": "python",
   "pygments_lexer": "ipython3",
   "version": "3.9.13"
  }
 },
 "nbformat": 4,
 "nbformat_minor": 5
}
