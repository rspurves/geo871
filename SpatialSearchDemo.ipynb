{
 "cells": [
  {
   "cell_type": "code",
   "execution_count": 32,
   "id": "9b8ea643",
   "metadata": {},
   "outputs": [],
   "source": [
    "import OSGridConverter #To convert from =SGB36 to WGS84\n",
    "import pandas as pd #To use pandas for elegant data handling\n",
    "import numpy as np\n",
    "import math\n",
    "import plotly.express as px\n",
    "import pickle\n",
    "from pathlib import Path\n",
    "import spacy"
   ]
  },
  {
   "cell_type": "markdown",
   "id": "cf9f511d",
   "metadata": {},
   "source": [
    "We read in the data first"
   ]
  },
  {
   "cell_type": "code",
   "execution_count": 33,
   "id": "24f07eb8",
   "metadata": {},
   "outputs": [
    {
     "name": "stdout",
     "output_type": "stream",
     "text": [
      "The initial corpus contains 138639 documents.\n"
     ]
    }
   ],
   "source": [
    "data_folder = Path('./data')\n",
    "fn1 = data_folder / 'geograph_mini_corpus.csv'\n",
    "\n",
    "geograph = pd.read_csv(fn1, encoding='latin-1')\n",
    "        \n",
    "#sample = geograph.sample(n = 1000) # For testing\n",
    "sample = geograph\n",
    "\n",
    "print(f'The initial corpus contains {len(sample)} documents.')"
   ]
  },
  {
   "cell_type": "markdown",
   "id": "366a2188",
   "metadata": {},
   "source": [
    "Create the three indexes we need:\n",
    "\n",
    "- The spatial index stores documents in square cells and allows us to perform a range query\n",
    "- The postings index indexes terms and the documents in which they are found\n",
    "- The gazetteer indexes toponyms and allows us to look them up\n",
    "\n",
    "The spatial index takes a resolution as a parameter\n",
    "The postings file is restricted to terms from this [paper](https://firstmonday.org/ojs/index.php/fm/article/view/3710/3035) if the argument is true. If false then all terms (including stop words) are indexed.\n",
    "\n",
    "Building these indexes takes time, but only needs to be done once."
   ]
  },
  {
   "cell_type": "code",
   "execution_count": 34,
   "id": "65e3018a",
   "metadata": {},
   "outputs": [],
   "source": [
    "# I use pickles here to load objects that haven't changed. That is much quicker than rebuilding\n",
    "# the indexes from scratch, especially the postings one (where I do NLP on all of our documents)\n",
    "changes = False\n",
    "data_folder = Path('./data')\n",
    "fn1 = data_folder / 'si.obj'\n",
    "fn2 = data_folder / 'postings.obj'\n",
    "fn3 = data_folder / 'gaz.obj'\n",
    "nlp = spacy.load('en_core_web_md')\n",
    "\n",
    "if changes:\n",
    "    resolution = 10000\n",
    "    limitedTerms = True\n",
    "    si = SpatialIndex(resolution, sample)\n",
    "    postings = Postings(limitedTerms, sample, nlp)\n",
    "    gaz = Gazetteer()\n",
    "    f1 = open(fn1, 'wb')\n",
    "    pickle.dump(si,f1)\n",
    "    f1.close()\n",
    "    f2 = open(fn2, 'wb')\n",
    "    pickle.dump(postings,f2)\n",
    "    f2.close()\n",
    "    f3 = open(fn3, 'wb')\n",
    "    pickle.dump(gaz,f3)\n",
    "    f3.close()\n",
    "else:\n",
    "    f1 = open(fn1, 'rb')\n",
    "    si = pickle.load(f1)\n",
    "    f1.close()\n",
    "    f2 = open(fn2, 'rb')\n",
    "    postings = pickle.load(f2)\n",
    "    f2.close()\n",
    "    f3 = open(fn3, 'rb')\n",
    "    gaz = pickle.load(f3)\n",
    "    f3.close()"
   ]
  },
  {
   "cell_type": "markdown",
   "id": "e7aee1f8",
   "metadata": {},
   "source": [
    "Demonstrates a look up in the gazetteer. For some toponym types point and bounding box are returned. Bounding box could be used to exclude documents for near queries."
   ]
  },
  {
   "cell_type": "code",
   "execution_count": 53,
   "id": "9fe8e929",
   "metadata": {
    "scrolled": false
   },
   "outputs": [
    {
     "name": "stdout",
     "output_type": "stream",
     "text": [
      "['Elgol' 813500 152500 'Highland' 'O']\n",
      "(152500, 813500)\n"
     ]
    }
   ],
   "source": [
    "name = 'Elgol'\n",
    "location = gaz.getLocation(name)\n",
    "print(location)"
   ]
  },
  {
   "cell_type": "markdown",
   "id": "69b3aa2a",
   "metadata": {},
   "source": [
    "Find all documents within a bounding box \"centred\" around the location returned from the gazetteer. Documents are returned with their distances and ranked according to distance from toponym. "
   ]
  },
  {
   "cell_type": "code",
   "execution_count": 54,
   "id": "902beebe",
   "metadata": {},
   "outputs": [
    {
     "name": "stdout",
     "output_type": "stream",
     "text": [
      "Found 2329 documents in a 100000m x 100000m around Elgol.\n"
     ]
    }
   ],
   "source": [
    "maxDist = 100000\n",
    "docsSpatial = si.rangeQuery(maxDist, (location[0],location[1]))\n",
    "print(f'Found {len(docsSpatial)} documents in a {maxDist}m x {maxDist}m around {name}.')"
   ]
  },
  {
   "cell_type": "markdown",
   "id": "bba34fec",
   "metadata": {},
   "source": [
    "Do a query and return documents ranked by tf-idf scores in the corpus."
   ]
  },
  {
   "cell_type": "code",
   "execution_count": 55,
   "id": "88612dae",
   "metadata": {},
   "outputs": [
    {
     "name": "stdout",
     "output_type": "stream",
     "text": [
      "Found 21047 documents using the query: hill beach loch\n"
     ]
    }
   ],
   "source": [
    "query = 'hill beach loch'\n",
    "docsThematic = postings.tfIdf(query, nlp)\n",
    "maxThematic = next(iter(docsThematic.items()))[1] # Used to normalise scores\n",
    "print(f'Found {len(docsThematic)} documents using the query: {query}')"
   ]
  },
  {
   "cell_type": "markdown",
   "id": "d03385b6",
   "metadata": {},
   "source": [
    "Find the unique documents from both sets. Typically there will be some duplicates."
   ]
  },
  {
   "cell_type": "code",
   "execution_count": 56,
   "id": "06b938a0",
   "metadata": {},
   "outputs": [
    {
     "name": "stdout",
     "output_type": "stream",
     "text": [
      "Found 22616 unique documents merging the thematic and spatial indexes\n"
     ]
    }
   ],
   "source": [
    "#Create a set of unique keys for all the documents retrieved from the thematic and spatial indexes\n",
    "candidates = set(list(docsSpatial.keys()) + list(docsThematic.keys()))\n",
    "\n",
    "print(f'Found {len(candidates)} unique documents merging the thematic and spatial indexes')"
   ]
  },
  {
   "cell_type": "markdown",
   "id": "86933adb",
   "metadata": {},
   "source": [
    "Rank documents according to spatial (distance) and thematic (tf-idf) scores. 'wspatial' determines the weight of each component. A value of 1.0 means that the ranking is purely spatial, 0.0 considers only tf-idf scores."
   ]
  },
  {
   "cell_type": "code",
   "execution_count": 57,
   "id": "959c1660",
   "metadata": {},
   "outputs": [],
   "source": [
    "wspatial = 0.5 # Weight of the spatial score -> weight of 1 means tfidf is ignored\n",
    "\n",
    "scores = dict()\n",
    "for doc in candidates:\n",
    "    st = 0\n",
    "    ss = 0\n",
    "    if doc in docsThematic:\n",
    "        st = docsThematic[doc]/ maxThematic\n",
    "        #print(f'thematic {st}')\n",
    "    if doc in docsSpatial:\n",
    "        ss = 1- docsSpatial[doc]/ maxDist\n",
    "        #print(f'spatial {docsSpatial[doc]} {ss}')\n",
    "    score = ((1-wspatial) * st) + (wspatial * ss)\n",
    "    scores[doc] = score\n",
    "ranked = dict(sorted(scores.items(), key = lambda x: x[1], reverse=True))"
   ]
  },
  {
   "cell_type": "markdown",
   "id": "6ec083a1",
   "metadata": {},
   "source": [
    "This section of code outputs the results in order. It retrieves the document text from the original data frame to display, not that we didn't use this up to now."
   ]
  },
  {
   "cell_type": "code",
   "execution_count": 58,
   "id": "0bbbd305",
   "metadata": {
    "scrolled": false
   },
   "outputs": [
    {
     "name": "stdout",
     "output_type": "stream",
     "text": [
      "0.7331005478611163: Loch Duagrich - The remote loch is the largest natural freshwater loch on the Isle of Skye. Part of the hillside above the southern shore of the loch has been planted with broadleaf trees.\n",
      "\n",
      "0.7096954527999632: Rocky foreshore of Camas Malag - A beach of pebbles and bedrock backed by incomparable mountains. A fitting conclusion to a walk up Loch Slapin from the deserted village of Suisnish. I did the walk just one year earlier in similar benign November weather and found a similar sense of wonder at this beach. [[[2172225]]]\n",
      "\n",
      "0.6948378736825356: Loch Diubaig - Viewed from Gob Uisgebrigh looking north east across the loch towards the Greshornish peninsula. The cliff on the east side of the loch are in Grid square [[NG3354]]. The loch is an inlet from Loch Snizort. Hills of the snow covered Trotternish ridge form the horizon.\n",
      "\n",
      "0.6909990006644946: Loch Beag from Dùn Garsin - The Dun stood on a steep sided hill above the loch. This view is to the south west. The main A863 Dunvegan to Sligachan road curves over a bridge and causeway across the loch. At the top of the hill on the far right is Struan. On the far left is Coillore. The prominent headland in the distance is Rubha nan Clach in grid square [[NG3033]].\n",
      "\n",
      "0.6313045441456078: Loch Bhreadhard - A small loch with more than its fair share of islets. It lies in the hills to the east of Tarskavaig.\n",
      "\n",
      "0.621358228453074: Allt Port na Cullaidh - The river tumbles steeply through Elgol village to enter the sea across a stony beach just behind the photographer.\n",
      "\n",
      "0.6130948551902226: Drinan - There is rough grazing as far as the trees along the loch side.  Loch Eishort is in the distance.\n",
      "\n",
      "0.6032066790591946: Glenbrittle Beach - A great day for the beach - and a great day for the hills. There were plenty of people on each today.\n",
      "\n",
      "0.6030224546411571: Kilmarie Road - Looking north along the road by Kilmarie beach towards the Red Hills\n",
      "\n",
      "0.6015285700265195: Abhainn Cille Mhaire - Abhainn Cille Mhaire crosses the beach at Kilmarie before entering the sea.  Kilmarie House is in the trees on the left.  Bla Bheinn is on the skyline on the right.\n",
      "\n",
      "0.5915349906029091: Camas na Sgianadin - The pool in the foreground has been created by a small waterfall in a burn which enters the loch at this point. The hill on the right is Mullach na Carn on the island of Scalpay.\n",
      "\n",
      "0.5846202402186442: Rocky foreshore of Camus Malag - A beach of pebbles and bedrock backed by incomparable mountains.  A fitting conclusion to a walk up Loch Slapin from the deserted village of Suisnish.\n",
      "\n",
      "0.5795338384070087: Ord/ An t-Òrd : near to sunset - The view from Ord beach across Loch Eishort towards the Strathaird peninsula and to the Cuillin Hills in the far distance\n",
      "\n",
      "0.5792545069198038: Evening sun on Loch Mor na Caiplaich - The lowering sun lights Loch Mor na Caiplaich. The island in the loch supports a few stunted trees. They seem out of place in the midst of this moorland north of Sligachan. The prominent hill in the background is Glamaig.\n",
      "\n",
      "0.5789668450015333: Loch Ravag - Viewed from close to the fence which is the forest boundary. This remote and beautiful loch is almost surrounded by forest. The surface of the loch was largely frozen on this day.\n",
      "\n",
      "0.5756251056723298: Loch a' Mhuilinn - The mill loch that lies high in the hills of Scalpay.\n",
      "\n",
      "0.5660580993292657: Loch Scalpaidh - An attractive freshwater loch in the hills above Kyle of Lochalsh. The Kylerhea hills on Skye are visible in the distance.\n",
      "\n",
      "0.5556620159556529: Beach at Loch Bharcasaig - The loch is a small inlet from Loch Bracadale. Land above the western shore of the loch is planted forest.\n",
      "\n",
      "0.5450193072070231: View along beach beneath Bloodstone Hill - All along the beach you can find small lumps of the Bloodstone from which the hill is named.  Bloodstone is a green stone with flecks of red.  It can be worked in a similar way to flint and was apparently used in the Mesolithic period to produce hand tools and arrow heads.\n",
      "\n",
      "0.543390077935806: Trig Point - Standing at 118m on an unnamed hill overlooking Elgol with the Black Cuillin beyond.\n",
      "\n",
      "0.543053371027235: Beach on Broadford Bay - A rocky beach pinned between forest and sea. Looking east.\n",
      "\n",
      "0.5424745336863593: Tianavaig Bay - The beach lies just to the south of the township of Camastianavaig. The hill is Creagan na Sgalain.\n",
      "\n",
      "0.5418470489385816: Hillside above Loch na Cairidh - Looking across the loch towards the Red Hills on Skye.\n",
      "\n",
      "0.5415673000151848: Dun Caan across Loch na Mna - The path to Dun Caan keeps close to the shoreline of this small hill loch before facing the short but steep ascent to Dun Caan summit.\n",
      "\n",
      "0.5408383971165618: Loch Harport from Fernilea. - Fernilea is a small crofting settlement on the B8009 between Portnalong and Carbost. The sea loch below is Loch Harport and the hill apparently at the head of the valley on the far side is Roineval.\n",
      "\n",
      "0.5397203671527452: Elgol Slipway - From the top of the hill at the Village Hall. \n",
      "\n",
      "0.5391088102917391: Loch Eireagoraidh - There is a device attached to the boulder in the foreground which would seem to be for measuring the height of the water.  Pipework further down the hill would suggest that this loch is used as a public water supply so some sort of recording mechanism would seem appropriate here.\n",
      "\n",
      "0.5387510705837281: Below Bidein an Fhithich - Through this small valley there is a tantalising glimpse of the bigger hills across Loch Scavaig.\n",
      "\n",
      "0.5370257853269708: Loch na Meilich - The largest of several hill lochs scattered around the lower slopes of Dun Caan. The view is towards the Sound of Raasay and the cliffs to the north of Portree Bay.\n",
      "\n",
      "0.5351227055503245: Loch Mor na Caiplaich - Looking south west over the loch with the mountain called Marsco centrally in the background.\n",
      "\n",
      "0.5323476170300994: Across Loch Eynort - Looking over the loch from a forest track towards the small peninsula of Faolainn.\n",
      "\n",
      "0.5315918462184502: Towards Loch Eynort from the forest - Glimpses of the loch are possible from the forestry track on which the photographer is standing.\n",
      "\n",
      "0.5304855408336324: Mouth of Glen Scaladal - Glen Scaladal is a short valley reaching the sea at Loch Scavaig north of the small village of Elgol. Ben Cleat is the dome shaped hill.\n",
      "\n",
      "0.5294609006193617: Loch an Fhir-bhallaich - Loch an Fhir-bhallaich is seen here looking north of west from a path descending from Coire Lagan. An Cruachan is the hill to the left and Beinn Staic is joined to it; Beinn Bhreac is probably the hill between those two and more distant.\n",
      "\n",
      "0.5257136075537034: Rocky pebble beach - Boulders mix with pebbles on this west-facing beach.  Hills of southern Skye visible beyond.\n",
      "\n",
      "0.5239502474634476: East end of Loch Duagrich - The hill beyond the loch is Braon a' Mheallan.\n",
      "\n",
      "0.5178400338344726: Beinn Dearg - Truly a red hill.  Beinn Dearg Mhor from Beinn Dearg Mheadhonach.  As you travel along the A87 you get to see both sides of the hill. Glamaig in the distance.\n",
      "\n",
      "0.5147050579703047: Sgurr na Stri - The south-eastern slopes of the hill rising from Loch nan Leachd.\n",
      "\n",
      "0.5124205148467479: Loch a' Ghille Reamhra - One of the fishing lochs seen from the ridge of Ard Nev with Minishal or Black Hill beyond to the right.\n",
      "\n",
      "0.5123794642717212: Waterfall on the Abhainn Cille Mhaire - Just downstream of the [[1451796]] is this double cascade. The sunlit hill in the background is An Stac.\n",
      "\n",
      "0.5110069175428625: The loch on Beinn Bhreac - In the hills of eastern Soay lies this little gem. There was a great Northern Diver here When I took this picture.\n",
      "\n",
      "0.5065097037342119: Sgurr Hain - Looking up the western slopes of the hill from the Sgurr na Stri path.\n",
      "\n",
      "0.5064016821509336: Mullach na Carn - Leaving the forestry on the Southern slopes of Mullach na Carn.  Wearing shorts was a mistake on this hill and by the time I reached the summit I had acquired in excess of 50 ticks.  There is much bracken on the lower slopes of this hill.\n",
      "\n",
      "0.5053259093320521: Northern shore of Loch Coruisk - Viewed from a small hill near the river Scavaig.\n",
      "\n",
      "0.5052733247453192: The gentle side of Gars-bheinn - Looking up the relatively easy southern slopes of the hill. The north side is a different proposition - [[1719432]]\n",
      "\n",
      "0.504958371803778: Rubha Raonuill - This view from a quiet beach on the west edge of Knoydart shows the setting sun on the hillside at the back of Rubha Raonuill. This proved an excellent sea kayak camping spot from which to view the setting sun.\n",
      "\n",
      "0.5049496738234376: Beach at the north end of Loch na Creitheach - The pinnacles of Sgurr na Gillean are peeping above the hill on the left.\n",
      "\n",
      "0.5048991484137135: Loch Fada 3 - Looking south down the loch to Glamaig on the right and the Broadford Hills beyond.\n",
      "\n",
      "0.5031854184015049: View towards Marsco from Blà Bheinn - Illustrating a problem to be found in the Cuillin on fine days; the haze can be so intense that little is clearly visible. The hill in front of Marsco is Ruadh Stac.\n",
      "\n",
      "0.500540167122079: Port Aslaig - Shingle beach at Port Aslaig. Village of Glenelg in the distance.\n",
      "\n",
      "0.5: Crowlink Gap - The lowest point amongst the Seven Sisters. Until the 19th century it was possible to access the beach with a horse and cart which meant it was a popular beach for those indulging in the smuggling trade. The access has been lost to erosion along with sea battery and a coastguard watch house which once existed on the cliffs above. The beach was also the site of the wrecking of the Nympha Americana in 1747. The ship was a captured Spanish prize being taken from Portsmouth to London when it lose its way and foundered on the rocks here with a valuable cargo of mercury. The locals from the surrounding village descended onto the wreck carrying away both the valuable cargoes and much of the cedar wood timber the ship was built with which supplied joists for many local barns and made into furniture for others. I'd like to think the timbers in the beach are the remains but I have no evidence and are probably from a small jetty or pier.\n",
      "\n",
      "0.5: Studland beach immediately beyond Shell Bay - This is also a popular beach just a short walk from the Sandbanks chain ferry.  This beach is backed by sand dunes and is a popular walking beach leading after approx. 2 miles to the village of Studland.  In the central area of this beach is a large area reserved by the National Trust for naturists.\n",
      "\n",
      "0.4999780939591429: Ach na Cloiche: Lazy beds - Old lazy beds on the hill above Ach na Cloiche are highlighted by a low Autumn sun.\n",
      "\n",
      "0.4993328209958675: View across Loch Carron from Cnoc a Bhlair - A good place for a seat. With the Applecross hills on the other side of the loch.\n",
      "\n",
      "0.4990605852885972: Pool along the Allt Port Na Cullaidh - This reflective pool lies alongside the road from Glasnakille to Elgol. It is strange that the trees have stayed this ghostly white whilst others round about have come into leaf.\n",
      "\n",
      "0.4964415593302684: Elgol Hillside - A cow grazes on the hillside overlooking the jetty at Elgol.\n",
      "\n",
      "0.4955770484967615: Elgol Harbour - Taken from the end of the Elgol road. View over Loch Scavaig to the Cuillin Hills.\n",
      "\n",
      "0.4955097327473746: Jetty at Elgol - Looking across Loch Scavaig to the Cuillin Hills.\n",
      "\n",
      "0.4954877943309286: The shore at Elgol - Looking across the mouth of the Allt Port na Cullaidh. The distinctive mountain at the head of Loch Scavaig is Sgurr na Stri.\n",
      "\n",
      "0.49546731258359894: Shattered rock on Garbh-bheinn - A view of the surface that gives the hill its name. Far below in the background is the 493m top of Ruadh Stac.\n",
      "\n",
      "0.4953197222304654: Beach at Elgol - On Elgol's rocky shore with a view across Loch Scavaig to the Cuillin Hills.\n",
      "\n",
      "0.4952656300110698: Near the top of Garbh-bheinn - The rocky surface of the ridge falls away to a view of the north end of the Cuillin. The hills in the middle distance are Ruadh Stac on the left and Marsco on the right.\n",
      "\n",
      "0.49417999140894103: North of Elgol - Looking across Loch Scavaig to the Cuillin mountains. Sgurr na Stri in the centre.\n",
      "\n",
      "0.49358503267751896: Beinn na Crò - The south west side of Beinn na Crò as seen from Srath Mòr. The hill is easily climbed from the shores of Loch Slapin and is a good viewpoint.\n",
      "\n",
      "0.49324196527419917: Nostie Bay - View from the hill towards Nostie Bay and the flat Glas Eileann out in the loch.\n",
      "\n",
      "0.49288873547539674: Loch Dhughaill - Taken from just below the summit of the hill to the North.\n",
      "\n",
      "0.4928766560179466: Traigh Farm - Traigh House is partially hidden behind trees on the left of the picture. The middle building is Traigh Gatehouse and the other is Traigh Cottage which are part of Traigh Farm. This picture was taken from the beach.\n",
      "\n",
      "0.49249630915640585: Hillside above Loch Harport - Looks are deceptive. The grass and heather hillside on which the photographer is standing falls away very steeply to the right and into the loch below. I could find no trace on the ground of the track or path which is marked on the OS map. The Black Cuillin Hills are prominent on the horizon.\n",
      "\n",
      "0.49229853909962534: Pasture at the north end of Glasnakille - With a view over Loch Slapin to the Broadford Red Hills.\n",
      "\n",
      "0.49138295310126384: Sheep fank - Gathering sheep off the hill\n",
      "\n",
      "0.49121992148635985: Hillside above Loch Harport - This grass and heather hillside drops steeply into Loch Harport. The buildings on the far side of the loch are in Carbost and Carbostbeag. The Black Cuillin Hills are prominent on the horizon.\n",
      "\n",
      "0.49101668714450347: Below the Cioch - A summer's day in the hills.\n",
      "\n",
      "0.4908960796929756: The Bloody Stone in Harta Corrie - This c 30ft high boulder sits at the entrance to Harta Corrie. It is marked by name on the OS. The name originates from one of the many battles between the MacLeods and the MacDonalds around this part of Skye. The hill beyond is Marsco.\n",
      "\n",
      "0.4907091804760596: Bheinn Dearg Bheag - Minor hill west of Broadford.\n",
      "\n",
      "0.49050843599960237: The Bloody Stone - The Bloody Stone is this huge boulder at the entrance to Harta Corrie. The name comes from one of the many battles between the MacLeods and the MacDonalds around this part of Skye. The hill in the distance is Marsco.\n",
      "\n",
      "0.4903600277017507: Flat Topped Hill - Flat topped low hill (NG563033) and open moorland.\n",
      "\n",
      "0.48946828543500376: Heavy Traffic on Torrin Road - Taken on the B8083 near Loch Cill Chriosd which is just visible in front of the grassy hill on the right. In the distance rises Bla Bheinn.\n",
      "\n",
      "0.48906738607080436: Loch Eadar Dà Bhaile - The name means the loch between two townships: in this case between Ballachuirn and Balmeanach.\n",
      "\n",
      "0.48897038078626465: Croft House - In the township of Drinan and overlooking Loch Slapin.\n",
      "\n",
      "0.4874054191246537: The Inaccessible Pinnacle on Skye - This is a view up the east ridge of the spectacular rock fin on Sgurr Dearg in the Black Cuillin of Skye. Munro baggers usually climb up this side with the help of a rock climbing friend or a guide and abseil off the steeper west ridge. On this day the hill was quiet but at busy times climbers can wait for hours in the queue to climb the rock blade. A climber is at the foot of the Inn Pinn with another higher up on the exposed ridge.\n",
      "\n",
      "0.4870718428953092: Fence line on Marsco - At 600m on the south ridge is the remains of a fence that runs up the hill from the Mam a' Phobuill.\n",
      "\n",
      "0.4862514674068932: Loch na Leitire - One of many hill lochs above Plockton\n",
      "\n",
      "0.4854782889534508: Walking the summit ridge of Marsco - A party of walkers leaving the summit to head down the south ridge. The hill here falls steeply on the left towards Glen Sligachan and on the right towards Coire nan Laogh.\n",
      "\n",
      "0.4846917262096031: The Dalavil track - Looking back to the Tarscavaig road cutting across the hill.\n",
      "\n",
      "0.4844554248489553: The cairn on Beinn nan Carn - A large and neatly constructed cairn on the summit of the hill that is named after it.\n",
      "\n",
      "0.48397753679925243: Burn leaves Coire Gorm - Allt Beinn Deirge falls over the lip of Coire Gorm in the hills above Broadford.\n",
      "\n",
      "0.48381050076892634: Allt Beinn Deirge - The burn in shade as the sun goes behind Beinn Dearg Bheag to the west. The hill in the background is Beinn na Caillich.\n",
      "\n",
      "0.48321850098450414: Loch Dubh - The small but deep loch is one of a small group of lochans trapped amid some rocky hillocks lying just north of the summit of Beinn nan Dubh-lochan.\n",
      "\n",
      "0.482878595267911: Deserted buildings on the track from Kilmarie to Drinan - There are always poignant feelings when you see the abandoned buildings of times gone by. The rowan trees are always close by to ward off evil spirits.\n",
      "\n",
      "0.48268510245397117: Allt Coire nam Bruadaran - The burn that drains the coire below Marsco. The hill in the distance is Glas Bheinn Mhor.\n",
      "\n",
      "0.4824911384414843: Beinn na Caillich summit - The hill has a broad summit with good views to the Black Cuillin.\n",
      "\n",
      "0.48215245044831084: Looking across Loch Scavaig - towardsthe Cuillin Hills\n",
      "\n",
      "0.4818266783754739: Glenelg Bay - The mountains merge with the pale winter sky above the shingle beach. \n",
      "\n",
      "0.48094334554411516: Moorland beneath Sgòrach Breac - Wet tussocky ground beneath the more rocky sandstone hill.\n",
      "\n",
      "0.4806942223706351: Summit of Glas Bheinn Mhor - Looking northwards along the wall that crosses the 570m hill.\n",
      "\n",
      "0.4804905362128812: Sgurr nan Gillean - Looking west over the summit cairn towards Bruach na Frithe. The hill in the distant left is Sgurr Thuilm. (Am Basteir is hidden behind the cairn)\n",
      "\n",
      "0.480092147094399: Towards Beinn na Caillich from Bheinn Shuardail - Looking over Strath Suardal from the west facing slopes of the hill.\n",
      "\n",
      "0.4800546791222605: Lochan Fada - This is one of several lochans in the area which share the name of Lochan Fada. The hill beyond is An Cruachan.\n",
      "\n",
      "0.4797209797145251: Coastline east of Rubha an Dùnain - Looking east. The craggy hill in the mid-distance is Creag a' Chapuill.\n",
      "\n",
      "0.47968380301963964: Resting at the summit of Sgurr nan Gillean - These brothers had just completed the Main Ridge Traverse on the Black Cuillin in Skye and were listening to the Belgian Grand Prix as they rested. The hills of the Red Cuillin are in the background.\n",
      "\n",
      "0.47921406548845263: Maol Buidhe - The yellow round hill above Ostaig.\n",
      "\n"
     ]
    }
   ],
   "source": [
    "n = 100\n",
    "i=0\n",
    "for key in ranked:\n",
    "    score = ranked[key]\n",
    "    row = sample.loc[sample['id'] == key]\n",
    "    title = row.iloc[0]['title']\n",
    "    text = row.iloc[0]['text']\n",
    "    print(f'{score}: {title} - {text}\\n')\n",
    "    if i == n:\n",
    "        break\n",
    "    i = i+1"
   ]
  },
  {
   "cell_type": "code",
   "execution_count": 59,
   "id": "db537102",
   "metadata": {},
   "outputs": [],
   "source": [
    "xs = []\n",
    "ys = []\n",
    "scores = []\n",
    "label = []\n",
    "i=0\n",
    "for key in ranked:\n",
    "    score = ranked[key]\n",
    "    row = sample.loc[sample['id'] == key]\n",
    "    title = row.iloc[0]['title']\n",
    "    g = OSGridConverter.latlong2grid (row.iloc[0]['lat'], row.iloc[0]['lon'], tag = 'WGS84')\n",
    "    xs.append(g.E)\n",
    "    ys.append(g.N)\n",
    "    label.append(title)\n",
    "    scores.append(score)\n",
    "    if i == n:\n",
    "        break\n",
    "    i = i+1\n"
   ]
  },
  {
   "cell_type": "code",
   "execution_count": 60,
   "id": "50cb1f18",
   "metadata": {},
   "outputs": [
    {
     "data": {
      "application/vnd.plotly.v1+json": {
       "config": {
        "plotlyServerURL": "https://plot.ly"
       },
       "data": [
        {
         "customdata": [
          [
           "Loch Duagrich"
          ],
          [
           "Rocky foreshore of Camas Malag"
          ],
          [
           "Loch Diubaig"
          ],
          [
           "Loch Beag from Dùn Garsin"
          ],
          [
           "Loch Bhreadhard"
          ],
          [
           "Allt Port na Cullaidh"
          ],
          [
           "Drinan"
          ],
          [
           "Glenbrittle Beach"
          ],
          [
           "Kilmarie Road"
          ],
          [
           "Abhainn Cille Mhaire"
          ],
          [
           "Camas na Sgianadin"
          ],
          [
           "Rocky foreshore of Camus Malag"
          ],
          [
           "Ord/ An t-Òrd : near to sunset"
          ],
          [
           "Evening sun on Loch Mor na Caiplaich"
          ],
          [
           "Loch Ravag"
          ],
          [
           "Loch a' Mhuilinn"
          ],
          [
           "Loch Scalpaidh"
          ],
          [
           "Beach at Loch Bharcasaig"
          ],
          [
           "View along beach beneath Bloodstone Hill"
          ],
          [
           "Trig Point"
          ],
          [
           "Beach on Broadford Bay"
          ],
          [
           "Tianavaig Bay"
          ],
          [
           "Hillside above Loch na Cairidh"
          ],
          [
           "Dun Caan across Loch na Mna"
          ],
          [
           "Loch Harport from Fernilea."
          ],
          [
           "Elgol Slipway"
          ],
          [
           "Loch Eireagoraidh"
          ],
          [
           "Below Bidein an Fhithich"
          ],
          [
           "Loch na Meilich"
          ],
          [
           "Loch Mor na Caiplaich"
          ],
          [
           "Across Loch Eynort"
          ],
          [
           "Towards Loch Eynort from the forest"
          ],
          [
           "Mouth of Glen Scaladal"
          ],
          [
           "Loch an Fhir-bhallaich"
          ],
          [
           "Rocky pebble beach"
          ],
          [
           "East end of Loch Duagrich"
          ],
          [
           "Beinn Dearg"
          ],
          [
           "Sgurr na Stri"
          ],
          [
           "Loch a' Ghille Reamhra"
          ],
          [
           "Waterfall on the Abhainn Cille Mhaire"
          ],
          [
           "The loch on Beinn Bhreac"
          ],
          [
           "Sgurr Hain"
          ],
          [
           "Mullach na Carn"
          ],
          [
           "Northern shore of Loch Coruisk"
          ],
          [
           "The gentle side of Gars-bheinn"
          ],
          [
           "Rubha Raonuill"
          ],
          [
           "Beach at the north end of Loch na Creitheach"
          ],
          [
           "Loch Fada 3"
          ],
          [
           "View towards Marsco from Blà Bheinn"
          ],
          [
           "Port Aslaig"
          ],
          [
           "Crowlink Gap"
          ],
          [
           "Studland beach immediately beyond Shell Bay"
          ],
          [
           "Ach na Cloiche: Lazy beds"
          ],
          [
           "View across Loch Carron from Cnoc a Bhlair"
          ],
          [
           "Pool along the Allt Port Na Cullaidh"
          ],
          [
           "Elgol Hillside"
          ],
          [
           "Elgol Harbour"
          ],
          [
           "Jetty at Elgol"
          ],
          [
           "The shore at Elgol"
          ],
          [
           "Shattered rock on Garbh-bheinn"
          ],
          [
           "Beach at Elgol"
          ],
          [
           "Near the top of Garbh-bheinn"
          ],
          [
           "North of Elgol"
          ],
          [
           "Beinn na Crò"
          ],
          [
           "Nostie Bay"
          ],
          [
           "Loch Dhughaill"
          ],
          [
           "Traigh Farm"
          ],
          [
           "Hillside above Loch Harport"
          ],
          [
           "Pasture at the north end of Glasnakille"
          ],
          [
           "Sheep fank"
          ],
          [
           "Hillside above Loch Harport"
          ],
          [
           "Below the Cioch"
          ],
          [
           "The Bloody Stone in Harta Corrie"
          ],
          [
           "Bheinn Dearg Bheag"
          ],
          [
           "The Bloody Stone"
          ],
          [
           "Flat Topped Hill"
          ],
          [
           "Heavy Traffic on Torrin Road"
          ],
          [
           "Loch Eadar Dà Bhaile"
          ],
          [
           "Croft House"
          ],
          [
           "The Inaccessible Pinnacle on Skye"
          ],
          [
           "Fence line on Marsco"
          ],
          [
           "Loch na Leitire"
          ],
          [
           "Walking the summit ridge of Marsco"
          ],
          [
           "The Dalavil track"
          ],
          [
           "The cairn on Beinn nan Carn"
          ],
          [
           "Burn leaves Coire Gorm"
          ],
          [
           "Allt Beinn Deirge"
          ],
          [
           "Loch Dubh"
          ],
          [
           "Deserted buildings on the track from Kilmarie to Drinan"
          ],
          [
           "Allt Coire nam Bruadaran"
          ],
          [
           "Beinn na Caillich summit"
          ],
          [
           "Looking across Loch Scavaig"
          ],
          [
           "Glenelg Bay"
          ],
          [
           "Moorland beneath Sgòrach Breac"
          ],
          [
           "Summit of Glas Bheinn Mhor"
          ],
          [
           "Sgurr nan Gillean"
          ],
          [
           "Towards Beinn na Caillich from Bheinn Shuardail"
          ],
          [
           "Lochan Fada"
          ],
          [
           "Coastline east of Rubha an Dùnain"
          ],
          [
           "Resting at the summit of Sgurr nan Gillean"
          ],
          [
           "Maol Buidhe"
          ]
         ],
         "hovertemplate": "x=%{x}<br>y=%{y}<br>hover_data_0=%{customdata[0]}<br>color=%{marker.color}<extra></extra>",
         "legendgroup": "",
         "marker": {
          "color": [
           0.7331005478611163,
           0.7096954527999632,
           0.6948378736825356,
           0.6909990006644946,
           0.6313045441456078,
           0.621358228453074,
           0.6130948551902226,
           0.6032066790591946,
           0.6030224546411571,
           0.6015285700265195,
           0.5915349906029091,
           0.5846202402186442,
           0.5795338384070087,
           0.5792545069198038,
           0.5789668450015333,
           0.5756251056723298,
           0.5660580993292657,
           0.5556620159556529,
           0.5450193072070231,
           0.543390077935806,
           0.543053371027235,
           0.5424745336863593,
           0.5418470489385816,
           0.5415673000151848,
           0.5408383971165618,
           0.5397203671527452,
           0.5391088102917391,
           0.5387510705837281,
           0.5370257853269708,
           0.5351227055503245,
           0.5323476170300994,
           0.5315918462184502,
           0.5304855408336324,
           0.5294609006193617,
           0.5257136075537034,
           0.5239502474634476,
           0.5178400338344726,
           0.5147050579703047,
           0.5124205148467479,
           0.5123794642717212,
           0.5110069175428625,
           0.5065097037342119,
           0.5064016821509336,
           0.5053259093320521,
           0.5052733247453192,
           0.504958371803778,
           0.5049496738234376,
           0.5048991484137135,
           0.5031854184015049,
           0.500540167122079,
           0.5,
           0.5,
           0.4999780939591429,
           0.4993328209958675,
           0.4990605852885972,
           0.4964415593302684,
           0.4955770484967615,
           0.4955097327473746,
           0.4954877943309286,
           0.49546731258359894,
           0.4953197222304654,
           0.4952656300110698,
           0.49417999140894103,
           0.49358503267751896,
           0.49324196527419917,
           0.49288873547539674,
           0.4928766560179466,
           0.49249630915640585,
           0.49229853909962534,
           0.49138295310126384,
           0.49121992148635985,
           0.49101668714450347,
           0.4908960796929756,
           0.4907091804760596,
           0.49050843599960237,
           0.4903600277017507,
           0.48946828543500376,
           0.48906738607080436,
           0.48897038078626465,
           0.4874054191246537,
           0.4870718428953092,
           0.4862514674068932,
           0.4854782889534508,
           0.4846917262096031,
           0.4844554248489553,
           0.48397753679925243,
           0.48381050076892634,
           0.48321850098450414,
           0.482878595267911,
           0.48268510245397117,
           0.4824911384414843,
           0.48215245044831084,
           0.4818266783754739,
           0.48094334554411516,
           0.4806942223706351,
           0.4804905362128812,
           0.480092147094399,
           0.4800546791222605,
           0.4797209797145251,
           0.47968380301963964,
           0.47921406548845263
          ],
          "coloraxis": "coloraxis",
          "symbol": "circle"
         },
         "mode": "markers",
         "name": "",
         "orientation": "v",
         "showlegend": false,
         "type": "scatter",
         "x": [
          139870,
          158269,
          132970,
          135740,
          159669,
          151780,
          154659,
          141140,
          155310,
          155389,
          162650,
          158290,
          161593,
          147510,
          137949,
          162410,
          178109,
          125520,
          131020,
          152720,
          163100,
          150960,
          159280,
          157810,
          136880,
          151550,
          171779,
          152129,
          157439,
          147469,
          137960,
          138020,
          152130,
          143019,
          158222,
          140240,
          151499,
          149659,
          134500,
          154800,
          146099,
          150319,
          160620,
          148730,
          146379,
          172360,
          151299,
          150149,
          152990,
          177000,
          553709,
          404099,
          159870,
          180070,
          152330,
          151830,
          151620,
          151610,
          151620,
          152900,
          151610,
          152909,
          151800,
          156420,
          185499,
          161299,
          165789,
          136960,
          154040,
          163070,
          136759,
          144299,
          148900,
          159199,
          148810,
          156249,
          161180,
          155810,
          154440,
          144399,
          151170,
          184300,
          150780,
          161900,
          163603,
          160739,
          160820,
          131370,
          155090,
          152622,
          160090,
          151799,
          180499,
          165159,
          155480,
          147300,
          162669,
          165370,
          139800,
          147129,
          164150
         ],
         "xaxis": "x",
         "y": [
          839630,
          819130,
          854680,
          838420,
          810290,
          813610,
          814940,
          820340,
          816880,
          817200,
          825620,
          819130,
          813435,
          831070,
          844930,
          829700,
          828750,
          842070,
          800910,
          813460,
          826000,
          838860,
          828920,
          838750,
          834220,
          813620,
          795620,
          814590,
          839750,
          830980,
          825330,
          825640,
          816280,
          820710,
          832515,
          840140,
          827700,
          818740,
          799620,
          819500,
          815480,
          820780,
          827890,
          820370,
          818410,
          800010,
          821320,
          837620,
          821750,
          817900,
          96820,
          85800,
          808500,
          833820,
          813580,
          813740,
          813590,
          813620,
          813700,
          823300,
          813790,
          823340,
          814430,
          822900,
          826500,
          808100,
          790660,
          835230,
          813530,
          812420,
          835400,
          820370,
          823600,
          821920,
          823650,
          803340,
          820270,
          840700,
          814550,
          821550,
          824910,
          832150,
          825180,
          806100,
          818080,
          822370,
          822340,
          832730,
          815740,
          825864,
          823310,
          817000,
          819500,
          812330,
          825910,
          825200,
          821410,
          812770,
          816070,
          825300,
          807600
         ],
         "yaxis": "y"
        }
       ],
       "layout": {
        "coloraxis": {
         "colorbar": {
          "title": {
           "text": "color"
          }
         },
         "colorscale": [
          [
           0,
           "#0d0887"
          ],
          [
           0.1111111111111111,
           "#46039f"
          ],
          [
           0.2222222222222222,
           "#7201a8"
          ],
          [
           0.3333333333333333,
           "#9c179e"
          ],
          [
           0.4444444444444444,
           "#bd3786"
          ],
          [
           0.5555555555555556,
           "#d8576b"
          ],
          [
           0.6666666666666666,
           "#ed7953"
          ],
          [
           0.7777777777777778,
           "#fb9f3a"
          ],
          [
           0.8888888888888888,
           "#fdca26"
          ],
          [
           1,
           "#f0f921"
          ]
         ]
        },
        "legend": {
         "tracegroupgap": 0
        },
        "margin": {
         "t": 60
        },
        "template": {
         "data": {
          "bar": [
           {
            "error_x": {
             "color": "#2a3f5f"
            },
            "error_y": {
             "color": "#2a3f5f"
            },
            "marker": {
             "line": {
              "color": "#E5ECF6",
              "width": 0.5
             },
             "pattern": {
              "fillmode": "overlay",
              "size": 10,
              "solidity": 0.2
             }
            },
            "type": "bar"
           }
          ],
          "barpolar": [
           {
            "marker": {
             "line": {
              "color": "#E5ECF6",
              "width": 0.5
             },
             "pattern": {
              "fillmode": "overlay",
              "size": 10,
              "solidity": 0.2
             }
            },
            "type": "barpolar"
           }
          ],
          "carpet": [
           {
            "aaxis": {
             "endlinecolor": "#2a3f5f",
             "gridcolor": "white",
             "linecolor": "white",
             "minorgridcolor": "white",
             "startlinecolor": "#2a3f5f"
            },
            "baxis": {
             "endlinecolor": "#2a3f5f",
             "gridcolor": "white",
             "linecolor": "white",
             "minorgridcolor": "white",
             "startlinecolor": "#2a3f5f"
            },
            "type": "carpet"
           }
          ],
          "choropleth": [
           {
            "colorbar": {
             "outlinewidth": 0,
             "ticks": ""
            },
            "type": "choropleth"
           }
          ],
          "contour": [
           {
            "colorbar": {
             "outlinewidth": 0,
             "ticks": ""
            },
            "colorscale": [
             [
              0,
              "#0d0887"
             ],
             [
              0.1111111111111111,
              "#46039f"
             ],
             [
              0.2222222222222222,
              "#7201a8"
             ],
             [
              0.3333333333333333,
              "#9c179e"
             ],
             [
              0.4444444444444444,
              "#bd3786"
             ],
             [
              0.5555555555555556,
              "#d8576b"
             ],
             [
              0.6666666666666666,
              "#ed7953"
             ],
             [
              0.7777777777777778,
              "#fb9f3a"
             ],
             [
              0.8888888888888888,
              "#fdca26"
             ],
             [
              1,
              "#f0f921"
             ]
            ],
            "type": "contour"
           }
          ],
          "contourcarpet": [
           {
            "colorbar": {
             "outlinewidth": 0,
             "ticks": ""
            },
            "type": "contourcarpet"
           }
          ],
          "heatmap": [
           {
            "colorbar": {
             "outlinewidth": 0,
             "ticks": ""
            },
            "colorscale": [
             [
              0,
              "#0d0887"
             ],
             [
              0.1111111111111111,
              "#46039f"
             ],
             [
              0.2222222222222222,
              "#7201a8"
             ],
             [
              0.3333333333333333,
              "#9c179e"
             ],
             [
              0.4444444444444444,
              "#bd3786"
             ],
             [
              0.5555555555555556,
              "#d8576b"
             ],
             [
              0.6666666666666666,
              "#ed7953"
             ],
             [
              0.7777777777777778,
              "#fb9f3a"
             ],
             [
              0.8888888888888888,
              "#fdca26"
             ],
             [
              1,
              "#f0f921"
             ]
            ],
            "type": "heatmap"
           }
          ],
          "heatmapgl": [
           {
            "colorbar": {
             "outlinewidth": 0,
             "ticks": ""
            },
            "colorscale": [
             [
              0,
              "#0d0887"
             ],
             [
              0.1111111111111111,
              "#46039f"
             ],
             [
              0.2222222222222222,
              "#7201a8"
             ],
             [
              0.3333333333333333,
              "#9c179e"
             ],
             [
              0.4444444444444444,
              "#bd3786"
             ],
             [
              0.5555555555555556,
              "#d8576b"
             ],
             [
              0.6666666666666666,
              "#ed7953"
             ],
             [
              0.7777777777777778,
              "#fb9f3a"
             ],
             [
              0.8888888888888888,
              "#fdca26"
             ],
             [
              1,
              "#f0f921"
             ]
            ],
            "type": "heatmapgl"
           }
          ],
          "histogram": [
           {
            "marker": {
             "pattern": {
              "fillmode": "overlay",
              "size": 10,
              "solidity": 0.2
             }
            },
            "type": "histogram"
           }
          ],
          "histogram2d": [
           {
            "colorbar": {
             "outlinewidth": 0,
             "ticks": ""
            },
            "colorscale": [
             [
              0,
              "#0d0887"
             ],
             [
              0.1111111111111111,
              "#46039f"
             ],
             [
              0.2222222222222222,
              "#7201a8"
             ],
             [
              0.3333333333333333,
              "#9c179e"
             ],
             [
              0.4444444444444444,
              "#bd3786"
             ],
             [
              0.5555555555555556,
              "#d8576b"
             ],
             [
              0.6666666666666666,
              "#ed7953"
             ],
             [
              0.7777777777777778,
              "#fb9f3a"
             ],
             [
              0.8888888888888888,
              "#fdca26"
             ],
             [
              1,
              "#f0f921"
             ]
            ],
            "type": "histogram2d"
           }
          ],
          "histogram2dcontour": [
           {
            "colorbar": {
             "outlinewidth": 0,
             "ticks": ""
            },
            "colorscale": [
             [
              0,
              "#0d0887"
             ],
             [
              0.1111111111111111,
              "#46039f"
             ],
             [
              0.2222222222222222,
              "#7201a8"
             ],
             [
              0.3333333333333333,
              "#9c179e"
             ],
             [
              0.4444444444444444,
              "#bd3786"
             ],
             [
              0.5555555555555556,
              "#d8576b"
             ],
             [
              0.6666666666666666,
              "#ed7953"
             ],
             [
              0.7777777777777778,
              "#fb9f3a"
             ],
             [
              0.8888888888888888,
              "#fdca26"
             ],
             [
              1,
              "#f0f921"
             ]
            ],
            "type": "histogram2dcontour"
           }
          ],
          "mesh3d": [
           {
            "colorbar": {
             "outlinewidth": 0,
             "ticks": ""
            },
            "type": "mesh3d"
           }
          ],
          "parcoords": [
           {
            "line": {
             "colorbar": {
              "outlinewidth": 0,
              "ticks": ""
             }
            },
            "type": "parcoords"
           }
          ],
          "pie": [
           {
            "automargin": true,
            "type": "pie"
           }
          ],
          "scatter": [
           {
            "fillpattern": {
             "fillmode": "overlay",
             "size": 10,
             "solidity": 0.2
            },
            "type": "scatter"
           }
          ],
          "scatter3d": [
           {
            "line": {
             "colorbar": {
              "outlinewidth": 0,
              "ticks": ""
             }
            },
            "marker": {
             "colorbar": {
              "outlinewidth": 0,
              "ticks": ""
             }
            },
            "type": "scatter3d"
           }
          ],
          "scattercarpet": [
           {
            "marker": {
             "colorbar": {
              "outlinewidth": 0,
              "ticks": ""
             }
            },
            "type": "scattercarpet"
           }
          ],
          "scattergeo": [
           {
            "marker": {
             "colorbar": {
              "outlinewidth": 0,
              "ticks": ""
             }
            },
            "type": "scattergeo"
           }
          ],
          "scattergl": [
           {
            "marker": {
             "colorbar": {
              "outlinewidth": 0,
              "ticks": ""
             }
            },
            "type": "scattergl"
           }
          ],
          "scattermapbox": [
           {
            "marker": {
             "colorbar": {
              "outlinewidth": 0,
              "ticks": ""
             }
            },
            "type": "scattermapbox"
           }
          ],
          "scatterpolar": [
           {
            "marker": {
             "colorbar": {
              "outlinewidth": 0,
              "ticks": ""
             }
            },
            "type": "scatterpolar"
           }
          ],
          "scatterpolargl": [
           {
            "marker": {
             "colorbar": {
              "outlinewidth": 0,
              "ticks": ""
             }
            },
            "type": "scatterpolargl"
           }
          ],
          "scatterternary": [
           {
            "marker": {
             "colorbar": {
              "outlinewidth": 0,
              "ticks": ""
             }
            },
            "type": "scatterternary"
           }
          ],
          "surface": [
           {
            "colorbar": {
             "outlinewidth": 0,
             "ticks": ""
            },
            "colorscale": [
             [
              0,
              "#0d0887"
             ],
             [
              0.1111111111111111,
              "#46039f"
             ],
             [
              0.2222222222222222,
              "#7201a8"
             ],
             [
              0.3333333333333333,
              "#9c179e"
             ],
             [
              0.4444444444444444,
              "#bd3786"
             ],
             [
              0.5555555555555556,
              "#d8576b"
             ],
             [
              0.6666666666666666,
              "#ed7953"
             ],
             [
              0.7777777777777778,
              "#fb9f3a"
             ],
             [
              0.8888888888888888,
              "#fdca26"
             ],
             [
              1,
              "#f0f921"
             ]
            ],
            "type": "surface"
           }
          ],
          "table": [
           {
            "cells": {
             "fill": {
              "color": "#EBF0F8"
             },
             "line": {
              "color": "white"
             }
            },
            "header": {
             "fill": {
              "color": "#C8D4E3"
             },
             "line": {
              "color": "white"
             }
            },
            "type": "table"
           }
          ]
         },
         "layout": {
          "annotationdefaults": {
           "arrowcolor": "#2a3f5f",
           "arrowhead": 0,
           "arrowwidth": 1
          },
          "autotypenumbers": "strict",
          "coloraxis": {
           "colorbar": {
            "outlinewidth": 0,
            "ticks": ""
           }
          },
          "colorscale": {
           "diverging": [
            [
             0,
             "#8e0152"
            ],
            [
             0.1,
             "#c51b7d"
            ],
            [
             0.2,
             "#de77ae"
            ],
            [
             0.3,
             "#f1b6da"
            ],
            [
             0.4,
             "#fde0ef"
            ],
            [
             0.5,
             "#f7f7f7"
            ],
            [
             0.6,
             "#e6f5d0"
            ],
            [
             0.7,
             "#b8e186"
            ],
            [
             0.8,
             "#7fbc41"
            ],
            [
             0.9,
             "#4d9221"
            ],
            [
             1,
             "#276419"
            ]
           ],
           "sequential": [
            [
             0,
             "#0d0887"
            ],
            [
             0.1111111111111111,
             "#46039f"
            ],
            [
             0.2222222222222222,
             "#7201a8"
            ],
            [
             0.3333333333333333,
             "#9c179e"
            ],
            [
             0.4444444444444444,
             "#bd3786"
            ],
            [
             0.5555555555555556,
             "#d8576b"
            ],
            [
             0.6666666666666666,
             "#ed7953"
            ],
            [
             0.7777777777777778,
             "#fb9f3a"
            ],
            [
             0.8888888888888888,
             "#fdca26"
            ],
            [
             1,
             "#f0f921"
            ]
           ],
           "sequentialminus": [
            [
             0,
             "#0d0887"
            ],
            [
             0.1111111111111111,
             "#46039f"
            ],
            [
             0.2222222222222222,
             "#7201a8"
            ],
            [
             0.3333333333333333,
             "#9c179e"
            ],
            [
             0.4444444444444444,
             "#bd3786"
            ],
            [
             0.5555555555555556,
             "#d8576b"
            ],
            [
             0.6666666666666666,
             "#ed7953"
            ],
            [
             0.7777777777777778,
             "#fb9f3a"
            ],
            [
             0.8888888888888888,
             "#fdca26"
            ],
            [
             1,
             "#f0f921"
            ]
           ]
          },
          "colorway": [
           "#636efa",
           "#EF553B",
           "#00cc96",
           "#ab63fa",
           "#FFA15A",
           "#19d3f3",
           "#FF6692",
           "#B6E880",
           "#FF97FF",
           "#FECB52"
          ],
          "font": {
           "color": "#2a3f5f"
          },
          "geo": {
           "bgcolor": "white",
           "lakecolor": "white",
           "landcolor": "#E5ECF6",
           "showlakes": true,
           "showland": true,
           "subunitcolor": "white"
          },
          "hoverlabel": {
           "align": "left"
          },
          "hovermode": "closest",
          "mapbox": {
           "style": "light"
          },
          "paper_bgcolor": "white",
          "plot_bgcolor": "#E5ECF6",
          "polar": {
           "angularaxis": {
            "gridcolor": "white",
            "linecolor": "white",
            "ticks": ""
           },
           "bgcolor": "#E5ECF6",
           "radialaxis": {
            "gridcolor": "white",
            "linecolor": "white",
            "ticks": ""
           }
          },
          "scene": {
           "xaxis": {
            "backgroundcolor": "#E5ECF6",
            "gridcolor": "white",
            "gridwidth": 2,
            "linecolor": "white",
            "showbackground": true,
            "ticks": "",
            "zerolinecolor": "white"
           },
           "yaxis": {
            "backgroundcolor": "#E5ECF6",
            "gridcolor": "white",
            "gridwidth": 2,
            "linecolor": "white",
            "showbackground": true,
            "ticks": "",
            "zerolinecolor": "white"
           },
           "zaxis": {
            "backgroundcolor": "#E5ECF6",
            "gridcolor": "white",
            "gridwidth": 2,
            "linecolor": "white",
            "showbackground": true,
            "ticks": "",
            "zerolinecolor": "white"
           }
          },
          "shapedefaults": {
           "line": {
            "color": "#2a3f5f"
           }
          },
          "ternary": {
           "aaxis": {
            "gridcolor": "white",
            "linecolor": "white",
            "ticks": ""
           },
           "baxis": {
            "gridcolor": "white",
            "linecolor": "white",
            "ticks": ""
           },
           "bgcolor": "#E5ECF6",
           "caxis": {
            "gridcolor": "white",
            "linecolor": "white",
            "ticks": ""
           }
          },
          "title": {
           "x": 0.05
          },
          "xaxis": {
           "automargin": true,
           "gridcolor": "white",
           "linecolor": "white",
           "ticks": "",
           "title": {
            "standoff": 15
           },
           "zerolinecolor": "white",
           "zerolinewidth": 2
          },
          "yaxis": {
           "automargin": true,
           "gridcolor": "white",
           "linecolor": "white",
           "ticks": "",
           "title": {
            "standoff": 15
           },
           "zerolinecolor": "white",
           "zerolinewidth": 2
          }
         }
        },
        "xaxis": {
         "anchor": "y",
         "domain": [
          0,
          1
         ],
         "title": {
          "text": "x"
         }
        },
        "yaxis": {
         "anchor": "x",
         "domain": [
          0,
          1
         ],
         "title": {
          "text": "y"
         }
        }
       }
      },
      "text/html": [
       "<div>                            <div id=\"aa3e24a1-b397-4aee-b186-ccf266df0997\" class=\"plotly-graph-div\" style=\"height:525px; width:100%;\"></div>            <script type=\"text/javascript\">                require([\"plotly\"], function(Plotly) {                    window.PLOTLYENV=window.PLOTLYENV || {};                                    if (document.getElementById(\"aa3e24a1-b397-4aee-b186-ccf266df0997\")) {                    Plotly.newPlot(                        \"aa3e24a1-b397-4aee-b186-ccf266df0997\",                        [{\"customdata\":[[\"Loch Duagrich\"],[\"Rocky foreshore of Camas Malag\"],[\"Loch Diubaig\"],[\"Loch Beag from D\\u00f9n Garsin\"],[\"Loch Bhreadhard\"],[\"Allt Port na Cullaidh\"],[\"Drinan\"],[\"Glenbrittle Beach\"],[\"Kilmarie Road\"],[\"Abhainn Cille Mhaire\"],[\"Camas na Sgianadin\"],[\"Rocky foreshore of Camus Malag\"],[\"Ord/ An t-\\u00d2rd : near to sunset\"],[\"Evening sun on Loch Mor na Caiplaich\"],[\"Loch Ravag\"],[\"Loch a' Mhuilinn\"],[\"Loch Scalpaidh\"],[\"Beach at Loch Bharcasaig\"],[\"View along beach beneath Bloodstone Hill\"],[\"Trig Point\"],[\"Beach on Broadford Bay\"],[\"Tianavaig Bay\"],[\"Hillside above Loch na Cairidh\"],[\"Dun Caan across Loch na Mna\"],[\"Loch Harport from Fernilea.\"],[\"Elgol Slipway\"],[\"Loch Eireagoraidh\"],[\"Below Bidein an Fhithich\"],[\"Loch na Meilich\"],[\"Loch Mor na Caiplaich\"],[\"Across Loch Eynort\"],[\"Towards Loch Eynort from the forest\"],[\"Mouth of Glen Scaladal\"],[\"Loch an Fhir-bhallaich\"],[\"Rocky pebble beach\"],[\"East end of Loch Duagrich\"],[\"Beinn Dearg\"],[\"Sgurr na Stri\"],[\"Loch a' Ghille Reamhra\"],[\"Waterfall on the Abhainn Cille Mhaire\"],[\"The loch on Beinn Bhreac\"],[\"Sgurr Hain\"],[\"Mullach na Carn\"],[\"Northern shore of Loch Coruisk\"],[\"The gentle side of Gars-bheinn\"],[\"Rubha Raonuill\"],[\"Beach at the north end of Loch na Creitheach\"],[\"Loch Fada 3\"],[\"View towards Marsco from Bl\\u00e0 Bheinn\"],[\"Port Aslaig\"],[\"Crowlink Gap\"],[\"Studland beach immediately beyond Shell Bay\"],[\"Ach na Cloiche: Lazy beds\"],[\"View across Loch Carron from Cnoc a Bhlair\"],[\"Pool along the Allt Port Na Cullaidh\"],[\"Elgol Hillside\"],[\"Elgol Harbour\"],[\"Jetty at Elgol\"],[\"The shore at Elgol\"],[\"Shattered rock on Garbh-bheinn\"],[\"Beach at Elgol\"],[\"Near the top of Garbh-bheinn\"],[\"North of Elgol\"],[\"Beinn na Cr\\u00f2\"],[\"Nostie Bay\"],[\"Loch Dhughaill\"],[\"Traigh Farm\"],[\"Hillside above Loch Harport\"],[\"Pasture at the north end of Glasnakille\"],[\"Sheep fank\"],[\"Hillside above Loch Harport\"],[\"Below the Cioch\"],[\"The Bloody Stone in Harta Corrie\"],[\"Bheinn Dearg Bheag\"],[\"The Bloody Stone\"],[\"Flat Topped Hill\"],[\"Heavy Traffic on Torrin Road\"],[\"Loch Eadar D\\u00e0 Bhaile\"],[\"Croft House\"],[\"The Inaccessible Pinnacle on Skye\"],[\"Fence line on Marsco\"],[\"Loch na Leitire\"],[\"Walking the summit ridge of Marsco\"],[\"The Dalavil track\"],[\"The cairn on Beinn nan Carn\"],[\"Burn leaves Coire Gorm\"],[\"Allt Beinn Deirge\"],[\"Loch Dubh\"],[\"Deserted buildings on the track from Kilmarie to Drinan\"],[\"Allt Coire nam Bruadaran\"],[\"Beinn na Caillich summit\"],[\"Looking across Loch Scavaig\"],[\"Glenelg Bay\"],[\"Moorland beneath Sg\\u00f2rach Breac\"],[\"Summit of Glas Bheinn Mhor\"],[\"Sgurr nan Gillean\"],[\"Towards Beinn na Caillich from Bheinn Shuardail\"],[\"Lochan Fada\"],[\"Coastline east of Rubha an D\\u00f9nain\"],[\"Resting at the summit of Sgurr nan Gillean\"],[\"Maol Buidhe\"]],\"hovertemplate\":\"x=%{x}<br>y=%{y}<br>hover_data_0=%{customdata[0]}<br>color=%{marker.color}<extra></extra>\",\"legendgroup\":\"\",\"marker\":{\"color\":[0.7331005478611163,0.7096954527999632,0.6948378736825356,0.6909990006644946,0.6313045441456078,0.621358228453074,0.6130948551902226,0.6032066790591946,0.6030224546411571,0.6015285700265195,0.5915349906029091,0.5846202402186442,0.5795338384070087,0.5792545069198038,0.5789668450015333,0.5756251056723298,0.5660580993292657,0.5556620159556529,0.5450193072070231,0.543390077935806,0.543053371027235,0.5424745336863593,0.5418470489385816,0.5415673000151848,0.5408383971165618,0.5397203671527452,0.5391088102917391,0.5387510705837281,0.5370257853269708,0.5351227055503245,0.5323476170300994,0.5315918462184502,0.5304855408336324,0.5294609006193617,0.5257136075537034,0.5239502474634476,0.5178400338344726,0.5147050579703047,0.5124205148467479,0.5123794642717212,0.5110069175428625,0.5065097037342119,0.5064016821509336,0.5053259093320521,0.5052733247453192,0.504958371803778,0.5049496738234376,0.5048991484137135,0.5031854184015049,0.500540167122079,0.5,0.5,0.4999780939591429,0.4993328209958675,0.4990605852885972,0.4964415593302684,0.4955770484967615,0.4955097327473746,0.4954877943309286,0.49546731258359894,0.4953197222304654,0.4952656300110698,0.49417999140894103,0.49358503267751896,0.49324196527419917,0.49288873547539674,0.4928766560179466,0.49249630915640585,0.49229853909962534,0.49138295310126384,0.49121992148635985,0.49101668714450347,0.4908960796929756,0.4907091804760596,0.49050843599960237,0.4903600277017507,0.48946828543500376,0.48906738607080436,0.48897038078626465,0.4874054191246537,0.4870718428953092,0.4862514674068932,0.4854782889534508,0.4846917262096031,0.4844554248489553,0.48397753679925243,0.48381050076892634,0.48321850098450414,0.482878595267911,0.48268510245397117,0.4824911384414843,0.48215245044831084,0.4818266783754739,0.48094334554411516,0.4806942223706351,0.4804905362128812,0.480092147094399,0.4800546791222605,0.4797209797145251,0.47968380301963964,0.47921406548845263],\"coloraxis\":\"coloraxis\",\"symbol\":\"circle\"},\"mode\":\"markers\",\"name\":\"\",\"orientation\":\"v\",\"showlegend\":false,\"x\":[139870,158269,132970,135740,159669,151780,154659,141140,155310,155389,162650,158290,161593,147510,137949,162410,178109,125520,131020,152720,163100,150960,159280,157810,136880,151550,171779,152129,157439,147469,137960,138020,152130,143019,158222,140240,151499,149659,134500,154800,146099,150319,160620,148730,146379,172360,151299,150149,152990,177000,553709,404099,159870,180070,152330,151830,151620,151610,151620,152900,151610,152909,151800,156420,185499,161299,165789,136960,154040,163070,136759,144299,148900,159199,148810,156249,161180,155810,154440,144399,151170,184300,150780,161900,163603,160739,160820,131370,155090,152622,160090,151799,180499,165159,155480,147300,162669,165370,139800,147129,164150],\"xaxis\":\"x\",\"y\":[839630,819130,854680,838420,810290,813610,814940,820340,816880,817200,825620,819130,813435,831070,844930,829700,828750,842070,800910,813460,826000,838860,828920,838750,834220,813620,795620,814590,839750,830980,825330,825640,816280,820710,832515,840140,827700,818740,799620,819500,815480,820780,827890,820370,818410,800010,821320,837620,821750,817900,96820,85800,808500,833820,813580,813740,813590,813620,813700,823300,813790,823340,814430,822900,826500,808100,790660,835230,813530,812420,835400,820370,823600,821920,823650,803340,820270,840700,814550,821550,824910,832150,825180,806100,818080,822370,822340,832730,815740,825864,823310,817000,819500,812330,825910,825200,821410,812770,816070,825300,807600],\"yaxis\":\"y\",\"type\":\"scatter\"}],                        {\"template\":{\"data\":{\"histogram2dcontour\":[{\"type\":\"histogram2dcontour\",\"colorbar\":{\"outlinewidth\":0,\"ticks\":\"\"},\"colorscale\":[[0.0,\"#0d0887\"],[0.1111111111111111,\"#46039f\"],[0.2222222222222222,\"#7201a8\"],[0.3333333333333333,\"#9c179e\"],[0.4444444444444444,\"#bd3786\"],[0.5555555555555556,\"#d8576b\"],[0.6666666666666666,\"#ed7953\"],[0.7777777777777778,\"#fb9f3a\"],[0.8888888888888888,\"#fdca26\"],[1.0,\"#f0f921\"]]}],\"choropleth\":[{\"type\":\"choropleth\",\"colorbar\":{\"outlinewidth\":0,\"ticks\":\"\"}}],\"histogram2d\":[{\"type\":\"histogram2d\",\"colorbar\":{\"outlinewidth\":0,\"ticks\":\"\"},\"colorscale\":[[0.0,\"#0d0887\"],[0.1111111111111111,\"#46039f\"],[0.2222222222222222,\"#7201a8\"],[0.3333333333333333,\"#9c179e\"],[0.4444444444444444,\"#bd3786\"],[0.5555555555555556,\"#d8576b\"],[0.6666666666666666,\"#ed7953\"],[0.7777777777777778,\"#fb9f3a\"],[0.8888888888888888,\"#fdca26\"],[1.0,\"#f0f921\"]]}],\"heatmap\":[{\"type\":\"heatmap\",\"colorbar\":{\"outlinewidth\":0,\"ticks\":\"\"},\"colorscale\":[[0.0,\"#0d0887\"],[0.1111111111111111,\"#46039f\"],[0.2222222222222222,\"#7201a8\"],[0.3333333333333333,\"#9c179e\"],[0.4444444444444444,\"#bd3786\"],[0.5555555555555556,\"#d8576b\"],[0.6666666666666666,\"#ed7953\"],[0.7777777777777778,\"#fb9f3a\"],[0.8888888888888888,\"#fdca26\"],[1.0,\"#f0f921\"]]}],\"heatmapgl\":[{\"type\":\"heatmapgl\",\"colorbar\":{\"outlinewidth\":0,\"ticks\":\"\"},\"colorscale\":[[0.0,\"#0d0887\"],[0.1111111111111111,\"#46039f\"],[0.2222222222222222,\"#7201a8\"],[0.3333333333333333,\"#9c179e\"],[0.4444444444444444,\"#bd3786\"],[0.5555555555555556,\"#d8576b\"],[0.6666666666666666,\"#ed7953\"],[0.7777777777777778,\"#fb9f3a\"],[0.8888888888888888,\"#fdca26\"],[1.0,\"#f0f921\"]]}],\"contourcarpet\":[{\"type\":\"contourcarpet\",\"colorbar\":{\"outlinewidth\":0,\"ticks\":\"\"}}],\"contour\":[{\"type\":\"contour\",\"colorbar\":{\"outlinewidth\":0,\"ticks\":\"\"},\"colorscale\":[[0.0,\"#0d0887\"],[0.1111111111111111,\"#46039f\"],[0.2222222222222222,\"#7201a8\"],[0.3333333333333333,\"#9c179e\"],[0.4444444444444444,\"#bd3786\"],[0.5555555555555556,\"#d8576b\"],[0.6666666666666666,\"#ed7953\"],[0.7777777777777778,\"#fb9f3a\"],[0.8888888888888888,\"#fdca26\"],[1.0,\"#f0f921\"]]}],\"surface\":[{\"type\":\"surface\",\"colorbar\":{\"outlinewidth\":0,\"ticks\":\"\"},\"colorscale\":[[0.0,\"#0d0887\"],[0.1111111111111111,\"#46039f\"],[0.2222222222222222,\"#7201a8\"],[0.3333333333333333,\"#9c179e\"],[0.4444444444444444,\"#bd3786\"],[0.5555555555555556,\"#d8576b\"],[0.6666666666666666,\"#ed7953\"],[0.7777777777777778,\"#fb9f3a\"],[0.8888888888888888,\"#fdca26\"],[1.0,\"#f0f921\"]]}],\"mesh3d\":[{\"type\":\"mesh3d\",\"colorbar\":{\"outlinewidth\":0,\"ticks\":\"\"}}],\"scatter\":[{\"fillpattern\":{\"fillmode\":\"overlay\",\"size\":10,\"solidity\":0.2},\"type\":\"scatter\"}],\"parcoords\":[{\"type\":\"parcoords\",\"line\":{\"colorbar\":{\"outlinewidth\":0,\"ticks\":\"\"}}}],\"scatterpolargl\":[{\"type\":\"scatterpolargl\",\"marker\":{\"colorbar\":{\"outlinewidth\":0,\"ticks\":\"\"}}}],\"bar\":[{\"error_x\":{\"color\":\"#2a3f5f\"},\"error_y\":{\"color\":\"#2a3f5f\"},\"marker\":{\"line\":{\"color\":\"#E5ECF6\",\"width\":0.5},\"pattern\":{\"fillmode\":\"overlay\",\"size\":10,\"solidity\":0.2}},\"type\":\"bar\"}],\"scattergeo\":[{\"type\":\"scattergeo\",\"marker\":{\"colorbar\":{\"outlinewidth\":0,\"ticks\":\"\"}}}],\"scatterpolar\":[{\"type\":\"scatterpolar\",\"marker\":{\"colorbar\":{\"outlinewidth\":0,\"ticks\":\"\"}}}],\"histogram\":[{\"marker\":{\"pattern\":{\"fillmode\":\"overlay\",\"size\":10,\"solidity\":0.2}},\"type\":\"histogram\"}],\"scattergl\":[{\"type\":\"scattergl\",\"marker\":{\"colorbar\":{\"outlinewidth\":0,\"ticks\":\"\"}}}],\"scatter3d\":[{\"type\":\"scatter3d\",\"line\":{\"colorbar\":{\"outlinewidth\":0,\"ticks\":\"\"}},\"marker\":{\"colorbar\":{\"outlinewidth\":0,\"ticks\":\"\"}}}],\"scattermapbox\":[{\"type\":\"scattermapbox\",\"marker\":{\"colorbar\":{\"outlinewidth\":0,\"ticks\":\"\"}}}],\"scatterternary\":[{\"type\":\"scatterternary\",\"marker\":{\"colorbar\":{\"outlinewidth\":0,\"ticks\":\"\"}}}],\"scattercarpet\":[{\"type\":\"scattercarpet\",\"marker\":{\"colorbar\":{\"outlinewidth\":0,\"ticks\":\"\"}}}],\"carpet\":[{\"aaxis\":{\"endlinecolor\":\"#2a3f5f\",\"gridcolor\":\"white\",\"linecolor\":\"white\",\"minorgridcolor\":\"white\",\"startlinecolor\":\"#2a3f5f\"},\"baxis\":{\"endlinecolor\":\"#2a3f5f\",\"gridcolor\":\"white\",\"linecolor\":\"white\",\"minorgridcolor\":\"white\",\"startlinecolor\":\"#2a3f5f\"},\"type\":\"carpet\"}],\"table\":[{\"cells\":{\"fill\":{\"color\":\"#EBF0F8\"},\"line\":{\"color\":\"white\"}},\"header\":{\"fill\":{\"color\":\"#C8D4E3\"},\"line\":{\"color\":\"white\"}},\"type\":\"table\"}],\"barpolar\":[{\"marker\":{\"line\":{\"color\":\"#E5ECF6\",\"width\":0.5},\"pattern\":{\"fillmode\":\"overlay\",\"size\":10,\"solidity\":0.2}},\"type\":\"barpolar\"}],\"pie\":[{\"automargin\":true,\"type\":\"pie\"}]},\"layout\":{\"autotypenumbers\":\"strict\",\"colorway\":[\"#636efa\",\"#EF553B\",\"#00cc96\",\"#ab63fa\",\"#FFA15A\",\"#19d3f3\",\"#FF6692\",\"#B6E880\",\"#FF97FF\",\"#FECB52\"],\"font\":{\"color\":\"#2a3f5f\"},\"hovermode\":\"closest\",\"hoverlabel\":{\"align\":\"left\"},\"paper_bgcolor\":\"white\",\"plot_bgcolor\":\"#E5ECF6\",\"polar\":{\"bgcolor\":\"#E5ECF6\",\"angularaxis\":{\"gridcolor\":\"white\",\"linecolor\":\"white\",\"ticks\":\"\"},\"radialaxis\":{\"gridcolor\":\"white\",\"linecolor\":\"white\",\"ticks\":\"\"}},\"ternary\":{\"bgcolor\":\"#E5ECF6\",\"aaxis\":{\"gridcolor\":\"white\",\"linecolor\":\"white\",\"ticks\":\"\"},\"baxis\":{\"gridcolor\":\"white\",\"linecolor\":\"white\",\"ticks\":\"\"},\"caxis\":{\"gridcolor\":\"white\",\"linecolor\":\"white\",\"ticks\":\"\"}},\"coloraxis\":{\"colorbar\":{\"outlinewidth\":0,\"ticks\":\"\"}},\"colorscale\":{\"sequential\":[[0.0,\"#0d0887\"],[0.1111111111111111,\"#46039f\"],[0.2222222222222222,\"#7201a8\"],[0.3333333333333333,\"#9c179e\"],[0.4444444444444444,\"#bd3786\"],[0.5555555555555556,\"#d8576b\"],[0.6666666666666666,\"#ed7953\"],[0.7777777777777778,\"#fb9f3a\"],[0.8888888888888888,\"#fdca26\"],[1.0,\"#f0f921\"]],\"sequentialminus\":[[0.0,\"#0d0887\"],[0.1111111111111111,\"#46039f\"],[0.2222222222222222,\"#7201a8\"],[0.3333333333333333,\"#9c179e\"],[0.4444444444444444,\"#bd3786\"],[0.5555555555555556,\"#d8576b\"],[0.6666666666666666,\"#ed7953\"],[0.7777777777777778,\"#fb9f3a\"],[0.8888888888888888,\"#fdca26\"],[1.0,\"#f0f921\"]],\"diverging\":[[0,\"#8e0152\"],[0.1,\"#c51b7d\"],[0.2,\"#de77ae\"],[0.3,\"#f1b6da\"],[0.4,\"#fde0ef\"],[0.5,\"#f7f7f7\"],[0.6,\"#e6f5d0\"],[0.7,\"#b8e186\"],[0.8,\"#7fbc41\"],[0.9,\"#4d9221\"],[1,\"#276419\"]]},\"xaxis\":{\"gridcolor\":\"white\",\"linecolor\":\"white\",\"ticks\":\"\",\"title\":{\"standoff\":15},\"zerolinecolor\":\"white\",\"automargin\":true,\"zerolinewidth\":2},\"yaxis\":{\"gridcolor\":\"white\",\"linecolor\":\"white\",\"ticks\":\"\",\"title\":{\"standoff\":15},\"zerolinecolor\":\"white\",\"automargin\":true,\"zerolinewidth\":2},\"scene\":{\"xaxis\":{\"backgroundcolor\":\"#E5ECF6\",\"gridcolor\":\"white\",\"linecolor\":\"white\",\"showbackground\":true,\"ticks\":\"\",\"zerolinecolor\":\"white\",\"gridwidth\":2},\"yaxis\":{\"backgroundcolor\":\"#E5ECF6\",\"gridcolor\":\"white\",\"linecolor\":\"white\",\"showbackground\":true,\"ticks\":\"\",\"zerolinecolor\":\"white\",\"gridwidth\":2},\"zaxis\":{\"backgroundcolor\":\"#E5ECF6\",\"gridcolor\":\"white\",\"linecolor\":\"white\",\"showbackground\":true,\"ticks\":\"\",\"zerolinecolor\":\"white\",\"gridwidth\":2}},\"shapedefaults\":{\"line\":{\"color\":\"#2a3f5f\"}},\"annotationdefaults\":{\"arrowcolor\":\"#2a3f5f\",\"arrowhead\":0,\"arrowwidth\":1},\"geo\":{\"bgcolor\":\"white\",\"landcolor\":\"#E5ECF6\",\"subunitcolor\":\"white\",\"showland\":true,\"showlakes\":true,\"lakecolor\":\"white\"},\"title\":{\"x\":0.05},\"mapbox\":{\"style\":\"light\"}}},\"xaxis\":{\"anchor\":\"y\",\"domain\":[0.0,1.0],\"title\":{\"text\":\"x\"}},\"yaxis\":{\"anchor\":\"x\",\"domain\":[0.0,1.0],\"title\":{\"text\":\"y\"}},\"coloraxis\":{\"colorbar\":{\"title\":{\"text\":\"color\"}},\"colorscale\":[[0.0,\"#0d0887\"],[0.1111111111111111,\"#46039f\"],[0.2222222222222222,\"#7201a8\"],[0.3333333333333333,\"#9c179e\"],[0.4444444444444444,\"#bd3786\"],[0.5555555555555556,\"#d8576b\"],[0.6666666666666666,\"#ed7953\"],[0.7777777777777778,\"#fb9f3a\"],[0.8888888888888888,\"#fdca26\"],[1.0,\"#f0f921\"]]},\"legend\":{\"tracegroupgap\":0},\"margin\":{\"t\":60}},                        {\"responsive\": true}                    ).then(function(){\n",
       "                            \n",
       "var gd = document.getElementById('aa3e24a1-b397-4aee-b186-ccf266df0997');\n",
       "var x = new MutationObserver(function (mutations, observer) {{\n",
       "        var display = window.getComputedStyle(gd).display;\n",
       "        if (!display || display === 'none') {{\n",
       "            console.log([gd, 'removed!']);\n",
       "            Plotly.purge(gd);\n",
       "            observer.disconnect();\n",
       "        }}\n",
       "}});\n",
       "\n",
       "// Listen for the removal of the full notebook cells\n",
       "var notebookContainer = gd.closest('#notebook-container');\n",
       "if (notebookContainer) {{\n",
       "    x.observe(notebookContainer, {childList: true});\n",
       "}}\n",
       "\n",
       "// Listen for the clearing of the current output cell\n",
       "var outputEl = gd.closest('.output');\n",
       "if (outputEl) {{\n",
       "    x.observe(outputEl, {childList: true});\n",
       "}}\n",
       "\n",
       "                        })                };                });            </script>        </div>"
      ]
     },
     "metadata": {},
     "output_type": "display_data"
    }
   ],
   "source": [
    "fig = px.scatter(x=xs, y=ys, color=scores, hover_data=[label])\n",
    "fig.show()"
   ]
  },
  {
   "cell_type": "code",
   "execution_count": 8,
   "id": "ba2ffbe1",
   "metadata": {},
   "outputs": [],
   "source": [
    "class SpatialIndex:\n",
    "    \n",
    "    def __init__(self, resolution, sample):\n",
    "        \n",
    "        sample.dropna() # Get rid of problematic rows with nas\n",
    "        \n",
    "        for i in sample.index:\n",
    "            try:\n",
    "                g = OSGridConverter.latlong2grid (sample.at[i, 'lat'], sample.at[i, 'lon'], tag = 'WGS84')\n",
    "                sample.at[i, 'x'] = g.E\n",
    "                sample.at[i, 'y'] = g.N\n",
    "            except ValueError:\n",
    "                #print(\"Problem with a document\", sample.at[i,'id'])\n",
    "                sample = sample.drop(i)\n",
    "\n",
    "        # Now we can set up the parameters for our index        \n",
    "        self.resolution = resolution\n",
    "\n",
    "        self.minx = sample['x'].min()\n",
    "        self.maxx = sample['x'].max()\n",
    "        self.miny = sample['y'].min()\n",
    "        self.maxy = sample['y'].max()\n",
    "\n",
    "        w = self.maxx - self.minx\n",
    "        h = self.maxy - self.miny\n",
    "\n",
    "        nc = int(w/self.resolution) + 1\n",
    "        nr = int(h/self.resolution) + 1\n",
    "\n",
    "        #print(maxx, minx, maxy, miny)\n",
    "        #print(nr, nc)\n",
    "\n",
    "        #Build the spatial index now\n",
    "        self.spatialIndex = pd.DataFrame(index=range(nc),columns=range(nr))\n",
    "\n",
    "        #Now we populate the index with document ids\n",
    "        for index, row in sample.iterrows():\n",
    "            i = int((row['x'] - self.minx)/self.resolution)\n",
    "            j = int((row['y'] - self.miny)/self.resolution)\n",
    "            id = row['id']\n",
    "    \n",
    "            #print(row['id'])\n",
    "            #print(row['x'],row['y'],i,j)\n",
    "            if pd.isnull(self.spatialIndex.at[i,j]):\n",
    "                self.spatialIndex.at[i,j] = {id:(row['x'],row['y'])}\n",
    "            else:\n",
    "                names = self.spatialIndex.at[i,j]\n",
    "                names.update({id:(row['x'],row['y'])})\n",
    "                self.spatialIndex.at[i,j] = names\n",
    "\n",
    "        \n",
    "    def rangeQuery(self, dist, point):\n",
    "        x1 = point[0] - dist/2\n",
    "        x2 = point[0] + dist/2\n",
    "        y1 = point[1] - dist/2\n",
    "        y2 = point[1] + dist/2\n",
    "    \n",
    "        i1 = int((x1 - self.minx)/self.resolution)\n",
    "        j1 = int((y1 - self.miny)/self.resolution)\n",
    "        i2 = int((x2 - self.minx)/self.resolution) + 1\n",
    "        j2 = int((y2 - self.miny)/self.resolution) + 1\n",
    "\n",
    "        # Retrieve only the relevant part of the index\n",
    "        result = self.spatialIndex.iloc[i1:i2, j1:j2]\n",
    "        # Turn the data frame into a 1d list\n",
    "        tlist = result.values.flatten()\n",
    "        # Remove all the nans\n",
    "        filtered = filter(lambda i:not(type(i) is float), tlist)\n",
    "        \n",
    "        #Rank by distance\n",
    "        ranked = {}\n",
    "        for item in filtered:\n",
    "            for key in item:\n",
    "                d = si.dist(point, item[key])\n",
    "                #print(key, item[key], dist)\n",
    "                ranked[key] = d    \n",
    "        ranked = dict(sorted(ranked.items(), key = lambda x: x[1], reverse=False))\n",
    "                \n",
    "        return ranked\n",
    "    \n",
    "    def dist(self, p1, p2):\n",
    "        #print(p1[0], p1[1], p2[0], p2[1])\n",
    "        dist = (((p1[0] - p2[0]) ** 2) + ((p1[1] - p2[1]) ** 2)) ** 0.5\n",
    "        #print(dist)\n",
    "        return dist"
   ]
  },
  {
   "cell_type": "code",
   "execution_count": null,
   "id": "92390576",
   "metadata": {},
   "outputs": [],
   "source": []
  },
  {
   "cell_type": "code",
   "execution_count": 9,
   "id": "9c7fe898",
   "metadata": {},
   "outputs": [],
   "source": [
    "class Postings:\n",
    "    \n",
    "    def __init__(self, firstMondayTerms, sample, nlp):\n",
    "        #Load a language model to do NLP\n",
    "        self.ndocs = len(sample)\n",
    "                \n",
    "        # firstMonday works like an inverse stop list, and we only use words in these lists for our posting file\n",
    "        if firstMondayTerms:\n",
    "            #We do this so that the serialisation of the Pickle works propery\n",
    "            data_folder = Path('./data')\n",
    "            fn1 = data_folder / 'elements.txt'\n",
    "            fn2 = data_folder / 'qualities.txt'\n",
    "            fn3 = data_folder / 'activities.txt'\n",
    "            \n",
    "            elements = set(pd.read_csv(fn1, header=None)[0])\n",
    "            qualities = set(pd.read_csv(fn2, header=None)[0])\n",
    "            activities = set(pd.read_csv(fn3, header=None)[0])\n",
    "\n",
    "            terms = elements.union(qualities).union(activities)\n",
    "            lemmas = ' '.join(str(e) for e in terms)\n",
    "\n",
    "            doc = nlp(lemmas)\n",
    "            terms = set()\n",
    "            for token in doc:\n",
    "                terms.add(token.lemma_)\n",
    "                \n",
    "            # Now we process our corpus and create a postings file\n",
    "            docs = nlp.pipe(sample.text,n_process=2, batch_size=100)\n",
    "\n",
    "            self.postings = dict()\n",
    "\n",
    "            for (idxRow, s1), (_, s2) in zip(sample.iterrows(), enumerate(docs)):\n",
    "                id = s1.id\n",
    "                for token in s2:\n",
    "                    lemma = token.lemma_\n",
    "                    if lemma in terms:\n",
    "\n",
    "                        if lemma in self.postings:\n",
    "                            tf = self.postings[lemma]\n",
    "                            if id in tf:\n",
    "                                tf[id] = tf[id] + 1\n",
    "                            else:\n",
    "                                tf[id] = 1\n",
    "                        else:\n",
    "                            tf = {id: 1}\n",
    "                        self.postings[lemma] = tf\n",
    "                        \n",
    "    def tfIdf(self, query,nlp):\n",
    "        results = {}\n",
    "        qdoc = nlp(query)\n",
    "        for token in qdoc:\n",
    "            qt = token.lemma_\n",
    "            if qt in self.postings:\n",
    "                dc = len(self.postings[qt])\n",
    "                idf = math.log10(self.ndocs/(dc + 1))\n",
    "                for doc in self.postings[qt]:\n",
    "                    tf = self.postings[qt][doc]\n",
    "                    tfidf = tf * idf\n",
    "                    if doc in results:\n",
    "                        score = results[doc]\n",
    "                        results[doc] = tfidf + score\n",
    "                    else:\n",
    "                        results[doc] = tfidf\n",
    "        results = dict(sorted(results.items(), key = lambda x: x[1], reverse=True))\n",
    "        \n",
    "        return results"
   ]
  },
  {
   "cell_type": "code",
   "execution_count": 10,
   "id": "622ab43c",
   "metadata": {},
   "outputs": [],
   "source": [
    "# Feature codes in gazetteer are as follows:\n",
    "# A Antiquity (non-Roman)\n",
    "# F Forest or wood\n",
    "# FM Farm\n",
    "# H Hill or mountain\n",
    "# R Antiquity (Roman)\n",
    "# C City\n",
    "# T Town\n",
    "# O Other\n",
    "# W Water feature\n",
    "# X All other features\n",
    "\n",
    "class Gazetteer:\n",
    "    \n",
    "    def __init__(self):\n",
    "        self.gaz = dict()\n",
    "        self.offset = {'C': 2000, 'T':500, 'H':250, 'F':500}\n",
    "        # Read in gazetteer data\n",
    "        data_folder = Path('./data')\n",
    "        fn1 = data_folder / '50kgaz2012.txt'\n",
    "        os_50k = pd.read_csv(fn1,sep=':', encoding='utf8', header=None)\n",
    "        os_trimmed = os_50k.drop([0,1,3,4,5,6,7,10,11,12,15,16,17,18,19], axis = 1)\n",
    "        os_trimmed.columns = ['name','y','x','county','type']\n",
    "        for index, row in os_trimmed.iterrows():\n",
    "            name = row['name']\n",
    "            entry = os_trimmed.iloc[index].values \n",
    "            # Store gazetteer in a dictionary of unique names\n",
    "            if name in self.gaz:\n",
    "                entries = self.gaz[name]\n",
    "                entries.append(entry)\n",
    "                self.gaz[name] = entries\n",
    "            else:\n",
    "                self.gaz[name] = [entry]\n",
    "            \n",
    "    def getLocation(self, name):\n",
    "        if (name in self.gaz) == False:\n",
    "            return('Name not found in gazetteer')\n",
    "\n",
    "        if len(self.gaz[name]) > 1:\n",
    "            # We let the user disambiguate\n",
    "            i = 0\n",
    "            print(\"This place name is ambiguous - choose an entry\")\n",
    "            for entry in self.gaz[name]:\n",
    "                print(f'{i}: {name}, {entry[3]}')\n",
    "                i = i + 1\n",
    "            index = int(input(\"Choose a value:\"))\n",
    "            entry = self.gaz[name][index]\n",
    "        else:\n",
    "            entry = self.gaz[name][0]\n",
    "            \n",
    "        print(entry)\n",
    "        x = entry[2]\n",
    "        y = entry[1]\n",
    "            \n",
    "        if entry[4] in self.offset:\n",
    "            diff = self.offset[entry[4]]\n",
    "            return (x,y,x-diff, y-diff, x + diff, y + diff)\n",
    "        else:\n",
    "            return(x,y)\n",
    "                                    \n",
    "    def gazDump(self):\n",
    "        for name in self.gaz:\n",
    "            print(name)\n",
    "            print(self.gaz[name])\n",
    "            "
   ]
  },
  {
   "cell_type": "code",
   "execution_count": null,
   "id": "84017327",
   "metadata": {},
   "outputs": [],
   "source": [
    "#output all dependencies so that we can reproduce the notebook (we only need this to set things up for Binder)\n",
    "#%load_ext watermark\n",
    "#%watermark --iversions"
   ]
  },
  {
   "cell_type": "code",
   "execution_count": null,
   "id": "fbdbce06",
   "metadata": {},
   "outputs": [],
   "source": []
  }
 ],
 "metadata": {
  "kernelspec": {
   "display_name": "Python 3 (ipykernel)",
   "language": "python",
   "name": "python3"
  },
  "language_info": {
   "codemirror_mode": {
    "name": "ipython",
    "version": 3
   },
   "file_extension": ".py",
   "mimetype": "text/x-python",
   "name": "python",
   "nbconvert_exporter": "python",
   "pygments_lexer": "ipython3",
   "version": "3.9.13"
  }
 },
 "nbformat": 4,
 "nbformat_minor": 5
}
