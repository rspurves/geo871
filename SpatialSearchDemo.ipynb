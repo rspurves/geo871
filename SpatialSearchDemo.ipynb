{
 "cells": [
  {
   "cell_type": "code",
   "execution_count": 198,
   "id": "9b8ea643",
   "metadata": {},
   "outputs": [],
   "source": [
    "import OSGridConverter #To convert from =SGB36 to WGS84\n",
    "import pandas as pd #To use pandas for elegant data handling\n",
    "import numpy as np\n",
    "import math\n",
    "import plotly.express as px"
   ]
  },
  {
   "cell_type": "markdown",
   "id": "138dc7d5",
   "metadata": {},
   "source": [
    "We read in the data first"
   ]
  },
  {
   "cell_type": "code",
   "execution_count": 126,
   "id": "24f07eb8",
   "metadata": {},
   "outputs": [
    {
     "name": "stdout",
     "output_type": "stream",
     "text": [
      "The initial corpus contains 138639 documents.\n"
     ]
    }
   ],
   "source": [
    "geograph = pd.read_csv('./data/geograph_mini_corpus.csv', encoding='latin-1')\n",
    "        \n",
    "#sample = geograph.sample(n = 1000) # For testing\n",
    "sample = geograph\n",
    "\n",
    "print(f'The initial corpus contains {len(sample)} documents.')"
   ]
  },
  {
   "cell_type": "markdown",
   "id": "abfa14ba",
   "metadata": {},
   "source": [
    "Create the three indexes we need:\n",
    "\n",
    "- The spatial index stores documents in square cells and allows us to perform a range query\n",
    "- The postings index indexes terms and the documents in which they are found\n",
    "- The gazetteer indexes toponyms and allows us to look them up\n",
    "\n",
    "The spatial index takes a resolution as a parameter\n",
    "The postings file is restricted to terms from this [paper](https://firstmonday.org/ojs/index.php/fm/article/view/3710/3035) if the argument is true. If false then all terms (including stop words) are indexed.\n",
    "\n",
    "Building these indexes takes time, but only needs to be done once."
   ]
  },
  {
   "cell_type": "code",
   "execution_count": null,
   "id": "3fa774ea",
   "metadata": {},
   "outputs": [],
   "source": [
    "resolution = 10000\n",
    "limitedTerms = True\n",
    "si = SpatialIndex(resolution, sample)\n",
    "postings = Postings(limitedTerms, sample)\n",
    "gaz = Gazetteer()"
   ]
  },
  {
   "cell_type": "markdown",
   "id": "c1aa4a6d",
   "metadata": {},
   "source": [
    "Demonstrates a look up in the gazetteer. For some toponym types point and bounding box are returned. Bounding box could be used to exlude documents for near queries."
   ]
  },
  {
   "cell_type": "code",
   "execution_count": 206,
   "id": "9fe8e929",
   "metadata": {
    "scrolled": false
   },
   "outputs": [
    {
     "name": "stdout",
     "output_type": "stream",
     "text": [
      "['Ben Nevis' 771500 216500 'Highland' 'H']\n",
      "(216500, 771500, 216250, 771250, 216750, 771750)\n"
     ]
    }
   ],
   "source": [
    "name = 'Ben Nevis'\n",
    "location = gaz.getLocation(name)\n",
    "print(location)"
   ]
  },
  {
   "cell_type": "markdown",
   "id": "b307caab",
   "metadata": {},
   "source": [
    "Find all documents within a bounding box \"centred\" around the location returned from the gazetteer. Documents are returned with their distances and ranked according to distance from toponym. "
   ]
  },
  {
   "cell_type": "code",
   "execution_count": 207,
   "id": "902beebe",
   "metadata": {},
   "outputs": [
    {
     "name": "stdout",
     "output_type": "stream",
     "text": [
      "Found 3220 documents in a 100000m x 100000m around Ben Nevis.\n"
     ]
    }
   ],
   "source": [
    "maxDist = 100000\n",
    "docsSpatial = si.rangeQuery(maxDist, (location[0],location[1]))\n",
    "print(f'Found {len(docsSpatial)} documents in a {maxDist}m x {maxDist}m around {name}.')"
   ]
  },
  {
   "cell_type": "markdown",
   "id": "8a76984b",
   "metadata": {},
   "source": [
    "Do a query and return documents ranked by tf-idf scores in the corpus."
   ]
  },
  {
   "cell_type": "code",
   "execution_count": 218,
   "id": "88612dae",
   "metadata": {},
   "outputs": [
    {
     "name": "stdout",
     "output_type": "stream",
     "text": [
      "Found 21047 documents using the query: hill beach loch\n"
     ]
    }
   ],
   "source": [
    "query = 'hill beach loch'\n",
    "docsThematic = postings.tfIdf(query)\n",
    "maxThematic = next(iter(docsThematic.items()))[1] # Used to normalise scores\n",
    "print(f'Found {len(docsThematic)} documents using the query: {query}')"
   ]
  },
  {
   "cell_type": "markdown",
   "id": "1218d49e",
   "metadata": {},
   "source": [
    "Find the unique documents from both sets. Typically there will be some duplicates."
   ]
  },
  {
   "cell_type": "code",
   "execution_count": 219,
   "id": "f7888bc6",
   "metadata": {},
   "outputs": [
    {
     "name": "stdout",
     "output_type": "stream",
     "text": [
      "Found 23250 unique documents merging the thematic and spatial indexes\n"
     ]
    }
   ],
   "source": [
    "#Create a set of unique keys for all the documents retrieved from the thematic and spatial indexes\n",
    "candidates = set(list(docsSpatial.keys()) + list(docsThematic.keys()))\n",
    "\n",
    "print(f'Found {len(candidates)} unique documents merging the thematic and spatial indexes')"
   ]
  },
  {
   "cell_type": "markdown",
   "id": "8edff515",
   "metadata": {},
   "source": [
    "Rank documents according to spatial (distance) and thematic (tf-idf) scores. 'wspatial' determines the weight of each component. A value of 1.0 means that the ranking is purely spatial, 0.0 considers only tf-idf scores."
   ]
  },
  {
   "cell_type": "code",
   "execution_count": 220,
   "id": "959c1660",
   "metadata": {},
   "outputs": [],
   "source": [
    "wspatial = 0.6 # Weight of the spatial score -> weight of 1 means tfidf is ignored\n",
    "\n",
    "scores = dict()\n",
    "for doc in candidates:\n",
    "    st = 0\n",
    "    ss = 0\n",
    "    if doc in docsThematic:\n",
    "        st = docsThematic[doc]/ maxThematic\n",
    "        #print(f'thematic {st}')\n",
    "    if doc in docsSpatial:\n",
    "        ss = 1- docsSpatial[doc]/ maxDist\n",
    "        #print(f'spatial {docsSpatial[doc]} {ss}')\n",
    "    score = ((1-wspatial) * st) + (wspatial * ss)\n",
    "    scores[doc] = score\n",
    "ranked = dict(sorted(scores.items(), key = lambda x: x[1], reverse=True))"
   ]
  },
  {
   "cell_type": "markdown",
   "id": "382492c8",
   "metadata": {},
   "source": [
    "This section of code outputs the results in order. It retrieves the document text from the original data frame to display, not that we didn't use this up to now."
   ]
  },
  {
   "cell_type": "code",
   "execution_count": 221,
   "id": "0bbbd305",
   "metadata": {
    "scrolled": false
   },
   "outputs": [
    {
     "name": "stdout",
     "output_type": "stream",
     "text": [
      "0.6826546594949207: Dun Deardail - At the summit of this small hill is a vitrified hill fort. A vitrified fort is where rocks are fused by heat to strengthen the walls. Taken from the north ridge of Meall a' Chaoruinn. Distant views to the hills north of Loch Arkaig.\n",
      "\n",
      "0.6790477044374952: Loch Eilde Mor - The western end of the loch with a view across hidden Kinlochleven to A' Chaillaich and Am Bodach on the north side of Glencoe. The southern side of these hills was bare of snow.\n",
      "\n",
      "0.6581648678578217: Loch Linnhe - Fort William's loch seen from Achintore road to the south west of the town centre.\n",
      "\n",
      "0.6469092008544948: Dun Deardail - At the summit of this small hill is a vitrified hill fort. A vitrified fort is where rocks   are fused by heat to strengthen the walls. Taken from above the pass now taken through the forest by the West Highland Way.\n",
      "\n",
      "0.638661196768615: The length of Loch Eilde Mor - A long mountain loch near the Mamore range.\n",
      "\n",
      "0.6369148673116584: A view of Loch Leven - Grasslands populate the area between the road and loch while a majestic mountain overlooks the scene from the north.\n",
      "\n",
      "0.633608390443003: The Ben Nevis range from Corpach - Still some snow on the hills.\n",
      "\n",
      "0.6327403959962188: Loch Leven - View across the loch to Beinn a Bheithir range. Callert House in the trees below.\n",
      "\n",
      "0.6275566448206453: Carn Mor Dearg - At the summit area of this Munro with a hill runner heading for the Carn Mor Dearg Arête that leads up to Ben Nevis on the right.\n",
      "\n",
      "0.627343620834895: Loch Dochart - Looking along the SE shore of this small loch. This western end of the loch has several small islands and the loch is filling in with deposits from the Fillan River and other small burns which enter from the steep hill sides to either side. \n",
      "\n",
      "0.6212484256033056: Lochan Meall an t-Suidhe - Small lochan behind the hill of the same name. Viewed from the path to Ben Nevis.\n",
      "\n",
      "0.6178454345034143: Meall an t-Suidhe hillside - Looking back to Loch Linnhe between the hills.\n",
      "\n",
      "0.6131224804881086: Loch Treig wall - Looking across the mouth of the Allt na Lairige over what had been in-by fields. the line of trees on the far shore of the loch picks out the route of the West Highland Line.\n",
      "\n",
      "0.6116767172883255: Glen Nevis from Ben Nevis walk - With the campsite in the picture. The hill across the glen is Bidhein Bad na h-Iolaire.\n",
      "\n",
      "0.6069087579950075: Loch na Lap from Beinn na Lap - The loch is in a peaty hollow at about 580m and drains SE into Loch Ossian. The hill directly behind is Mullach Coire nan Nead.\n",
      "\n",
      "0.6048465354698861: Loch Creran - The old road around the loch provides several good views of the loch and surrounding mountains.\n",
      "\n",
      "0.6032955006968376: Cow Hill near Fort William - This is the local TV-Relay for the Fort William area on a high hill at 287metres and just to the east of town. The views of Ben Nevis from up here are stunning. \n",
      "\n",
      "0.6: Ben Nevis - The highest mountain in the UK located by Fort William in the Highlands of Scotland.\n",
      "\n",
      "0.5969092798727965: Lochyside industrial estate - Industrial estate with superb views of the Nevis hills.\n",
      "\n",
      "0.5953023410085447: The steep rugged ascent of Carn Mor Dearg - A look back down on the CIC mountaineering hut way below.\n",
      "\n",
      "0.591652812767343: Moorland above Loch Ossian - The broad west ridge of Carn Dearg provides an easy descent towards Loch Ossian. The snow covered hill on the far side of the loch is Beinn na Lap.\n",
      "\n",
      "0.590991133438858: Caledonian Canal - Seen from the Great Glen Way.  The hill in the background is Meall an t-Slamain.\n",
      "\n",
      "0.5901708383392932: Caledonian Canal at Banavie - Seen from the Great Glen Way. The hill in the background is Stob a' Choire Chearcaill\n",
      "\n",
      "0.5885986050945858: Meall a' Chaorainn - South side of the hill.\n",
      "\n",
      "0.5879822100175353: Abhainn Rath crossing - The boggy terrain where the path crosses the beginning of Abhainn Rath. Tom an Eite is the lower hill behind the river. In the distance Sgurr a' Bhuic is in the clouds.\n",
      "\n",
      "0.5874977491626507: Coire Giubhsachan - The mountains beyond Glen Nevis are the Mamores.\n",
      "\n",
      "0.5872624818861618: South ridge of  Meall a' Chaorainn - A brief levelling in the southern slopes of Meall a' Chaorainn. The hills either side of Glen Coe in the distance.\n",
      "\n",
      "0.5862045659727575: South West ridge from Aonach Beag above Allt Coire Giubhsachan - Taken from the CMD arête before ascending onto Ben Nevis summit. Mountains of the far Eastern end of the Mamore Forrest in the background.\n",
      "\n",
      "0.5856243211593112: Caledonian Canal near Torcastle - Taken from the Great Glen Way.  The hill in the background is Meall Bhanbhaidh\n",
      "\n",
      "0.5842977581218477: Hanging tree - This tree at the side of the footpath was doing its best to hang on rather than drop to the gorge below.\n",
      "\n",
      "0.5840996289911029: The Parallel Roads of Glen Roy - Beaches were formed at the sides of a glacial lake which stood at a number of different levels in this valley.  The remains can be seen as parallel lines across the hillsides.\n",
      "\n",
      "0.5828059428871485: The bealach between Aonach Beag and Aonach Mòr - The walker does not appreciate the view of Ben Nevis and Carn Mòr Dearg.  He has hiked over the Grey Corries overnight and is resting before climbing Aonach Mòr and the mountains you see.\n",
      "\n",
      "0.5819592749241588: Platform below Druim Sgurr Eilde - The largest of several small lochans looking over to the Glencoe hills\n",
      "\n",
      "0.5813030089882103: Hillside & felled forestry - Meall nan Cleireach is hill\n",
      "\n",
      "0.5803429707229195: \"Topping out\" Aonach Mor as the sun sets over Ben Nevis - Winter is the Best time in the Hills\n",
      "\n",
      "0.5801221521285628: Glen Nevis - Road through Glen Nevis with the Nevis Forest at the right side and River Nevis left.\n",
      "\n",
      "0.580043076389383: Confluence of the Allt Coire a' Mhàil with the Water of Nevis - The Steall hut can just be seen on the far bank through the trees.\n",
      "\n",
      "0.5797223069359455: Steall Hut - Cottage owned by a mountaineering club and used as remote accommodation by club members and guests. Access by rope bridge shown by a person crossing.\n",
      "\n",
      "0.5791501942455091: View towards Ben Nevis - With the great mountain showing up over Carn Dearg Meadhonach. Taken from near the top of Aonach Mòr's steep north ridge.\n",
      "\n",
      "0.5775446042119049: Scree slopes on Stob an Chul-Choire - Descending into the bealach before climbing Aonach Mòr.  Stob Coire Bhealaich is the prominent peak on the right. Binnein Beag below the horizon and Sgùrr Eilde Mòr beyond are in the Mamore Forest.\n",
      "\n",
      "0.5775090125204142: Looking south across Loch Eilde Mor - Winter - Distant hills are the northern slopes of Glencoe's Aonach Eagach ridge.\n",
      "\n",
      "0.575994: Glen Nevis - The glen from within the forest. The lower slopes of Ben Nevis opposite with a caravan park amongst the farmland on the flat valley floor.\n",
      "\n",
      "0.5751064092421772: Allt a'  Mhaim - Green shows up the better quality of land on well drained deposits washed down the hill.\n",
      "\n",
      "0.574678862584789: Pass on the West Highland Way. - First or last pass on the route. Looking south as it heads through the forest to Lunndavra.\n",
      "\n",
      "0.5743654150879337: Stalkers' path above Creag Dhearg - Glencoe hills on the skyline\n",
      "\n",
      "0.5741842753171014: View towards Rannoch Moor from Stob Bàn - With the Achallader hills in the distance.\n",
      "\n",
      "0.573916833014375: Looking Back at the chairlift in Aonach Mor - The mist was rolling in up the mountain\n",
      "\n",
      "0.5737052089569056: Gondola Ride - Taken from the Mountain Restaurant\n",
      "\n",
      "0.5736616979910406: Bogs near Meanach - Boggy land north of Meanach and Luibeilt with a view down the far more boggy upper reaches of Glen Nevis.  The big hill on the right is Aonach Beag (1236m)\n",
      "\n",
      "0.5734631060353577: Lochan Doire Meall an Eilein - Looking down onto Lochan Doire Meall an Eilein (appears to mean the small loch of the oak hill with an island). Behind is Loch Quoich & hills to the north\n",
      "\n",
      "0.5731643931315127: High flier on Mountain Bike Track - This is the First jump on Britain's only official UCI World Cup Downhill Mountain bike track. It descends 2000ft.\n",
      "\n",
      "0.5730037132433812: Ruined Bothy on Loch Eilde Mor - The hills above Glencoe in the background\n",
      "\n",
      "0.5727181313165203: Glen Nevis Plateau from the Kinlochleven route - Luibeilt ruin (the group of trees) and Meanach Bothy from the Kinlochleven road. The hills behind the bothy L to R are Meall a Bhuirich - 841m and the Munro Stob Ban - 977m.\n",
      "\n",
      "0.5723861890025544: Kinlochleven -  Lùibeilt road - Looking south across the flats at Meananach towards the road leading out to Kinlochleven. The sunlit hill is Glas Bheinn.\n",
      "\n",
      "0.5719985714650127: Fly agaric - In birch woodland above the conifers of Nevis Forest.\n",
      "\n",
      "0.5715771570739309: Tunnel in Leanachan Forest - Part of 2007 World Championship mountain bike cross country trail\n",
      "\n",
      "0.5714097506831437: Winter wonderland in Glen Nevis Forest - Overnight snowfall made the forest almost magical.\n",
      "\n",
      "0.5709564671570416: An Gearanach from Coire Eoghainn - The mountains dwarf the Steall waterfall\n",
      "\n",
      "0.57: Eastern Mamores - Taken from Sgurr a Mhaim overlooking Allt Coire a Mhail. Centre flattish mountain being Binnein Mor.\n",
      "\n",
      "0.5698560727417123: Early winter at the Cluanie Dam - A view of the artificial loch taken from the northern end of the dam. The trees and grass are heavily frosted and the loch is generating a low mist across its surface.\n",
      "\n",
      "0.5691506856478138: Descending Aonach Mor - The gondolas are an easy way for the less fit to experience something of the mountains.\n",
      "\n",
      "0.5689895997893718: The summit of Garbh Bheinn - Looking west past the dark silhouette of the Pap of Glencoe to the hills of Ardgour.\n",
      "\n",
      "0.5688341824463927: Southern slopes of Beinn na Cille - Beinn na Cille is the name given on OS Landranger maps to the hill rising in this image; it's viewed here over Coire na Cille. OS Explorer maps do not name the hill in the same way and use the name Beinn na Cille for the nearby ridge rising to Sgurr na h-Eanchainne.\n",
      "\n",
      "0.5687341151412598: Ben Nevis from the west - A view across the ridge S of Cow Hill to the Red Burn and path zigzags on the Glen Nevis face of Ben Nevis.\n",
      "\n",
      "0.5683255115443746: Spean Valley from Commando memorial - Rough pasture leading to the River Spean below the Commando memorial with the snow clad hills near Fort William in the distance.\n",
      "\n",
      "0.5682331416934822: Heading Home - After a wet and wild walk in the hills of Ardgour time to head back with a scant 2 hours daylight left on the first day back in GMT. The line of white buildings is the outskirts of Fort William and Ben Nevis can be seen behind disappearing into the clouds.\n",
      "\n",
      "0.567925524166403: New Bridge in Leanachan Forest - Part of new course for Mountain Bike World Championships.\n",
      "\n",
      "0.5678648147953302: Loch Lochy - The trees on the far side of the loch from the South Laggan Forest.\n",
      "\n",
      "0.5677925263757062: Pipelines coming down the felllside towards Kinlochleven - As seen from part of the West Highland Way footpath.  The route to the Blackwater Reservoir from here leaves the West Highland Way and passes the building just seen in this photo at the top of the hill.\n",
      "\n",
      "0.5676227643609187: Carpark on the banks of Loch Lochy - The view of Loch Lochy from an area used as a car park.  The car park appears to have been built on rubble deposited by the side of the loch.  In the distance (further alongthe A 82) the hotel called Corriegour Lodge [[215028]] can be seen (marked by distinctive trees and the promontory).\n",
      "\n",
      "0.5674436323279147: Cow sign on Cow Hill - A Forestry Commission Scotland sign explaining why cows are the forester's friend.\n",
      "\n",
      "0.5669346102397084: Cow Hill road. - Looking down on the rough boggy col between Cow Hill and Beinn Riabhaich. The access road to the mast on Cow Hill is all too clear. A path leaves it and descends steeply to Glen Nevis.\n",
      "\n",
      "0.5667980898742255: Sign on Cow Hill - An information sign from Forestry Commission Scotland explaining that Highland cattle are in the area.\n",
      "\n",
      "0.5664895939147255: Cow Hill summit track - The track gives access for the communications mast. Compare the tree growth with the similar view [[1663906]] taken in 2005.\n",
      "\n",
      "0.5664419723650124: View of Fort William - Picture taken from hills over Loch Linnhe from Fort William. Ben Nevis seen in the background with clouds around the summit\n",
      "\n",
      "0.5661954097324553: Sheep on rough grazing beside Commando Memorial - The Commando Memorial beside the A82 near to Spean Bridge is well known; this alternative view in the area is across rough grazing to the south of the monument with the highest Lochaber hills distant.\n",
      "\n",
      "0.5661308104614238: Fort William and Loch Linnhe from Cow Hill - The higher reaches of the town built on the N side of Druimarbin seen from the access track for the communications mast.\n",
      "\n",
      "0.5654047662274637: Kinlochleven Hydro station sends some power south - Power lines cross the hill.\n",
      "\n",
      "0.5652358658675468: Commando country - The Commando Memorial against the background of the wild hills where the training took place.\n",
      "\n",
      "0.565025854801779: Tour de Ben Nevis 2010 - Leaving the Lairig track for Leanachan Forest during a new 68km mountain bike endurance event. Cruach Innse is the hill behind.\n",
      "\n",
      "0.5645796668564509: The path to Binnein Beag. - The rudimentary path from Glen Nevis to Binnein Beag follows the east bank of a burn up the steep hillside.\n",
      "\n",
      "0.5644579122729123: The Mamores - This telephoto shot from Stob Beinn a Chrulaiste has compressed the mountain landscape. The central ridge leads up to Stob Coire a Chairn on the left with An Garbhanach and An Gearanach in shadow centre right. These mountains are in the Mamores range between Loch Leven and Glen Nevis. Ben Nevis is clear of cloud in the background.\n",
      "\n",
      "0.5634569445930546: Lairig Leacach - Approaching the summit of the pass which breaches the Grey Corries and provides a route from Glen Spean to Rannoch Moor. The striking hill is Sgurr Innse.\n",
      "\n",
      "0.5629457657480281: Stob Ban's northern corrie - A beautifully sculpted rock mountain in the Mamores\n",
      "\n",
      "0.5624606962498047: Waterfall on the Allt na Lairage - The hills of Cruach Innse (left) and Sgurr Innse. [[2872]]\n",
      "\n",
      "0.5622190524205651: Rocks in the snow - Tom na Culchoire looking down towards Leanachan Forest.\n",
      "\n",
      "0.5620526680779795: Killiechonate Forest - Taken from Sgurr Choinnich Mor. The body of water in the middle distance is Loch Lochy. No trees in Killiechonate Forest. The area of trees is Leanachan Forest.\n",
      "\n",
      "0.562046975930764: Fort William - Fort William is the largest town in the west Highlands of Scotland\n",
      "\n",
      "0.5618347173467823: Built up side of ancient path - Old path/cart track wiggles across hillside.  Occasionally there are clear signs of work to build it up as here with rocks and vegetation where it has been built up.\n",
      "\n",
      "0.5610743786176765: Forestry fence: Blarmachfoldach off-snap to left - Rough-ish grazing: Sheep evident. Boundary between Forestry & Grazing. Bright afternoon after rain.  Doubt you'll meet anyone else down here!\n",
      "\n",
      "0.561025623802298: Bogwood by Allt Coire an Eoin in Killiechonate Forest - So there were trees in Killiechonate Forest!\n",
      "\n",
      "0.5608606147723293: A Church Spire in Fort William - Seen through the rain and mist during a bout of atypical weather in June 2008. Contrasts the architecture of the church with the modern building to the right. Note the adequate trees adding atmosphere.\n",
      "\n",
      "0.5607722727668341: Falls on Abhainn Rath near Staoineag - A great spot to waste an afternoon and one of the reasons moving swiftly through the hills is so difficult.\n",
      "\n",
      "0.5607362915658747: Platform 1 at Fort William 'Talking to the driver' - Platform 1 at Fort William railway station after a ride on 'The Jacobite'. Train hauled by Black 5 'Sherwood Forester'.\n",
      "\n",
      "0.5604454806627611: Church and Hotel - The Alexandra Hotel and nearby church ( built 1881 ) at the Western end of Fort William town\n",
      "\n",
      "0.5601101516673728: From Fassifern Road - Looking down on the northern end of the town from Fassifern Road.\n",
      "\n",
      "0.560044504758419: Path through Forestry Commission plantation near the Allt Coire a' Mhuilinn - Harvested Forestry Commission plantation near the bridge crossing the Allt Coire a' Mhuilinn.\n",
      "\n",
      "0.5598819068748276: Early morning cloud lifting beyond Fort William town centre - Fort William is the largest town in the Scottish Highlands and only the city of Inverness is larger according to Wikipedia.  Its proximity to Ben Nevis and other Munros plus it's location as the start or finish point on the West Highland Way makes it a popular location for walkers.\n",
      "\n",
      "0.5595500309023603: From Fassifern Road - Looking down on the northern end of the town from Fassifern Road. \n",
      "\n",
      "0.5594257569386686: Loch Linnhe towards the sea - Viewed from the original 'Fort William'. Fort William town is on the left.\n",
      "\n",
      "0.5592389571714975: Allt Coire na Cruaidhe - Path crossing a hill burn on Glas Bheinn.\n",
      "\n"
     ]
    }
   ],
   "source": [
    "n = 100\n",
    "i=0\n",
    "for key in ranked:\n",
    "    score = ranked[key]\n",
    "    row = sample.loc[sample['id'] == key]\n",
    "    title = row.iloc[0]['title']\n",
    "    text = row.iloc[0]['text']\n",
    "    print(f'{score}: {title} - {text}\\n')\n",
    "    if i == n:\n",
    "        break\n",
    "    i = i+1"
   ]
  },
  {
   "cell_type": "code",
   "execution_count": 222,
   "id": "da52fbfa",
   "metadata": {},
   "outputs": [
    {
     "data": {
      "image/png": "[encoded data removed]",
      "text/plain": [
       "<Figure size 640x480 with 1 Axes>"
      ]
     },
     "metadata": {},
     "output_type": "display_data"
    }
   ],
   "source": [
    "xs = []\n",
    "ys = []\n",
    "scores = []\n",
    "label = []\n",
    "i=0\n",
    "for key in ranked:\n",
    "    score = ranked[key]\n",
    "    row = sample.loc[sample['id'] == key]\n",
    "    title = row.iloc[0]['title']\n",
    "    g = OSGridConverter.latlong2grid (row.iloc[0]['lat'], row.iloc[0]['lon'], tag = 'WGS84')\n",
    "    xs.append(g.E)\n",
    "    ys.append(g.N)\n",
    "    label.append(title)\n",
    "    scores.append(score)\n",
    "    if i == n:\n",
    "        break\n",
    "    i = i+1\n",
    "    \n",
    "plt.scatter(xs, ys,)\n",
    "plt.show()"
   ]
  },
  {
   "cell_type": "code",
   "execution_count": 223,
   "id": "ab6edd63",
   "metadata": {},
   "outputs": [
    {
     "data": {
      "application/vnd.plotly.v1+json": {
       "config": {
        "plotlyServerURL": "https://plot.ly"
       },
       "data": [
        {
         "customdata": [
          [
           "Dun Deardail"
          ],
          [
           "Loch Eilde Mor"
          ],
          [
           "Loch Linnhe"
          ],
          [
           "Dun Deardail"
          ],
          [
           "The length of Loch Eilde Mor"
          ],
          [
           "A view of Loch Leven"
          ],
          [
           "The Ben Nevis range from Corpach"
          ],
          [
           "Loch Leven"
          ],
          [
           "Carn Mor Dearg"
          ],
          [
           "Loch Dochart"
          ],
          [
           "Lochan Meall an t-Suidhe"
          ],
          [
           "Meall an t-Suidhe hillside"
          ],
          [
           "Loch Treig wall"
          ],
          [
           "Glen Nevis from Ben Nevis walk"
          ],
          [
           "Loch na Lap from Beinn na Lap"
          ],
          [
           "Loch Creran"
          ],
          [
           "Cow Hill near Fort William"
          ],
          [
           "Ben Nevis"
          ],
          [
           "Lochyside industrial estate"
          ],
          [
           "The steep rugged ascent of Carn Mor Dearg"
          ],
          [
           "Moorland above Loch Ossian"
          ],
          [
           "Caledonian Canal"
          ],
          [
           "Caledonian Canal at Banavie"
          ],
          [
           "Meall a' Chaorainn"
          ],
          [
           "Abhainn Rath crossing"
          ],
          [
           "Coire Giubhsachan"
          ],
          [
           "South ridge of  Meall a' Chaorainn"
          ],
          [
           "South West ridge from Aonach Beag above Allt Coire Giubhsachan"
          ],
          [
           "Caledonian Canal near Torcastle"
          ],
          [
           "Hanging tree"
          ],
          [
           "The Parallel Roads of Glen Roy"
          ],
          [
           "The bealach between Aonach Beag and Aonach Mòr"
          ],
          [
           "Platform below Druim Sgurr Eilde"
          ],
          [
           "Hillside & felled forestry"
          ],
          [
           "\"Topping out\" Aonach Mor as the sun sets over Ben Nevis"
          ],
          [
           "Glen Nevis"
          ],
          [
           "Confluence of the Allt Coire a' Mhàil with the Water of Nevis"
          ],
          [
           "Steall Hut"
          ],
          [
           "View towards Ben Nevis"
          ],
          [
           "Scree slopes on Stob an Chul-Choire"
          ],
          [
           "Looking south across Loch Eilde Mor - Winter"
          ],
          [
           "Glen Nevis"
          ],
          [
           "Allt a'  Mhaim"
          ],
          [
           "Pass on the West Highland Way."
          ],
          [
           "Stalkers' path above Creag Dhearg"
          ],
          [
           "View towards Rannoch Moor from Stob Bàn"
          ],
          [
           "Looking Back at the chairlift in Aonach Mor"
          ],
          [
           "Gondola Ride"
          ],
          [
           "Bogs near Meanach"
          ],
          [
           "Lochan Doire Meall an Eilein"
          ],
          [
           "High flier on Mountain Bike Track"
          ],
          [
           "Ruined Bothy on Loch Eilde Mor"
          ],
          [
           "Glen Nevis Plateau from the Kinlochleven route"
          ],
          [
           "Kinlochleven -  Lùibeilt road"
          ],
          [
           "Fly agaric"
          ],
          [
           "Tunnel in Leanachan Forest"
          ],
          [
           "Winter wonderland in Glen Nevis Forest"
          ],
          [
           "An Gearanach from Coire Eoghainn"
          ],
          [
           "Eastern Mamores"
          ],
          [
           "Early winter at the Cluanie Dam"
          ],
          [
           "Descending Aonach Mor"
          ],
          [
           "The summit of Garbh Bheinn"
          ],
          [
           "Southern slopes of Beinn na Cille"
          ],
          [
           "Ben Nevis from the west"
          ],
          [
           "Spean Valley from Commando memorial"
          ],
          [
           "Heading Home"
          ],
          [
           "New Bridge in Leanachan Forest"
          ],
          [
           "Loch Lochy"
          ],
          [
           "Pipelines coming down the felllside towards Kinlochleven"
          ],
          [
           "Carpark on the banks of Loch Lochy"
          ],
          [
           "Cow sign on Cow Hill"
          ],
          [
           "Cow Hill road."
          ],
          [
           "Sign on Cow Hill"
          ],
          [
           "Cow Hill summit track"
          ],
          [
           "View of Fort William"
          ],
          [
           "Sheep on rough grazing beside Commando Memorial"
          ],
          [
           "Fort William and Loch Linnhe from Cow Hill"
          ],
          [
           "Kinlochleven Hydro station sends some power south"
          ],
          [
           "Commando country"
          ],
          [
           "Tour de Ben Nevis 2010"
          ],
          [
           "The path to Binnein Beag."
          ],
          [
           "The Mamores"
          ],
          [
           "Lairig Leacach"
          ],
          [
           "Stob Ban's northern corrie"
          ],
          [
           "Waterfall on the Allt na Lairage"
          ],
          [
           "Rocks in the snow"
          ],
          [
           "Killiechonate Forest"
          ],
          [
           "Fort William"
          ],
          [
           "Built up side of ancient path"
          ],
          [
           "Forestry fence: Blarmachfoldach off-snap to left"
          ],
          [
           "Bogwood by Allt Coire an Eoin in Killiechonate Forest"
          ],
          [
           "A Church Spire in Fort William"
          ],
          [
           "Falls on Abhainn Rath near Staoineag"
          ],
          [
           "Platform 1 at Fort William 'Talking to the driver'"
          ],
          [
           "Church and Hotel"
          ],
          [
           "From Fassifern Road"
          ],
          [
           "Path through Forestry Commission plantation near the Allt Coire a' Mhuilinn"
          ],
          [
           "Early morning cloud lifting beyond Fort William town centre"
          ],
          [
           "From Fassifern Road"
          ],
          [
           "Loch Linnhe towards the sea"
          ],
          [
           "Allt Coire na Cruaidhe"
          ]
         ],
         "hovertemplate": "x=%{x}<br>y=%{y}<br>hover_data_0=%{customdata[0]}<br>color=%{marker.color}<extra></extra>",
         "legendgroup": "",
         "marker": {
          "color": [
           0.6826546594949207,
           0.6790477044374952,
           0.6581648678578217,
           0.6469092008544948,
           0.638661196768615,
           0.6369148673116584,
           0.633608390443003,
           0.6327403959962188,
           0.6275566448206453,
           0.627343620834895,
           0.6212484256033056,
           0.6178454345034143,
           0.6131224804881086,
           0.6116767172883255,
           0.6069087579950075,
           0.6048465354698861,
           0.6032955006968376,
           0.6,
           0.5969092798727965,
           0.5953023410085447,
           0.591652812767343,
           0.590991133438858,
           0.5901708383392932,
           0.5885986050945858,
           0.5879822100175353,
           0.5874977491626507,
           0.5872624818861618,
           0.5862045659727575,
           0.5856243211593112,
           0.5842977581218477,
           0.5840996289911029,
           0.5828059428871485,
           0.5819592749241588,
           0.5813030089882103,
           0.5803429707229195,
           0.5801221521285628,
           0.580043076389383,
           0.5797223069359455,
           0.5791501942455091,
           0.5775446042119049,
           0.5775090125204142,
           0.575994,
           0.5751064092421772,
           0.574678862584789,
           0.5743654150879337,
           0.5741842753171014,
           0.573916833014375,
           0.5737052089569056,
           0.5736616979910406,
           0.5734631060353577,
           0.5731643931315127,
           0.5730037132433812,
           0.5727181313165203,
           0.5723861890025544,
           0.5719985714650127,
           0.5715771570739309,
           0.5714097506831437,
           0.5709564671570416,
           0.57,
           0.5698560727417123,
           0.5691506856478138,
           0.5689895997893718,
           0.5688341824463927,
           0.5687341151412598,
           0.5683255115443746,
           0.5682331416934822,
           0.567925524166403,
           0.5678648147953302,
           0.5677925263757062,
           0.5676227643609187,
           0.5674436323279147,
           0.5669346102397084,
           0.5667980898742255,
           0.5664895939147255,
           0.5664419723650124,
           0.5661954097324553,
           0.5661308104614238,
           0.5654047662274637,
           0.5652358658675468,
           0.565025854801779,
           0.5645796668564509,
           0.5644579122729123,
           0.5634569445930546,
           0.5629457657480281,
           0.5624606962498047,
           0.5622190524205651,
           0.5620526680779795,
           0.562046975930764,
           0.5618347173467823,
           0.5610743786176765,
           0.561025623802298,
           0.5608606147723293,
           0.5607722727668341,
           0.5607362915658747,
           0.5604454806627611,
           0.5601101516673728,
           0.560044504758419,
           0.5598819068748276,
           0.5595500309023603,
           0.5594257569386686,
           0.5592389571714975
          ],
          "coloraxis": "coloraxis",
          "symbol": "circle"
         },
         "mode": "markers",
         "name": "",
         "orientation": "v",
         "showlegend": false,
         "type": "scatter",
         "x": [
          212720,
          221900,
          209660,
          212699,
          224090,
          213380,
          216720,
          210440,
          217700,
          240899,
          214380,
          213579,
          230929,
          212610,
          238079,
          198269,
          211500,
          216500,
          211949,
          216830,
          240000,
          212550,
          211880,
          211510,
          224160,
          218579,
          211579,
          218670,
          213089,
          217420,
          229420,
          219300,
          223649,
          207930,
          219370,
          213599,
          217780,
          217799,
          218650,
          219920,
          222099,
          212499,
          210159,
          212400,
          225040,
          226700,
          218400,
          218499,
          226440,
          201099,
          218419,
          224540,
          226500,
          226500,
          213200,
          216240,
          212189,
          218780,
          216500,
          218319,
          218119,
          216750,
          200220,
          211339,
          220300,
          205380,
          217270,
          225400,
          219990,
          225500,
          211679,
          211100,
          211149,
          211259,
          204999,
          220620,
          211160,
          220139,
          220779,
          225270,
          221100,
          218700,
          228299,
          215079,
          228679,
          221100,
          222500,
          210499,
          210180,
          210430,
          222130,
          210479,
          228500,
          210530,
          210400,
          210300,
          210660,
          210319,
          210200,
          210340,
          225500
         ],
         "xaxis": "x",
         "y": [
          770110,
          763600,
          773460,
          770100,
          764440,
          761310,
          771250,
          761900,
          772100,
          725800,
          772610,
          771980,
          769130,
          772380,
          770740,
          744220,
          773500,
          771500,
          776070,
          772210,
          766000,
          777800,
          777500,
          765460,
          769420,
          771360,
          765120,
          770740,
          779100,
          769050,
          785860,
          772110,
          766130,
          768590,
          773080,
          769900,
          768430,
          768380,
          774230,
          773020,
          763600,
          771500,
          763660,
          770500,
          765910,
          772370,
          775410,
          775400,
          768710,
          800800,
          775540,
          764850,
          768360,
          768180,
          768200,
          776230,
          769470,
          767230,
          766500,
          810100,
          776380,
          760400,
          766390,
          772220,
          782050,
          773060,
          776790,
          791800,
          760750,
          791800,
          773990,
          772600,
          772910,
          773430,
          772280,
          782310,
          773330,
          760380,
          782420,
          779340,
          767800,
          766000,
          773820,
          765490,
          772040,
          775800,
          773500,
          773500,
          770780,
          769210,
          774740,
          774010,
          768100,
          774180,
          774000,
          773900,
          768300,
          774050,
          773900,
          774290,
          762500
         ],
         "yaxis": "y"
        }
       ],
       "layout": {
        "coloraxis": {
         "colorbar": {
          "title": {
           "text": "color"
          }
         },
         "colorscale": [
          [
           0,
           "#0d0887"
          ],
          [
           0.1111111111111111,
           "#46039f"
          ],
          [
           0.2222222222222222,
           "#7201a8"
          ],
          [
           0.3333333333333333,
           "#9c179e"
          ],
          [
           0.4444444444444444,
           "#bd3786"
          ],
          [
           0.5555555555555556,
           "#d8576b"
          ],
          [
           0.6666666666666666,
           "#ed7953"
          ],
          [
           0.7777777777777778,
           "#fb9f3a"
          ],
          [
           0.8888888888888888,
           "#fdca26"
          ],
          [
           1,
           "#f0f921"
          ]
         ]
        },
        "legend": {
         "tracegroupgap": 0
        },
        "margin": {
         "t": 60
        },
        "template": {
         "data": {
          "bar": [
           {
            "error_x": {
             "color": "#2a3f5f"
            },
            "error_y": {
             "color": "#2a3f5f"
            },
            "marker": {
             "line": {
              "color": "#E5ECF6",
              "width": 0.5
             },
             "pattern": {
              "fillmode": "overlay",
              "size": 10,
              "solidity": 0.2
             }
            },
            "type": "bar"
           }
          ],
          "barpolar": [
           {
            "marker": {
             "line": {
              "color": "#E5ECF6",
              "width": 0.5
             },
             "pattern": {
              "fillmode": "overlay",
              "size": 10,
              "solidity": 0.2
             }
            },
            "type": "barpolar"
           }
          ],
          "carpet": [
           {
            "aaxis": {
             "endlinecolor": "#2a3f5f",
             "gridcolor": "white",
             "linecolor": "white",
             "minorgridcolor": "white",
             "startlinecolor": "#2a3f5f"
            },
            "baxis": {
             "endlinecolor": "#2a3f5f",
             "gridcolor": "white",
             "linecolor": "white",
             "minorgridcolor": "white",
             "startlinecolor": "#2a3f5f"
            },
            "type": "carpet"
           }
          ],
          "choropleth": [
           {
            "colorbar": {
             "outlinewidth": 0,
             "ticks": ""
            },
            "type": "choropleth"
           }
          ],
          "contour": [
           {
            "colorbar": {
             "outlinewidth": 0,
             "ticks": ""
            },
            "colorscale": [
             [
              0,
              "#0d0887"
             ],
             [
              0.1111111111111111,
              "#46039f"
             ],
             [
              0.2222222222222222,
              "#7201a8"
             ],
             [
              0.3333333333333333,
              "#9c179e"
             ],
             [
              0.4444444444444444,
              "#bd3786"
             ],
             [
              0.5555555555555556,
              "#d8576b"
             ],
             [
              0.6666666666666666,
              "#ed7953"
             ],
             [
              0.7777777777777778,
              "#fb9f3a"
             ],
             [
              0.8888888888888888,
              "#fdca26"
             ],
             [
              1,
              "#f0f921"
             ]
            ],
            "type": "contour"
           }
          ],
          "contourcarpet": [
           {
            "colorbar": {
             "outlinewidth": 0,
             "ticks": ""
            },
            "type": "contourcarpet"
           }
          ],
          "heatmap": [
           {
            "colorbar": {
             "outlinewidth": 0,
             "ticks": ""
            },
            "colorscale": [
             [
              0,
              "#0d0887"
             ],
             [
              0.1111111111111111,
              "#46039f"
             ],
             [
              0.2222222222222222,
              "#7201a8"
             ],
             [
              0.3333333333333333,
              "#9c179e"
             ],
             [
              0.4444444444444444,
              "#bd3786"
             ],
             [
              0.5555555555555556,
              "#d8576b"
             ],
             [
              0.6666666666666666,
              "#ed7953"
             ],
             [
              0.7777777777777778,
              "#fb9f3a"
             ],
             [
              0.8888888888888888,
              "#fdca26"
             ],
             [
              1,
              "#f0f921"
             ]
            ],
            "type": "heatmap"
           }
          ],
          "heatmapgl": [
           {
            "colorbar": {
             "outlinewidth": 0,
             "ticks": ""
            },
            "colorscale": [
             [
              0,
              "#0d0887"
             ],
             [
              0.1111111111111111,
              "#46039f"
             ],
             [
              0.2222222222222222,
              "#7201a8"
             ],
             [
              0.3333333333333333,
              "#9c179e"
             ],
             [
              0.4444444444444444,
              "#bd3786"
             ],
             [
              0.5555555555555556,
              "#d8576b"
             ],
             [
              0.6666666666666666,
              "#ed7953"
             ],
             [
              0.7777777777777778,
              "#fb9f3a"
             ],
             [
              0.8888888888888888,
              "#fdca26"
             ],
             [
              1,
              "#f0f921"
             ]
            ],
            "type": "heatmapgl"
           }
          ],
          "histogram": [
           {
            "marker": {
             "pattern": {
              "fillmode": "overlay",
              "size": 10,
              "solidity": 0.2
             }
            },
            "type": "histogram"
           }
          ],
          "histogram2d": [
           {
            "colorbar": {
             "outlinewidth": 0,
             "ticks": ""
            },
            "colorscale": [
             [
              0,
              "#0d0887"
             ],
             [
              0.1111111111111111,
              "#46039f"
             ],
             [
              0.2222222222222222,
              "#7201a8"
             ],
             [
              0.3333333333333333,
              "#9c179e"
             ],
             [
              0.4444444444444444,
              "#bd3786"
             ],
             [
              0.5555555555555556,
              "#d8576b"
             ],
             [
              0.6666666666666666,
              "#ed7953"
             ],
             [
              0.7777777777777778,
              "#fb9f3a"
             ],
             [
              0.8888888888888888,
              "#fdca26"
             ],
             [
              1,
              "#f0f921"
             ]
            ],
            "type": "histogram2d"
           }
          ],
          "histogram2dcontour": [
           {
            "colorbar": {
             "outlinewidth": 0,
             "ticks": ""
            },
            "colorscale": [
             [
              0,
              "#0d0887"
             ],
             [
              0.1111111111111111,
              "#46039f"
             ],
             [
              0.2222222222222222,
              "#7201a8"
             ],
             [
              0.3333333333333333,
              "#9c179e"
             ],
             [
              0.4444444444444444,
              "#bd3786"
             ],
             [
              0.5555555555555556,
              "#d8576b"
             ],
             [
              0.6666666666666666,
              "#ed7953"
             ],
             [
              0.7777777777777778,
              "#fb9f3a"
             ],
             [
              0.8888888888888888,
              "#fdca26"
             ],
             [
              1,
              "#f0f921"
             ]
            ],
            "type": "histogram2dcontour"
           }
          ],
          "mesh3d": [
           {
            "colorbar": {
             "outlinewidth": 0,
             "ticks": ""
            },
            "type": "mesh3d"
           }
          ],
          "parcoords": [
           {
            "line": {
             "colorbar": {
              "outlinewidth": 0,
              "ticks": ""
             }
            },
            "type": "parcoords"
           }
          ],
          "pie": [
           {
            "automargin": true,
            "type": "pie"
           }
          ],
          "scatter": [
           {
            "fillpattern": {
             "fillmode": "overlay",
             "size": 10,
             "solidity": 0.2
            },
            "type": "scatter"
           }
          ],
          "scatter3d": [
           {
            "line": {
             "colorbar": {
              "outlinewidth": 0,
              "ticks": ""
             }
            },
            "marker": {
             "colorbar": {
              "outlinewidth": 0,
              "ticks": ""
             }
            },
            "type": "scatter3d"
           }
          ],
          "scattercarpet": [
           {
            "marker": {
             "colorbar": {
              "outlinewidth": 0,
              "ticks": ""
             }
            },
            "type": "scattercarpet"
           }
          ],
          "scattergeo": [
           {
            "marker": {
             "colorbar": {
              "outlinewidth": 0,
              "ticks": ""
             }
            },
            "type": "scattergeo"
           }
          ],
          "scattergl": [
           {
            "marker": {
             "colorbar": {
              "outlinewidth": 0,
              "ticks": ""
             }
            },
            "type": "scattergl"
           }
          ],
          "scattermapbox": [
           {
            "marker": {
             "colorbar": {
              "outlinewidth": 0,
              "ticks": ""
             }
            },
            "type": "scattermapbox"
           }
          ],
          "scatterpolar": [
           {
            "marker": {
             "colorbar": {
              "outlinewidth": 0,
              "ticks": ""
             }
            },
            "type": "scatterpolar"
           }
          ],
          "scatterpolargl": [
           {
            "marker": {
             "colorbar": {
              "outlinewidth": 0,
              "ticks": ""
             }
            },
            "type": "scatterpolargl"
           }
          ],
          "scatterternary": [
           {
            "marker": {
             "colorbar": {
              "outlinewidth": 0,
              "ticks": ""
             }
            },
            "type": "scatterternary"
           }
          ],
          "surface": [
           {
            "colorbar": {
             "outlinewidth": 0,
             "ticks": ""
            },
            "colorscale": [
             [
              0,
              "#0d0887"
             ],
             [
              0.1111111111111111,
              "#46039f"
             ],
             [
              0.2222222222222222,
              "#7201a8"
             ],
             [
              0.3333333333333333,
              "#9c179e"
             ],
             [
              0.4444444444444444,
              "#bd3786"
             ],
             [
              0.5555555555555556,
              "#d8576b"
             ],
             [
              0.6666666666666666,
              "#ed7953"
             ],
             [
              0.7777777777777778,
              "#fb9f3a"
             ],
             [
              0.8888888888888888,
              "#fdca26"
             ],
             [
              1,
              "#f0f921"
             ]
            ],
            "type": "surface"
           }
          ],
          "table": [
           {
            "cells": {
             "fill": {
              "color": "#EBF0F8"
             },
             "line": {
              "color": "white"
             }
            },
            "header": {
             "fill": {
              "color": "#C8D4E3"
             },
             "line": {
              "color": "white"
             }
            },
            "type": "table"
           }
          ]
         },
         "layout": {
          "annotationdefaults": {
           "arrowcolor": "#2a3f5f",
           "arrowhead": 0,
           "arrowwidth": 1
          },
          "autotypenumbers": "strict",
          "coloraxis": {
           "colorbar": {
            "outlinewidth": 0,
            "ticks": ""
           }
          },
          "colorscale": {
           "diverging": [
            [
             0,
             "#8e0152"
            ],
            [
             0.1,
             "#c51b7d"
            ],
            [
             0.2,
             "#de77ae"
            ],
            [
             0.3,
             "#f1b6da"
            ],
            [
             0.4,
             "#fde0ef"
            ],
            [
             0.5,
             "#f7f7f7"
            ],
            [
             0.6,
             "#e6f5d0"
            ],
            [
             0.7,
             "#b8e186"
            ],
            [
             0.8,
             "#7fbc41"
            ],
            [
             0.9,
             "#4d9221"
            ],
            [
             1,
             "#276419"
            ]
           ],
           "sequential": [
            [
             0,
             "#0d0887"
            ],
            [
             0.1111111111111111,
             "#46039f"
            ],
            [
             0.2222222222222222,
             "#7201a8"
            ],
            [
             0.3333333333333333,
             "#9c179e"
            ],
            [
             0.4444444444444444,
             "#bd3786"
            ],
            [
             0.5555555555555556,
             "#d8576b"
            ],
            [
             0.6666666666666666,
             "#ed7953"
            ],
            [
             0.7777777777777778,
             "#fb9f3a"
            ],
            [
             0.8888888888888888,
             "#fdca26"
            ],
            [
             1,
             "#f0f921"
            ]
           ],
           "sequentialminus": [
            [
             0,
             "#0d0887"
            ],
            [
             0.1111111111111111,
             "#46039f"
            ],
            [
             0.2222222222222222,
             "#7201a8"
            ],
            [
             0.3333333333333333,
             "#9c179e"
            ],
            [
             0.4444444444444444,
             "#bd3786"
            ],
            [
             0.5555555555555556,
             "#d8576b"
            ],
            [
             0.6666666666666666,
             "#ed7953"
            ],
            [
             0.7777777777777778,
             "#fb9f3a"
            ],
            [
             0.8888888888888888,
             "#fdca26"
            ],
            [
             1,
             "#f0f921"
            ]
           ]
          },
          "colorway": [
           "#636efa",
           "#EF553B",
           "#00cc96",
           "#ab63fa",
           "#FFA15A",
           "#19d3f3",
           "#FF6692",
           "#B6E880",
           "#FF97FF",
           "#FECB52"
          ],
          "font": {
           "color": "#2a3f5f"
          },
          "geo": {
           "bgcolor": "white",
           "lakecolor": "white",
           "landcolor": "#E5ECF6",
           "showlakes": true,
           "showland": true,
           "subunitcolor": "white"
          },
          "hoverlabel": {
           "align": "left"
          },
          "hovermode": "closest",
          "mapbox": {
           "style": "light"
          },
          "paper_bgcolor": "white",
          "plot_bgcolor": "#E5ECF6",
          "polar": {
           "angularaxis": {
            "gridcolor": "white",
            "linecolor": "white",
            "ticks": ""
           },
           "bgcolor": "#E5ECF6",
           "radialaxis": {
            "gridcolor": "white",
            "linecolor": "white",
            "ticks": ""
           }
          },
          "scene": {
           "xaxis": {
            "backgroundcolor": "#E5ECF6",
            "gridcolor": "white",
            "gridwidth": 2,
            "linecolor": "white",
            "showbackground": true,
            "ticks": "",
            "zerolinecolor": "white"
           },
           "yaxis": {
            "backgroundcolor": "#E5ECF6",
            "gridcolor": "white",
            "gridwidth": 2,
            "linecolor": "white",
            "showbackground": true,
            "ticks": "",
            "zerolinecolor": "white"
           },
           "zaxis": {
            "backgroundcolor": "#E5ECF6",
            "gridcolor": "white",
            "gridwidth": 2,
            "linecolor": "white",
            "showbackground": true,
            "ticks": "",
            "zerolinecolor": "white"
           }
          },
          "shapedefaults": {
           "line": {
            "color": "#2a3f5f"
           }
          },
          "ternary": {
           "aaxis": {
            "gridcolor": "white",
            "linecolor": "white",
            "ticks": ""
           },
           "baxis": {
            "gridcolor": "white",
            "linecolor": "white",
            "ticks": ""
           },
           "bgcolor": "#E5ECF6",
           "caxis": {
            "gridcolor": "white",
            "linecolor": "white",
            "ticks": ""
           }
          },
          "title": {
           "x": 0.05
          },
          "xaxis": {
           "automargin": true,
           "gridcolor": "white",
           "linecolor": "white",
           "ticks": "",
           "title": {
            "standoff": 15
           },
           "zerolinecolor": "white",
           "zerolinewidth": 2
          },
          "yaxis": {
           "automargin": true,
           "gridcolor": "white",
           "linecolor": "white",
           "ticks": "",
           "title": {
            "standoff": 15
           },
           "zerolinecolor": "white",
           "zerolinewidth": 2
          }
         }
        },
        "xaxis": {
         "anchor": "y",
         "domain": [
          0,
          1
         ],
         "title": {
          "text": "x"
         }
        },
        "yaxis": {
         "anchor": "x",
         "domain": [
          0,
          1
         ],
         "title": {
          "text": "y"
         }
        }
       }
      },
      "text/html": [
       "<div>                            <div id=\"2f0ce9d3-669e-4188-99ec-816ab1b7f2f2\" class=\"plotly-graph-div\" style=\"height:525px; width:100%;\"></div>            <script type=\"text/javascript\">                require([\"plotly\"], function(Plotly) {                    window.PLOTLYENV=window.PLOTLYENV || {};                                    if (document.getElementById(\"2f0ce9d3-669e-4188-99ec-816ab1b7f2f2\")) {                    Plotly.newPlot(                        \"2f0ce9d3-669e-4188-99ec-816ab1b7f2f2\",                        [{\"customdata\":[[\"Dun Deardail\"],[\"Loch Eilde Mor\"],[\"Loch Linnhe\"],[\"Dun Deardail\"],[\"The length of Loch Eilde Mor\"],[\"A view of Loch Leven\"],[\"The Ben Nevis range from Corpach\"],[\"Loch Leven\"],[\"Carn Mor Dearg\"],[\"Loch Dochart\"],[\"Lochan Meall an t-Suidhe\"],[\"Meall an t-Suidhe hillside\"],[\"Loch Treig wall\"],[\"Glen Nevis from Ben Nevis walk\"],[\"Loch na Lap from Beinn na Lap\"],[\"Loch Creran\"],[\"Cow Hill near Fort William\"],[\"Ben Nevis\"],[\"Lochyside industrial estate\"],[\"The steep rugged ascent of Carn Mor Dearg\"],[\"Moorland above Loch Ossian\"],[\"Caledonian Canal\"],[\"Caledonian Canal at Banavie\"],[\"Meall a' Chaorainn\"],[\"Abhainn Rath crossing\"],[\"Coire Giubhsachan\"],[\"South ridge of  Meall a' Chaorainn\"],[\"South West ridge from Aonach Beag above Allt Coire Giubhsachan\"],[\"Caledonian Canal near Torcastle\"],[\"Hanging tree\"],[\"The Parallel Roads of Glen Roy\"],[\"The bealach between Aonach Beag and Aonach M\\u00f2r\"],[\"Platform below Druim Sgurr Eilde\"],[\"Hillside & felled forestry\"],[\"\\\"Topping out\\\" Aonach Mor as the sun sets over Ben Nevis\"],[\"Glen Nevis\"],[\"Confluence of the Allt Coire a' Mh\\u00e0il with the Water of Nevis\"],[\"Steall Hut\"],[\"View towards Ben Nevis\"],[\"Scree slopes on Stob an Chul-Choire\"],[\"Looking south across Loch Eilde Mor - Winter\"],[\"Glen Nevis\"],[\"Allt a'  Mhaim\"],[\"Pass on the West Highland Way.\"],[\"Stalkers' path above Creag Dhearg\"],[\"View towards Rannoch Moor from Stob B\\u00e0n\"],[\"Looking Back at the chairlift in Aonach Mor\"],[\"Gondola Ride\"],[\"Bogs near Meanach\"],[\"Lochan Doire Meall an Eilein\"],[\"High flier on Mountain Bike Track\"],[\"Ruined Bothy on Loch Eilde Mor\"],[\"Glen Nevis Plateau from the Kinlochleven route\"],[\"Kinlochleven -  L\\u00f9ibeilt road\"],[\"Fly agaric\"],[\"Tunnel in Leanachan Forest\"],[\"Winter wonderland in Glen Nevis Forest\"],[\"An Gearanach from Coire Eoghainn\"],[\"Eastern Mamores\"],[\"Early winter at the Cluanie Dam\"],[\"Descending Aonach Mor\"],[\"The summit of Garbh Bheinn\"],[\"Southern slopes of Beinn na Cille\"],[\"Ben Nevis from the west\"],[\"Spean Valley from Commando memorial\"],[\"Heading Home\"],[\"New Bridge in Leanachan Forest\"],[\"Loch Lochy\"],[\"Pipelines coming down the felllside towards Kinlochleven\"],[\"Carpark on the banks of Loch Lochy\"],[\"Cow sign on Cow Hill\"],[\"Cow Hill road.\"],[\"Sign on Cow Hill\"],[\"Cow Hill summit track\"],[\"View of Fort William\"],[\"Sheep on rough grazing beside Commando Memorial\"],[\"Fort William and Loch Linnhe from Cow Hill\"],[\"Kinlochleven Hydro station sends some power south\"],[\"Commando country\"],[\"Tour de Ben Nevis 2010\"],[\"The path to Binnein Beag.\"],[\"The Mamores\"],[\"Lairig Leacach\"],[\"Stob Ban's northern corrie\"],[\"Waterfall on the Allt na Lairage\"],[\"Rocks in the snow\"],[\"Killiechonate Forest\"],[\"Fort William\"],[\"Built up side of ancient path\"],[\"Forestry fence: Blarmachfoldach off-snap to left\"],[\"Bogwood by Allt Coire an Eoin in Killiechonate Forest\"],[\"A Church Spire in Fort William\"],[\"Falls on Abhainn Rath near Staoineag\"],[\"Platform 1 at Fort William 'Talking to the driver'\"],[\"Church and Hotel\"],[\"From Fassifern Road\"],[\"Path through Forestry Commission plantation near the Allt Coire a' Mhuilinn\"],[\"Early morning cloud lifting beyond Fort William town centre\"],[\"From Fassifern Road\"],[\"Loch Linnhe towards the sea\"],[\"Allt Coire na Cruaidhe\"]],\"hovertemplate\":\"x=%{x}<br>y=%{y}<br>hover_data_0=%{customdata[0]}<br>color=%{marker.color}<extra></extra>\",\"legendgroup\":\"\",\"marker\":{\"color\":[0.6826546594949207,0.6790477044374952,0.6581648678578217,0.6469092008544948,0.638661196768615,0.6369148673116584,0.633608390443003,0.6327403959962188,0.6275566448206453,0.627343620834895,0.6212484256033056,0.6178454345034143,0.6131224804881086,0.6116767172883255,0.6069087579950075,0.6048465354698861,0.6032955006968376,0.6,0.5969092798727965,0.5953023410085447,0.591652812767343,0.590991133438858,0.5901708383392932,0.5885986050945858,0.5879822100175353,0.5874977491626507,0.5872624818861618,0.5862045659727575,0.5856243211593112,0.5842977581218477,0.5840996289911029,0.5828059428871485,0.5819592749241588,0.5813030089882103,0.5803429707229195,0.5801221521285628,0.580043076389383,0.5797223069359455,0.5791501942455091,0.5775446042119049,0.5775090125204142,0.575994,0.5751064092421772,0.574678862584789,0.5743654150879337,0.5741842753171014,0.573916833014375,0.5737052089569056,0.5736616979910406,0.5734631060353577,0.5731643931315127,0.5730037132433812,0.5727181313165203,0.5723861890025544,0.5719985714650127,0.5715771570739309,0.5714097506831437,0.5709564671570416,0.57,0.5698560727417123,0.5691506856478138,0.5689895997893718,0.5688341824463927,0.5687341151412598,0.5683255115443746,0.5682331416934822,0.567925524166403,0.5678648147953302,0.5677925263757062,0.5676227643609187,0.5674436323279147,0.5669346102397084,0.5667980898742255,0.5664895939147255,0.5664419723650124,0.5661954097324553,0.5661308104614238,0.5654047662274637,0.5652358658675468,0.565025854801779,0.5645796668564509,0.5644579122729123,0.5634569445930546,0.5629457657480281,0.5624606962498047,0.5622190524205651,0.5620526680779795,0.562046975930764,0.5618347173467823,0.5610743786176765,0.561025623802298,0.5608606147723293,0.5607722727668341,0.5607362915658747,0.5604454806627611,0.5601101516673728,0.560044504758419,0.5598819068748276,0.5595500309023603,0.5594257569386686,0.5592389571714975],\"coloraxis\":\"coloraxis\",\"symbol\":\"circle\"},\"mode\":\"markers\",\"name\":\"\",\"orientation\":\"v\",\"showlegend\":false,\"x\":[212720,221900,209660,212699,224090,213380,216720,210440,217700,240899,214380,213579,230929,212610,238079,198269,211500,216500,211949,216830,240000,212550,211880,211510,224160,218579,211579,218670,213089,217420,229420,219300,223649,207930,219370,213599,217780,217799,218650,219920,222099,212499,210159,212400,225040,226700,218400,218499,226440,201099,218419,224540,226500,226500,213200,216240,212189,218780,216500,218319,218119,216750,200220,211339,220300,205380,217270,225400,219990,225500,211679,211100,211149,211259,204999,220620,211160,220139,220779,225270,221100,218700,228299,215079,228679,221100,222500,210499,210180,210430,222130,210479,228500,210530,210400,210300,210660,210319,210200,210340,225500],\"xaxis\":\"x\",\"y\":[770110,763600,773460,770100,764440,761310,771250,761900,772100,725800,772610,771980,769130,772380,770740,744220,773500,771500,776070,772210,766000,777800,777500,765460,769420,771360,765120,770740,779100,769050,785860,772110,766130,768590,773080,769900,768430,768380,774230,773020,763600,771500,763660,770500,765910,772370,775410,775400,768710,800800,775540,764850,768360,768180,768200,776230,769470,767230,766500,810100,776380,760400,766390,772220,782050,773060,776790,791800,760750,791800,773990,772600,772910,773430,772280,782310,773330,760380,782420,779340,767800,766000,773820,765490,772040,775800,773500,773500,770780,769210,774740,774010,768100,774180,774000,773900,768300,774050,773900,774290,762500],\"yaxis\":\"y\",\"type\":\"scatter\"}],                        {\"template\":{\"data\":{\"histogram2dcontour\":[{\"type\":\"histogram2dcontour\",\"colorbar\":{\"outlinewidth\":0,\"ticks\":\"\"},\"colorscale\":[[0.0,\"#0d0887\"],[0.1111111111111111,\"#46039f\"],[0.2222222222222222,\"#7201a8\"],[0.3333333333333333,\"#9c179e\"],[0.4444444444444444,\"#bd3786\"],[0.5555555555555556,\"#d8576b\"],[0.6666666666666666,\"#ed7953\"],[0.7777777777777778,\"#fb9f3a\"],[0.8888888888888888,\"#fdca26\"],[1.0,\"#f0f921\"]]}],\"choropleth\":[{\"type\":\"choropleth\",\"colorbar\":{\"outlinewidth\":0,\"ticks\":\"\"}}],\"histogram2d\":[{\"type\":\"histogram2d\",\"colorbar\":{\"outlinewidth\":0,\"ticks\":\"\"},\"colorscale\":[[0.0,\"#0d0887\"],[0.1111111111111111,\"#46039f\"],[0.2222222222222222,\"#7201a8\"],[0.3333333333333333,\"#9c179e\"],[0.4444444444444444,\"#bd3786\"],[0.5555555555555556,\"#d8576b\"],[0.6666666666666666,\"#ed7953\"],[0.7777777777777778,\"#fb9f3a\"],[0.8888888888888888,\"#fdca26\"],[1.0,\"#f0f921\"]]}],\"heatmap\":[{\"type\":\"heatmap\",\"colorbar\":{\"outlinewidth\":0,\"ticks\":\"\"},\"colorscale\":[[0.0,\"#0d0887\"],[0.1111111111111111,\"#46039f\"],[0.2222222222222222,\"#7201a8\"],[0.3333333333333333,\"#9c179e\"],[0.4444444444444444,\"#bd3786\"],[0.5555555555555556,\"#d8576b\"],[0.6666666666666666,\"#ed7953\"],[0.7777777777777778,\"#fb9f3a\"],[0.8888888888888888,\"#fdca26\"],[1.0,\"#f0f921\"]]}],\"heatmapgl\":[{\"type\":\"heatmapgl\",\"colorbar\":{\"outlinewidth\":0,\"ticks\":\"\"},\"colorscale\":[[0.0,\"#0d0887\"],[0.1111111111111111,\"#46039f\"],[0.2222222222222222,\"#7201a8\"],[0.3333333333333333,\"#9c179e\"],[0.4444444444444444,\"#bd3786\"],[0.5555555555555556,\"#d8576b\"],[0.6666666666666666,\"#ed7953\"],[0.7777777777777778,\"#fb9f3a\"],[0.8888888888888888,\"#fdca26\"],[1.0,\"#f0f921\"]]}],\"contourcarpet\":[{\"type\":\"contourcarpet\",\"colorbar\":{\"outlinewidth\":0,\"ticks\":\"\"}}],\"contour\":[{\"type\":\"contour\",\"colorbar\":{\"outlinewidth\":0,\"ticks\":\"\"},\"colorscale\":[[0.0,\"#0d0887\"],[0.1111111111111111,\"#46039f\"],[0.2222222222222222,\"#7201a8\"],[0.3333333333333333,\"#9c179e\"],[0.4444444444444444,\"#bd3786\"],[0.5555555555555556,\"#d8576b\"],[0.6666666666666666,\"#ed7953\"],[0.7777777777777778,\"#fb9f3a\"],[0.8888888888888888,\"#fdca26\"],[1.0,\"#f0f921\"]]}],\"surface\":[{\"type\":\"surface\",\"colorbar\":{\"outlinewidth\":0,\"ticks\":\"\"},\"colorscale\":[[0.0,\"#0d0887\"],[0.1111111111111111,\"#46039f\"],[0.2222222222222222,\"#7201a8\"],[0.3333333333333333,\"#9c179e\"],[0.4444444444444444,\"#bd3786\"],[0.5555555555555556,\"#d8576b\"],[0.6666666666666666,\"#ed7953\"],[0.7777777777777778,\"#fb9f3a\"],[0.8888888888888888,\"#fdca26\"],[1.0,\"#f0f921\"]]}],\"mesh3d\":[{\"type\":\"mesh3d\",\"colorbar\":{\"outlinewidth\":0,\"ticks\":\"\"}}],\"scatter\":[{\"fillpattern\":{\"fillmode\":\"overlay\",\"size\":10,\"solidity\":0.2},\"type\":\"scatter\"}],\"parcoords\":[{\"type\":\"parcoords\",\"line\":{\"colorbar\":{\"outlinewidth\":0,\"ticks\":\"\"}}}],\"scatterpolargl\":[{\"type\":\"scatterpolargl\",\"marker\":{\"colorbar\":{\"outlinewidth\":0,\"ticks\":\"\"}}}],\"bar\":[{\"error_x\":{\"color\":\"#2a3f5f\"},\"error_y\":{\"color\":\"#2a3f5f\"},\"marker\":{\"line\":{\"color\":\"#E5ECF6\",\"width\":0.5},\"pattern\":{\"fillmode\":\"overlay\",\"size\":10,\"solidity\":0.2}},\"type\":\"bar\"}],\"scattergeo\":[{\"type\":\"scattergeo\",\"marker\":{\"colorbar\":{\"outlinewidth\":0,\"ticks\":\"\"}}}],\"scatterpolar\":[{\"type\":\"scatterpolar\",\"marker\":{\"colorbar\":{\"outlinewidth\":0,\"ticks\":\"\"}}}],\"histogram\":[{\"marker\":{\"pattern\":{\"fillmode\":\"overlay\",\"size\":10,\"solidity\":0.2}},\"type\":\"histogram\"}],\"scattergl\":[{\"type\":\"scattergl\",\"marker\":{\"colorbar\":{\"outlinewidth\":0,\"ticks\":\"\"}}}],\"scatter3d\":[{\"type\":\"scatter3d\",\"line\":{\"colorbar\":{\"outlinewidth\":0,\"ticks\":\"\"}},\"marker\":{\"colorbar\":{\"outlinewidth\":0,\"ticks\":\"\"}}}],\"scattermapbox\":[{\"type\":\"scattermapbox\",\"marker\":{\"colorbar\":{\"outlinewidth\":0,\"ticks\":\"\"}}}],\"scatterternary\":[{\"type\":\"scatterternary\",\"marker\":{\"colorbar\":{\"outlinewidth\":0,\"ticks\":\"\"}}}],\"scattercarpet\":[{\"type\":\"scattercarpet\",\"marker\":{\"colorbar\":{\"outlinewidth\":0,\"ticks\":\"\"}}}],\"carpet\":[{\"aaxis\":{\"endlinecolor\":\"#2a3f5f\",\"gridcolor\":\"white\",\"linecolor\":\"white\",\"minorgridcolor\":\"white\",\"startlinecolor\":\"#2a3f5f\"},\"baxis\":{\"endlinecolor\":\"#2a3f5f\",\"gridcolor\":\"white\",\"linecolor\":\"white\",\"minorgridcolor\":\"white\",\"startlinecolor\":\"#2a3f5f\"},\"type\":\"carpet\"}],\"table\":[{\"cells\":{\"fill\":{\"color\":\"#EBF0F8\"},\"line\":{\"color\":\"white\"}},\"header\":{\"fill\":{\"color\":\"#C8D4E3\"},\"line\":{\"color\":\"white\"}},\"type\":\"table\"}],\"barpolar\":[{\"marker\":{\"line\":{\"color\":\"#E5ECF6\",\"width\":0.5},\"pattern\":{\"fillmode\":\"overlay\",\"size\":10,\"solidity\":0.2}},\"type\":\"barpolar\"}],\"pie\":[{\"automargin\":true,\"type\":\"pie\"}]},\"layout\":{\"autotypenumbers\":\"strict\",\"colorway\":[\"#636efa\",\"#EF553B\",\"#00cc96\",\"#ab63fa\",\"#FFA15A\",\"#19d3f3\",\"#FF6692\",\"#B6E880\",\"#FF97FF\",\"#FECB52\"],\"font\":{\"color\":\"#2a3f5f\"},\"hovermode\":\"closest\",\"hoverlabel\":{\"align\":\"left\"},\"paper_bgcolor\":\"white\",\"plot_bgcolor\":\"#E5ECF6\",\"polar\":{\"bgcolor\":\"#E5ECF6\",\"angularaxis\":{\"gridcolor\":\"white\",\"linecolor\":\"white\",\"ticks\":\"\"},\"radialaxis\":{\"gridcolor\":\"white\",\"linecolor\":\"white\",\"ticks\":\"\"}},\"ternary\":{\"bgcolor\":\"#E5ECF6\",\"aaxis\":{\"gridcolor\":\"white\",\"linecolor\":\"white\",\"ticks\":\"\"},\"baxis\":{\"gridcolor\":\"white\",\"linecolor\":\"white\",\"ticks\":\"\"},\"caxis\":{\"gridcolor\":\"white\",\"linecolor\":\"white\",\"ticks\":\"\"}},\"coloraxis\":{\"colorbar\":{\"outlinewidth\":0,\"ticks\":\"\"}},\"colorscale\":{\"sequential\":[[0.0,\"#0d0887\"],[0.1111111111111111,\"#46039f\"],[0.2222222222222222,\"#7201a8\"],[0.3333333333333333,\"#9c179e\"],[0.4444444444444444,\"#bd3786\"],[0.5555555555555556,\"#d8576b\"],[0.6666666666666666,\"#ed7953\"],[0.7777777777777778,\"#fb9f3a\"],[0.8888888888888888,\"#fdca26\"],[1.0,\"#f0f921\"]],\"sequentialminus\":[[0.0,\"#0d0887\"],[0.1111111111111111,\"#46039f\"],[0.2222222222222222,\"#7201a8\"],[0.3333333333333333,\"#9c179e\"],[0.4444444444444444,\"#bd3786\"],[0.5555555555555556,\"#d8576b\"],[0.6666666666666666,\"#ed7953\"],[0.7777777777777778,\"#fb9f3a\"],[0.8888888888888888,\"#fdca26\"],[1.0,\"#f0f921\"]],\"diverging\":[[0,\"#8e0152\"],[0.1,\"#c51b7d\"],[0.2,\"#de77ae\"],[0.3,\"#f1b6da\"],[0.4,\"#fde0ef\"],[0.5,\"#f7f7f7\"],[0.6,\"#e6f5d0\"],[0.7,\"#b8e186\"],[0.8,\"#7fbc41\"],[0.9,\"#4d9221\"],[1,\"#276419\"]]},\"xaxis\":{\"gridcolor\":\"white\",\"linecolor\":\"white\",\"ticks\":\"\",\"title\":{\"standoff\":15},\"zerolinecolor\":\"white\",\"automargin\":true,\"zerolinewidth\":2},\"yaxis\":{\"gridcolor\":\"white\",\"linecolor\":\"white\",\"ticks\":\"\",\"title\":{\"standoff\":15},\"zerolinecolor\":\"white\",\"automargin\":true,\"zerolinewidth\":2},\"scene\":{\"xaxis\":{\"backgroundcolor\":\"#E5ECF6\",\"gridcolor\":\"white\",\"linecolor\":\"white\",\"showbackground\":true,\"ticks\":\"\",\"zerolinecolor\":\"white\",\"gridwidth\":2},\"yaxis\":{\"backgroundcolor\":\"#E5ECF6\",\"gridcolor\":\"white\",\"linecolor\":\"white\",\"showbackground\":true,\"ticks\":\"\",\"zerolinecolor\":\"white\",\"gridwidth\":2},\"zaxis\":{\"backgroundcolor\":\"#E5ECF6\",\"gridcolor\":\"white\",\"linecolor\":\"white\",\"showbackground\":true,\"ticks\":\"\",\"zerolinecolor\":\"white\",\"gridwidth\":2}},\"shapedefaults\":{\"line\":{\"color\":\"#2a3f5f\"}},\"annotationdefaults\":{\"arrowcolor\":\"#2a3f5f\",\"arrowhead\":0,\"arrowwidth\":1},\"geo\":{\"bgcolor\":\"white\",\"landcolor\":\"#E5ECF6\",\"subunitcolor\":\"white\",\"showland\":true,\"showlakes\":true,\"lakecolor\":\"white\"},\"title\":{\"x\":0.05},\"mapbox\":{\"style\":\"light\"}}},\"xaxis\":{\"anchor\":\"y\",\"domain\":[0.0,1.0],\"title\":{\"text\":\"x\"}},\"yaxis\":{\"anchor\":\"x\",\"domain\":[0.0,1.0],\"title\":{\"text\":\"y\"}},\"coloraxis\":{\"colorbar\":{\"title\":{\"text\":\"color\"}},\"colorscale\":[[0.0,\"#0d0887\"],[0.1111111111111111,\"#46039f\"],[0.2222222222222222,\"#7201a8\"],[0.3333333333333333,\"#9c179e\"],[0.4444444444444444,\"#bd3786\"],[0.5555555555555556,\"#d8576b\"],[0.6666666666666666,\"#ed7953\"],[0.7777777777777778,\"#fb9f3a\"],[0.8888888888888888,\"#fdca26\"],[1.0,\"#f0f921\"]]},\"legend\":{\"tracegroupgap\":0},\"margin\":{\"t\":60}},                        {\"responsive\": true}                    ).then(function(){\n",
       "                            \n",
       "var gd = document.getElementById('2f0ce9d3-669e-4188-99ec-816ab1b7f2f2');\n",
       "var x = new MutationObserver(function (mutations, observer) {{\n",
       "        var display = window.getComputedStyle(gd).display;\n",
       "        if (!display || display === 'none') {{\n",
       "            console.log([gd, 'removed!']);\n",
       "            Plotly.purge(gd);\n",
       "            observer.disconnect();\n",
       "        }}\n",
       "}});\n",
       "\n",
       "// Listen for the removal of the full notebook cells\n",
       "var notebookContainer = gd.closest('#notebook-container');\n",
       "if (notebookContainer) {{\n",
       "    x.observe(notebookContainer, {childList: true});\n",
       "}}\n",
       "\n",
       "// Listen for the clearing of the current output cell\n",
       "var outputEl = gd.closest('.output');\n",
       "if (outputEl) {{\n",
       "    x.observe(outputEl, {childList: true});\n",
       "}}\n",
       "\n",
       "                        })                };                });            </script>        </div>"
      ]
     },
     "metadata": {},
     "output_type": "display_data"
    }
   ],
   "source": [
    "fig = px.scatter(x=xs, y=ys, color=scores, hover_data=[label])\n",
    "fig.show()"
   ]
  },
  {
   "cell_type": "code",
   "execution_count": 96,
   "id": "ba2ffbe1",
   "metadata": {},
   "outputs": [],
   "source": [
    "class SpatialIndex:\n",
    "    \n",
    "    def __init__(self, resolution, sample):\n",
    "        \n",
    "        sample.dropna() # Get rid of problematic rows with nas\n",
    "        \n",
    "        for i in sample.index:\n",
    "            try:\n",
    "                g = OSGridConverter.latlong2grid (sample.at[i, 'lat'], sample.at[i, 'lon'], tag = 'WGS84')\n",
    "                sample.at[i, 'x'] = g.E\n",
    "                sample.at[i, 'y'] = g.N\n",
    "            except ValueError:\n",
    "                #print(\"Problem with a document\", sample.at[i,'id'])\n",
    "                sample = sample.drop(i)\n",
    "\n",
    "        # Now we can set up the parameters for our index        \n",
    "        self.resolution = resolution\n",
    "\n",
    "        self.minx = sample['x'].min()\n",
    "        self.maxx = sample['x'].max()\n",
    "        self.miny = sample['y'].min()\n",
    "        self.maxy = sample['y'].max()\n",
    "\n",
    "        w = self.maxx - self.minx\n",
    "        h = self.maxy - self.miny\n",
    "\n",
    "        nc = int(w/self.resolution) + 1\n",
    "        nr = int(h/self.resolution) + 1\n",
    "\n",
    "        #print(maxx, minx, maxy, miny)\n",
    "        #print(nr, nc)\n",
    "\n",
    "        #Build the spatial index now\n",
    "        self.spatialIndex = pd.DataFrame(index=range(nc),columns=range(nr))\n",
    "\n",
    "        #Now we populate the index with document ids\n",
    "        for index, row in sample.iterrows():\n",
    "            i = int((row['x'] - self.minx)/self.resolution)\n",
    "            j = int((row['y'] - self.miny)/self.resolution)\n",
    "            id = row['id']\n",
    "    \n",
    "            #print(row['id'])\n",
    "            #print(row['x'],row['y'],i,j)\n",
    "            if pd.isnull(self.spatialIndex.at[i,j]):\n",
    "                self.spatialIndex.at[i,j] = {id:(row['x'],row['y'])}\n",
    "            else:\n",
    "                names = self.spatialIndex.at[i,j]\n",
    "                names.update({id:(row['x'],row['y'])})\n",
    "                self.spatialIndex.at[i,j] = names\n",
    "\n",
    "        \n",
    "    def rangeQuery(self, dist, point):\n",
    "        x1 = point[0] - dist/2\n",
    "        x2 = point[0] + dist/2\n",
    "        y1 = point[1] - dist/2\n",
    "        y2 = point[1] + dist/2\n",
    "    \n",
    "        i1 = int((x1 - self.minx)/self.resolution)\n",
    "        j1 = int((y1 - self.miny)/self.resolution)\n",
    "        i2 = int((x2 - self.minx)/self.resolution) + 1\n",
    "        j2 = int((y2 - self.miny)/self.resolution) + 1\n",
    "\n",
    "        # Retrieve only the relevant part of the index\n",
    "        result = self.spatialIndex.iloc[i1:i2, j1:j2]\n",
    "        # Turn the data frame into a 1d list\n",
    "        tlist = result.values.flatten()\n",
    "        # Remove all the nans\n",
    "        filtered = filter(lambda i:not(type(i) is float), tlist)\n",
    "        \n",
    "        #Rank by distance\n",
    "        ranked = {}\n",
    "        for item in filtered:\n",
    "            for key in item:\n",
    "                d = si.dist(point, item[key])\n",
    "                #print(key, item[key], dist)\n",
    "                ranked[key] = d    \n",
    "        ranked = dict(sorted(ranked.items(), key = lambda x: x[1], reverse=False))\n",
    "                \n",
    "        return ranked\n",
    "    \n",
    "    def dist(self, p1, p2):\n",
    "        #print(p1[0], p1[1], p2[0], p2[1])\n",
    "        dist = (((p1[0] - p2[0]) ** 2) + ((p1[1] - p2[1]) ** 2)) ** 0.5\n",
    "        #print(dist)\n",
    "        return dist"
   ]
  },
  {
   "cell_type": "code",
   "execution_count": null,
   "id": "92390576",
   "metadata": {},
   "outputs": [],
   "source": []
  },
  {
   "cell_type": "code",
   "execution_count": 2,
   "id": "9c7fe898",
   "metadata": {},
   "outputs": [],
   "source": [
    "import pandas as pd #To use pandas for elegant data handling\n",
    "import spacy #Our NLP tools\n",
    "import math\n",
    "\n",
    "class Postings:\n",
    "    \n",
    "    def __init__(self, firstMondayTerms, sample):\n",
    "        #Load a language model to do NLP\n",
    "        self.nlp = spacy.load(\"en_core_web_md\")\n",
    "        self.ndocs = len(sample)\n",
    "                \n",
    "        # firstMonday works like an inverse stop list, and we only use words in these lists for our posting file\n",
    "        if firstMondayTerms:\n",
    "            list = {}\n",
    "            elements = set(pd.read_csv('./data/elements.txt', header=None)[0])\n",
    "            qualities = set(pd.read_csv('./data/qualities.txt', header=None)[0])\n",
    "            activities = set(pd.read_csv('./data/activities.txt', header=None)[0])\n",
    "\n",
    "            terms = elements.union(qualities).union(activities)\n",
    "            lemmas = ' '.join(str(e) for e in terms)\n",
    "\n",
    "            doc = self.nlp(lemmas)\n",
    "            terms = set()\n",
    "            for token in doc:\n",
    "                terms.add(token.lemma_)\n",
    "                \n",
    "            # Now we process our corpus and create a postings file\n",
    "            docs = self.nlp.pipe(sample.text,n_process=2, batch_size=100)\n",
    "\n",
    "            self.postings = dict()\n",
    "\n",
    "            for (idxRow, s1), (_, s2) in zip(sample.iterrows(), enumerate(docs)):\n",
    "                id = s1.id\n",
    "                for token in s2:\n",
    "                    lemma = token.lemma_\n",
    "                    if lemma in terms:\n",
    "\n",
    "                        if lemma in self.postings:\n",
    "                            tf = self.postings[lemma]\n",
    "                            if id in tf:\n",
    "                                tf[id] = tf[id] + 1\n",
    "                            else:\n",
    "                                tf[id] = 1\n",
    "                        else:\n",
    "                            tf = {id: 1}\n",
    "                        self.postings[lemma] = tf\n",
    "                        \n",
    "    def tfIdf(self, query):\n",
    "        results = {}\n",
    "        qdoc = self.nlp(query)\n",
    "        for token in qdoc:\n",
    "            qt = token.lemma_\n",
    "            if qt in self.postings:\n",
    "                dc = len(self.postings[qt])\n",
    "                idf = math.log10(self.ndocs/(dc + 1))\n",
    "                for doc in self.postings[qt]:\n",
    "                    tf = self.postings[qt][doc]\n",
    "                    tfidf = tf * idf\n",
    "                    if doc in results:\n",
    "                        score = results[doc]\n",
    "                        results[doc] = tfidf + score\n",
    "                    else:\n",
    "                        results[doc] = tfidf\n",
    "        results = dict(sorted(results.items(), key = lambda x: x[1], reverse=True))\n",
    "        \n",
    "        return results"
   ]
  },
  {
   "cell_type": "code",
   "execution_count": 3,
   "id": "622ab43c",
   "metadata": {},
   "outputs": [],
   "source": [
    "import pandas as pd #To use pandas for elegant data handling\n",
    "# Feature codes in gazetteer are as follows:\n",
    "# A Antiquity (non-Roman)\n",
    "# F Forest or wood\n",
    "# FM Farm\n",
    "# H Hill or mountain\n",
    "# R Antiquity (Roman)\n",
    "# C City\n",
    "# T Town\n",
    "# O Other\n",
    "# W Water feature\n",
    "# X All other features\n",
    "\n",
    "class Gazetteer:\n",
    "    \n",
    "    def __init__(self):\n",
    "        self.gaz = dict()\n",
    "        self.offset = {'C': 2000, 'T':500, 'H':250, 'F':500}\n",
    "        # Read in gazetteer data\n",
    "        os_50k = pd.read_csv('./data/50kgaz2012.txt',sep=':', encoding='utf8', header=None)\n",
    "        os_trimmed = os_50k.drop([0,1,3,4,5,6,7,10,11,12,15,16,17,18,19], axis = 1)\n",
    "        os_trimmed.columns = ['name','y','x','county','type']\n",
    "        for index, row in os_trimmed.iterrows():\n",
    "            name = row['name']\n",
    "            entry = os_trimmed.iloc[index].values \n",
    "            # Store gazetteer in a dictionary of unique names\n",
    "            if name in self.gaz:\n",
    "                entries = self.gaz[name]\n",
    "                entries.append(entry)\n",
    "                self.gaz[name] = entries\n",
    "            else:\n",
    "                self.gaz[name] = [entry]\n",
    "            \n",
    "    def getLocation(self, name):\n",
    "        if (name in self.gaz) == False:\n",
    "            return('Name not found in gazetteer')\n",
    "\n",
    "        if len(self.gaz[name]) > 1:\n",
    "            # We let the user disambiguate\n",
    "            i = 0\n",
    "            print(\"This place name is ambiguous - choose an entry\")\n",
    "            for entry in self.gaz[name]:\n",
    "                print(f'{i}: {name}, {entry[3]}')\n",
    "                i = i + 1\n",
    "            index = int(input(\"Choose a value:\"))\n",
    "            entry = self.gaz[name][index]\n",
    "        else:\n",
    "            entry = self.gaz[name][0]\n",
    "            \n",
    "        print(entry)\n",
    "        x = entry[2]\n",
    "        y = entry[1]\n",
    "            \n",
    "        if entry[4] in self.offset:\n",
    "            diff = self.offset[entry[4]]\n",
    "            return (x,y,x-diff, y-diff, x + diff, y + diff)\n",
    "        else:\n",
    "            return(x,y)\n",
    "                                    \n",
    "    def gazDump(self):\n",
    "        for name in self.gaz:\n",
    "            print(name)\n",
    "            print(self.gaz[name])\n",
    "            "
   ]
  },
  {
   "cell_type": "code",
   "execution_count": 225,
   "id": "84017327",
   "metadata": {},
   "outputs": [
    {
     "name": "stdout",
     "output_type": "stream",
     "text": [
      "spacy          : 3.3.1\n",
      "matplotlib     : 3.5.2\n",
      "OSGridConverter: 0.1.3\n",
      "pandas         : 1.4.4\n",
      "numpy          : 1.21.5\n",
      "plotly         : 5.9.0\n",
      "\n"
     ]
    }
   ],
   "source": [
    "#output all dependencies so that we can reproduce the notebook (we only need this to set things up for Binder)\n",
    "%load_ext watermark\n",
    "%watermark --iversions"
   ]
  },
  {
   "cell_type": "code",
   "execution_count": null,
   "id": "fbdbce06",
   "metadata": {},
   "outputs": [],
   "source": []
  }
 ],
 "metadata": {
  "kernelspec": {
   "display_name": "Python 3 (ipykernel)",
   "language": "python",
   "name": "python3"
  },
  "language_info": {
   "codemirror_mode": {
    "name": "ipython",
    "version": 3
   },
   "file_extension": ".py",
   "mimetype": "text/x-python",
   "name": "python",
   "nbconvert_exporter": "python",
   "pygments_lexer": "ipython3",
   "version": "3.9.13"
  }
 },
 "nbformat": 4,
 "nbformat_minor": 5
}
